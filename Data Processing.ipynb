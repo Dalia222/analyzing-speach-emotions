{
 "cells": [
  {
   "cell_type": "markdown",
   "id": "b5720713",
   "metadata": {},
   "source": [
    "<h1 style=\"text-align:center; font-family:Georgia; font-weight:bold; \">Imports</h1>"
   ]
  }
 ],
 "metadata": {
  "language_info": {
   "name": "python"
  }
 },
 "nbformat": 4,
 "nbformat_minor": 5
}
