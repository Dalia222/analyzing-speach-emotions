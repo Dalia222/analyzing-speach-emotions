{
 "cells": [
  {
   "cell_type": "markdown",
   "id": "b5720713",
   "metadata": {},
   "source": [
    "<h1 style=\"text-align:center; font-family:Georgia; font-weight:bold; \">Imports</h1>"
   ]
  },
  {
   "cell_type": "code",
   "execution_count": 57,
   "id": "636d64d3",
   "metadata": {},
   "outputs": [],
   "source": [
    "import re\n",
    "import ast\n",
    "import nltk\n",
    "import json\n",
    "import spacy\n",
    "import numpy as np\n",
    "import pandas as pd\n",
    "from collections import Counter\n",
    "import gensim.downloader as api\n",
    "from nltk.corpus import stopwords\n",
    "from tensorflow.keras import layers, Input \n",
    "from tensorflow.keras.utils import to_categorical\n",
    "from sklearn.model_selection import train_test_split\n",
    "from tensorflow.keras.models import  Model\n",
    "from sklearn.preprocessing import LabelEncoder, StandardScaler\n",
    "from tensorflow.keras.preprocessing.sequence import pad_sequences\n",
    "from tensorflow.keras.layers import Embedding, Bidirectional, Dense, Dropout, Concatenate, GlobalMaxPooling1D\n",
    "from sklearn.metrics import (\n",
    "    accuracy_score,\n",
    "    precision_score,\n",
    "    recall_score,\n",
    "    f1_score,\n",
    "    confusion_matrix,\n",
    "    classification_report,\n",
    ")"
   ]
  },
  {
   "cell_type": "code",
   "execution_count": 2,
   "id": "85b938b9",
   "metadata": {},
   "outputs": [],
   "source": [
    "word2vec = api.load(\"word2vec-google-news-300\")  \n",
    "# nltk.download(\"punkt_tab\")\n",
    "# nltk.download(\"stopwords\")\n",
    "# nltk.download(\"wordnet\")\n",
    "# spacy.cli.download(\"en_core_web_sm\")\n",
    "# nltk.download('averaged_perceptron_tagger_eng')\n",
    "# nlp = spacy.load(\"en_core_web_sm\")"
   ]
  },
  {
   "cell_type": "markdown",
   "id": "99e485d5",
   "metadata": {},
   "source": [
    "<h1 style=\"text-align:center; font-family:Georgia; font-weight:bold; \">Constants and Global Variables</h1>"
   ]
  },
  {
   "cell_type": "code",
   "execution_count": 34,
   "id": "af40173f",
   "metadata": {},
   "outputs": [],
   "source": [
    "# text = pd.read_csv('Collected Datasets/text.csv')\n",
    "\n",
    "EMOTIONS = ['happiness', 'neutral', 'sadness', 'anger', 'fear', ]\n",
    "MAPPER = {emotion: [] for emotion in EMOTIONS}\n",
    "\n",
    "scaler = StandardScaler()\n",
    "encoder = LabelEncoder()\n",
    "encoder.classes_ = np.array(EMOTIONS)\n",
    "\n",
    "nlp = spacy.load(\"en_core_web_sm\")\n",
    "lemmatizer = nltk.WordNetLemmatizer()\n",
    "STOP_WORDS = set(stopwords.words(\"english\"))\n",
    "STOP_WORDS = STOP_WORDS.difference({'no', 'not', 'nor', 'never', \"n't\"})\n",
    "\n",
    "MODELS = [layers.LSTM, layers.GRU, layers.SimpleRNN]\n",
    "BATCH_SIZE = 32\n",
    "EPOCHS = 12\n",
    "POS_EMBED_DIM = 10\n",
    "LSTM_UNITS = 128\n",
    "DENSE_UNITS = 64\n",
    "DROPOUT_RATE = 0.3\n",
    "MAXLEN = 35\n"
   ]
  },
  {
   "cell_type": "code",
   "execution_count": 4,
   "id": "9889ce49",
   "metadata": {},
   "outputs": [
    {
     "name": "stdout",
     "output_type": "stream",
     "text": [
      "{'happiness': ['joyful', 'ecstatic', 'content', 'cheerful', 'elated', 'delighted', 'pleased', 'radiant', 'euphoric', 'jovial', 'happy', 'merry', 'exuberant', 'overjoyed', 'satisfied', 'grateful', 'sunny', 'bubbly', 'lively', 'gleeful', 'glad', 'in high spirits', 'laughing', 'thrilled', 'blissful', 'carefree', 'exhilarated', 'optimistic', 'chipper', 'buoyant', 'uplifted', 'beaming', 'jubilant', 'proud', 'alive', 'zestful', 'lighthearted', 'upbeat', 'charmed', 'tickled pink', 'rapturous', 'in a good mood', 'on cloud nine', 'pumped', 'excited', 'grinning', 'eager', 'silly', 'pleased as punch', 'mirthful', 'vibrant', 'giddy', 'serene', 'festive', 'playful', 'contented', 'radiant', 'laughing fit', 'high-spirited', 'in a good place', 'carefree', 'light', 'breezy', 'sociable', 'enthusiastic', 'pleased with oneself', 'joyous', 'sweet', 'sanguine', 'delighted beyond words', 'up and about', 'full of life', 'tickled', 'exultant', 'bouncy', 'happy-go-lucky', 'energetic', 'on top of the world', 'hilarious', 'bright-eyed', 'loving', 'grateful for', 'full of joy', 'blithe', 'cheery', 'in a daze of happiness', 'chipper', 'playful spirit', 'bright', 'smiling', 'charmed', 'vivid', 'sparkling', 'full of smiles', 'luminous', 'affectionate', 'grinning from ear to ear', 'gleaming', 'funky', 'funky happy', 'over the moon', 'dancing with joy', 'radiant smile', 'energetic', 'charming', 'beaming with happiness', 'bouncy spirit', 'grateful attitude', 'feeling good', 'happy heart', 'exulting', 'pure happiness', 'in a blissful state', 'happy as can be', 'zippy', 'gleaming face', 'spirited', 'cheerful outlook', 'confident', 'arrogant', 'self-assured', 'egoistic', 'proud', 'self-satisfied', 'boastful', 'conceited', 'vainglorious', 'self-important', 'overconfident', 'haughty', 'vain', 'narcissistic', 'immodest', 'elated', 'gratified', 'honored', 'accomplished', 'pompous', 'dignified', 'venerated', 'satisfied', 'high-minded', 'distinguished', 'superior', 'egocentric', 'chauvinistic', 'complacent', 'exalted', 'ambitious', 'magnificent', 'prestigious', 'flattered', 'self-regarding', 'boasting', 'victorious', 'dominant', 'triumphant', 'admired', 'self-satisfied', 'lauded', 'haughty attitude', 'self-respecting', 'worthy', 'proud of', 'conspicuous', 'famous', 'grateful', 'dignified stance', 'self-assertive', 'noble', 'honorable', 'glorious', 'self-reliant', 'joyful', 'radiant', 'regal', 'elated', 'acknowledged', 'appreciated', 'overachieving', 'impressive', 'esteemed', 'valiant', 'glorious victory', 'admiring', 'full of pride', 'lauded victory', 'unyielding', 'indomitable', 'influential', 'fulfilled', 'self-confident', 'recognized', 'high-achieving', 'exceptional', 'endowed', 'basking in glory', 'on top of the world', 'victorious', 'in command', 'prestigious', 'acclaimed', 'fortune', 'inspired'], 'neutral': ['calm', 'relaxed', 'indifferent', 'unmoved', 'nonchalant', 'detached', 'composed', 'serene', 'unperturbed', 'stable', 'content', 'peaceful', 'unfazed', 'balanced', 'even-tempered', 'at ease', 'tranquil', 'bland', 'unexcited', 'uninterested', 'unaffected', 'mild', 'moderate', 'unconcerned', 'steady', 'emotionless', 'stable-minded', 'level-headed', 'unemotional', 'dispassionate', 'composed', 'neutralized', 'unflustered', 'unmoved', 'distant', 'cool-headed', 'meh', 'unenthusiastic', 'unbiased', 'flat', 'undisturbed', 'equilibrium', 'non-reactive', 'stoic', 'unstirred', 'inexpressive', 'balanced', 'disengaged', 'unresponsive', 'uneffected', 'even-tempered', 'disinterested', 'tranquilized', 'non-responsive', 'at peace', 'undisturbed', 'underwhelmed', 'faint', 'low-key', 'subdued', 'equanimous', 'nonchalant mood', 'unobtrusive', 'steady-handed', 'monotone', 'lack of feeling', 'unwavering', 'unperturbed', 'calmness', 'even-keeled', 'unruffled', 'emotion-free', 'cool', 'understated', 'unmoved by', 'clear-headed', 'stable state', 'unshaken', 'normal', 'rational', 'indifferent tone', 'unaltered', 'inoffensive', 'passive', 'smooth', 'cool-headed', 'detachment', 'harmonious', 'without reaction', 'undistracted', 'calmed', 'still', 'unbothered', 'unaffected reaction', 'neutral stance', 'subtle', 'calm demeanor'], 'sadness': ['melancholy', 'heartbroken', 'mournful', 'sorrowful', 'grief-stricken', 'downhearted', 'despondent', 'depressed', 'blue', 'dismal', 'forlorn', 'gloomy', 'disheartened', 'desolate', 'crestfallen', 'woeful', 'unhappy', 'lugubrious', 'dismayed', 'tearful', 'doleful', 'dispirited', 'heavy-hearted', 'wretched', 'low-spirited', 'sorrowing', 'glum', 'downcast', 'depressed', 'inconsolable', 'bitter', 'hopeless', 'sad', 'pained', 'grief', 'in sorrow', 'weeping', 'distressed', 'shattered', 'unfulfilled', 'lonely', 'morose', 'blue mood', 'lifeless', 'down', 'mournful', 'grieving', 'tear-stained', 'languishing', 'hopelessness', 'saddened', 'tired', 'defeated', 'crushed', 'dreadful', 'heavy soul', 'weary', 'despair', 'disappointed', 'broken-hearted', 'aching', 'out of sorts', 'gloom', 'exhausted', 'crying', 'despondency', 'empty', 'heartache', 'tearful eyes', 'woebegone', 'hurt', 'pain', 'sulk', 'downhearted', 'pessimistic', 'frustrated', 'sighing', 'unmotivated', 'defeated', 'isolated', 'unhappy', 'mourn', 'discontented', 'hopeless', 'anguish', 'dread', 'crushed spirit', 'grief-stricken', 'sullen', 'withdrawn', 'overwhelmed', 'stricken', 'despairing', 'unwell', 'sick at heart', 'struggling', 'gloominess', 'bitter tears', 'longing', 'broken', 'sad-faced', 'down in the dumps', 'overcome with grief', 'woe', 'dejected', 'saddened by', 'feeling low', 'tearful', 'lost', 'empty-hearted', 'dull', 'stale', 'losing hope', 'discontent', 'regretful', 'doubting', 'tired soul', 'miserable', 'numb', 'dejected heart', 'grieving soul', 'suffering', 'heartache', 'choked up', 'falling apart', 'empty feeling'], 'anger': ['furious', 'livid', 'enraged', 'mad', 'irritated', 'outraged', 'infuriated', 'annoyed', 'fuming', 'wrathful', 'agitated', 'exasperated', 'vexed', 'infuriated', 'incensed', 'hostile', 'mad as a hornet', 'irate', 'raging', 'seething', 'boiling', 'ticked off', 'cross', 'aggrieved', 'angry', 'fretful', 'upset', 'hot under the collar', 'on edge', 'frenzied', 'resentful', 'violent', 'riled', 'wrath', 'vehement', 'indignant', 'spiteful', 'bitter', 'scornful', 'indignant', 'mad as hell', 'offended', 'fuming mad', 'red-faced', 'displeased', 'riled up', 'disgruntled', 'agitated', 'boiling over', 'miffed', 'heated', \"at the end of one's rope\", 'livid', 'fired up', 'irritable', 'apoplectic', 'blazing', 'wrathful', 'explosive', 'choleric', 'in a rage', 'overheated', 'short-tempered', 'smoldering', 'testy', 'worked up', 'off the rails', 'mad dog', 'fiery', 'stoked', 'madcap', 'blistering', 'sour', 'indignant', 'out of sorts', 'in a fury', 'madcap', 'displeased', 'out of control', 'twisted', 'beside oneself', 'troubled', 'upset', 'in a tizz', 'pissed off', 'steaming', 'enraged', 'incensed', 'bitter', 'impassioned', 'discomposed', 'agog', 'fuming', 'on the warpath', 'riled', 'enflamed', 'exasperated', 'boiling with rage', 'infuriated', 'furious as a bull', 'scornful', 'disdainful', 'disrespectful', 'mocking', 'sneering', 'contemptuous', 'derisive', 'condescending', 'arrogant', 'superior', 'patronizing', 'sarcastic', 'disparaging', 'haughty', 'insulting', 'belittling', 'critical', 'despising', 'snide', 'judgmental', 'nasty', 'dismissive', 'scathing', 'offensive', 'snobbish', 'contempt', 'indifferent', 'supercilious', 'unconcerned', 'cynical', 'pompous', 'snooty', 'scorn', 'derision', 'rude', 'irritable', 'disparage', 'detracting', 'disrespect', 'sarcasm', 'condescending tone', 'haughty attitude', 'scornful laughter', 'sneer', 'unapproachable', 'intolerant', 'patronizing attitude', 'disdain', 'mock', 'demeaning', 'uncaring', 'exasperating', 'dismissive attitude', 'snide remarks', 'contemptuous glance', 'inferior', 'belittle', 'indifference', 'degrading', 'displeasure', 'arrogance', 'aloof', 'uninterested', 'condemn', 'devaluing', 'ridicule', 'scornful behavior', 'patronizing behavior', 'abrasive', 'unfriendly', 'hostile', 'abusive', 'disrespectful remarks', 'condescending expression', 'low regard', 'disdainful look', 'snobbish attitude', 'loathsome', 'dismissing', 'scorned', 'unimpressed', 'disapproving', 'derogatory', 'contemptuous tone', 'disdainful smile', 'insult', 'reproach', 'arrogant demeanor', 'dismiss', 'mockery', 'pity', 'undermining', 'cold', 'self-important', 'nauseated', 'repulsed', 'grossed out', 'revolted', 'sickened', 'displeased', 'contaminated', 'distasteful', 'abhorrent', 'loathing', 'disgusted', 'offended', 'horrified', 'abhorrence', 'repelled', 'revulsion', 'unpleasant', 'shocking', 'unappealing', 'foul', 'vile', 'sick', 'displeasing', 'repelling', 'appalling', 'ghastly', 'detestable', 'revolting', 'unbearable', 'horrid', 'putrid', 'nasty', 'vile', 'disgusting', 'unclean', 'obnoxious', 'grotesque', 'detestable', 'noxious', 'offensive', 'filthy', 'disgraceful', 'foul-smelling', 'rank', 'repugnant', 'off-putting', 'stinky', 'detested', 'unpleasant', 'abominable', 'offensive', 'repelling', 'degrading', 'putrid', 'pestilent', 'inhumane', 'disgraceful', 'unhygienic', 'unclean', 'filthy', 'stinky', 'distasteful', 'rebarbative', 'toxic', 'polluted', 'offensive', 'depraved', 'revolting', 'disdainful', 'offending', 'noxious', 'heinous', 'discomfiting', 'contaminated', 'haunting', 'noxious', 'unsightly', 'nauseous', 'degraded', 'sorrowful', 'sorrowful', 'unpleasant', 'grotty', 'loathsome', 'repugnant', 'appalling', 'dismal', 'perverse', 'nasty', 'odious', 'unwanted', 'unsettling', 'wretched', 'gag-worthy', 'disfavor', 'bad-tasting', 'abominable', 'unenjoyable', 'smelly', 'awful', 'offensive', 'spiteful', 'annoyed', 'irritated', 'exasperated', 'agitated', 'angered', 'vexed', 'displeased', 'disappointed', 'impatient', 'furious', 'infuriated', 'upset', 'anguish', 'fuming', 'tense', 'frustrated', 'disturbed', 'bitter', 'worn-out', 'exhausted', 'irritable', 'frantic', 'testy', 'enraged', 'dismayed', 'outraged', 'livid', 'frenzied', 'fretful', 'distressed', 'resentful', 'peeved', 'vexing', 'troubled', 'ruffled', 'mad', 'discontent', 'aggravated', 'impetuous', 'disgruntled', 'frayed', 'stressed', 'dissatisfied', 'tense mood', 'grumpy', 'bothered', 'riled up', 'annoyance', 'exasperating', 'hostile', 'annoyance', 'cranky', 'disillusioned', 'disheartened', 'upsetting', 'provoked', 'perplexed', 'tired', 'strained', 'constrained', 'chafed', 'worried', 'embittered', 'fed up', 'vexed state', 'jaded', 'frayed nerves', 'irritate', 'imprisoned', 'maddened', 'perturbed', 'despondent', 'agonized', 'discomforted', 'soured', 'disturbed', 'unsettled', 'chronic frustration', 'overloaded', 'under pressure', 'exasperated mood', 'frustrated', 'restless', 'soured mood', 'indignant', 'pressured', 'seething', 'agony', 'fuming', 'nervy', 'overwhelmed', 'revolted', 'beaten down', 'dissatisfied with', 'cranky mood', 'displeasure', 'irritable mood', 'harried', 'impatiently', 'restive', 'worn-out nerves', 'peevish', 'angry disposition', 'discontented', 'bitter frustration', 'nervous energy', 'stressed out', 'tired of', 'jumpy', 'nervous breakdown'], 'fear': ['terrified', 'scared', 'afraid', 'frightened', 'horrified', 'panic', 'alarmed', 'anxious', 'nervous', 'apprehensive', 'horrified', 'startled', 'terrorized', 'shocked', 'apprehensive', 'fearful', 'dreadful', 'spooked', 'uneasy', 'worried', 'jittery', 'disturbed', 'tense', 'shaking', 'sweating', 'paranoid', 'hesitant', 'timid', 'jumpy', 'trembling', 'overwhelmed', 'fear-stricken', 'fearful', 'creeped out', 'dismayed', 'petrified', 'nervy', 'unsettled', 'chilled', 'shuddering', 'skeptical', 'hasty', 'wary', 'terrifying', 'dread', 'panicked', 'insecure', 'scary', 'hesitant', 'anxious', 'choked up', 'horrified', 'alarmed', 'spooked', 'afraid of', 'terrified of', 'freaked out', 'frantic', 'fright', 'trepidation', 'shivering', 'fearful of', 'intimidated', 'jumpy', 'distressed', 'uneasy', 'nervousness', 'chilly', 'apprehensive', 'nervously', 'dismayed', 'spooked out', 'frozen', 'on edge', 'panicked', 'horrified', 'terrifying', 'dreadful', 'uneasy feeling', 'vulnerable', 'spine-chilling', 'in fear', 'quaking', 'choked', 'panicked', 'creeped', 'worried', 'terrifying', 'aghast', 'shaky', 'overcome with fear', 'frightening', 'stunned', 'agitated', 'suspicious', 'insecure feeling', 'terror', 'panic-stricken', 'gasping', 'horrified look', 'overcome by fear', 'terrible', 'dreaded', 'fearful look', 'terrified stare', 'scary', 'frightening appearance']}\n"
     ]
    }
   ],
   "source": [
    "'''Emotional Lexicons'''\n",
    "wordMap = pd.read_csv('wordMap.csv')\n",
    "for emotion in wordMap.columns.to_list():\n",
    "    words = [str(word).lower() for word in wordMap[emotion].dropna()]\n",
    "    if emotion.lower() in EMOTIONS: MAPPER[emotion.lower()] = words\n",
    "    if emotion in ['Calm', 'Boredom']: MAPPER['neutral'] += words   \n",
    "    if emotion in ['Excitement', 'Pride']: MAPPER['happiness'] += words\n",
    "    if emotion in ['Disgust', 'Frustration', 'Contempt']: MAPPER['anger'] += words\n",
    "\n",
    "print(MAPPER)\n"
   ]
  },
  {
   "cell_type": "code",
   "execution_count": 5,
   "id": "b268c4af",
   "metadata": {},
   "outputs": [
    {
     "name": "stdout",
     "output_type": "stream",
     "text": [
      "<class 'pandas.core.frame.DataFrame'>\n",
      "Index: 195 entries, 0 to 262\n",
      "Data columns (total 2 columns):\n",
      " #   Column       Non-Null Count  Dtype \n",
      "---  ------       --------------  ----- \n",
      " 0   Contraction  195 non-null    object\n",
      " 1   Meaning      195 non-null    object\n",
      "dtypes: object(2)\n",
      "memory usage: 4.6+ KB\n"
     ]
    }
   ],
   "source": [
    "'''Contractions'''\n",
    "with open(\"Common English Contractions/contractions.json\" , 'r') as file:\n",
    "    contractions = json.load(file)\n",
    "    \n",
    "contractions = pd.DataFrame(list(contractions.items()), columns=[\"Contraction\", \"Meaning\"])\n",
    "contractions = pd.concat([contractions, pd.read_csv(\"Common English Contractions/contractions.csv\")], ignore_index=True)\n",
    "contractions.drop_duplicates(inplace=True)\n",
    "contractions[\"Contraction\"] = contractions[\"Contraction\"].str.lower()\n",
    "contractions[\"Meaning\"] = contractions[\"Meaning\"].str.lower()\n",
    "contractions.info()\n",
    "contractions = contractions.set_index(\"Contraction\").to_dict()[\"Meaning\"]"
   ]
  },
  {
   "cell_type": "markdown",
   "id": "9d1660d7",
   "metadata": {},
   "source": [
    "<h1 style=\"text-align:center; font-family:Georgia; font-weight:bold; \">Cleaning and Preprocessing</h1>"
   ]
  },
  {
   "cell_type": "markdown",
   "id": "54f53154",
   "metadata": {},
   "source": [
    "<pre>\n",
    "- All characters are lowercase\n",
    "- No non alphabetic characters or numbers\n",
    "</pre>"
   ]
  },
  {
   "cell_type": "code",
   "execution_count": 6,
   "id": "c09fe048",
   "metadata": {},
   "outputs": [],
   "source": [
    "def encode(data, f=\"train\"):\n",
    "    if f == \"train\":\n",
    "        data = encoder.fit_transform(data)\n",
    "    else:\n",
    "        data = encoder.transform(data)\n",
    "    return data"
   ]
  },
  {
   "cell_type": "code",
   "execution_count": 35,
   "id": "a64a67f1",
   "metadata": {},
   "outputs": [],
   "source": [
    "def scale(data, f=\"train\"):\n",
    "    if f == \"train\":\n",
    "        data = scaler.fit_transform(data)\n",
    "    else:\n",
    "        data = scaler.transform(data)\n",
    "    return data"
   ]
  },
  {
   "cell_type": "code",
   "execution_count": 7,
   "id": "a7568f97",
   "metadata": {},
   "outputs": [],
   "source": [
    "def filterByTextLength(data, minLen=5, maxLen=35):\n",
    "    def _lengthFilter(text):\n",
    "        if isinstance(text, str):\n",
    "            length = len(text.split())\n",
    "            return minLen <= length <= maxLen\n",
    "        return False \n",
    "    \n",
    "    filteredData = data[data[\"Text\"].apply(_lengthFilter)].reset_index(drop=True)\n",
    "    return filteredData"
   ]
  },
  {
   "cell_type": "code",
   "execution_count": 8,
   "id": "8fd03783",
   "metadata": {},
   "outputs": [],
   "source": [
    "def expandContractions(data):\n",
    "    count = 0\n",
    "    for contraction, meaning in contractions.items():\n",
    "        count += data['Text'].apply(lambda line: len(re.findall(rf'\\b{contraction}\\b', line))).sum()\n",
    "        data['Text'] = data['Text'].apply(\n",
    "            lambda line: re.sub(rf'\\b{contraction}\\b', meaning, line)\n",
    "            )\n",
    "        \n",
    "    print(\"Number of contractions removed:\", count)\n",
    "    \n",
    "    return data"
   ]
  },
  {
   "cell_type": "code",
   "execution_count": 9,
   "id": "ffdf593b",
   "metadata": {},
   "outputs": [],
   "source": [
    "def lexiconScore(data):\n",
    "    for emotion, keywords in MAPPER.items():\n",
    "        scores = []\n",
    "        totalMatches = 0 \n",
    "        for text in data['Text']:\n",
    "            words = text.lower().split()\n",
    "            counter = Counter(words)\n",
    "            totalWords = len(words)\n",
    "            score = sum(counter[word] for word in keywords)\n",
    "            normalizedScore = score / totalWords if totalWords > 0 else 0.0\n",
    "            scores.append(normalizedScore)\n",
    "            totalMatches += score\n",
    "            \n",
    "        data[f\"{emotion}Score\"] = scores\n",
    "        print(f\"Total matched words for emotion '{emotion}': {totalMatches}\")\n",
    "\n",
    "        \n",
    "    return data"
   ]
  },
  {
   "cell_type": "code",
   "execution_count": 10,
   "id": "8178d789",
   "metadata": {},
   "outputs": [],
   "source": [
    "def positionalTaggingAndTokenization(data):\n",
    "    tokenizedTexts = []\n",
    "    posTagsList = []\n",
    "    \n",
    "    for text in data[\"Text\"]:\n",
    "        doc = nlp(str(text))\n",
    "        tokens = [token.text for token in doc]\n",
    "        posTags = [token.pos_ for token in doc]\n",
    "        \n",
    "        tokenizedTexts.append(tokens)\n",
    "        posTagsList.append(posTags)\n",
    "\n",
    "    data[\"Text\"] = tokenizedTexts\n",
    "    data[\"posTag\"] = posTagsList\n",
    "    \n",
    "    return data"
   ]
  },
  {
   "cell_type": "code",
   "execution_count": 11,
   "id": "bf979e7c",
   "metadata": {},
   "outputs": [],
   "source": [
    "def stopWordRemoval(data):\n",
    "    filteredTexts = []\n",
    "    filteredPOS = []\n",
    "    \n",
    "    for tokens, tags in zip(data[\"Text\"], data[\"posTag\"]):\n",
    "        filteredTokens = []\n",
    "        filteredTags = []\n",
    "        \n",
    "        for word, tag in zip(tokens, tags):\n",
    "            if word.lower() not in STOP_WORDS:\n",
    "                filteredTokens.append(word)\n",
    "                filteredTags.append(tag)\n",
    "        \n",
    "        filteredTexts.append(filteredTokens)\n",
    "        filteredPOS.append(filteredTags)\n",
    "    \n",
    "    data[\"Text\"] = filteredTexts\n",
    "    data[\"posTag\"] = filteredPOS\n",
    "    \n",
    "    return data\n"
   ]
  },
  {
   "cell_type": "code",
   "execution_count": 12,
   "id": "017aec40",
   "metadata": {},
   "outputs": [],
   "source": [
    "def word2vecEmbedding(data, word2vec, vectorSize=300, maxLen=35):\n",
    "    tokenizedTexts = data['Text'].tolist()\n",
    "    zeroVector = np.zeros(vectorSize, dtype=np.float32)\n",
    "    sequences = []\n",
    "\n",
    "    for tokens in tokenizedTexts:\n",
    "        wordVectors = [word2vec[word] for word in tokens if word in word2vec]\n",
    "        padded = wordVectors[:maxLen] + [zeroVector] * max(0, maxLen - len(wordVectors))\n",
    "        sequences.append(np.array(padded, dtype=np.float32)) \n",
    "\n",
    "    data['embeddings'] = sequences  \n",
    "    return word2vec, data\n"
   ]
  },
  {
   "cell_type": "code",
   "execution_count": 13,
   "id": "ef795259",
   "metadata": {},
   "outputs": [],
   "source": [
    "def encodeAndPadPosTags(data, maxlen=35):\n",
    "    allPosTags = [tag for seq in data['posTag'] for tag in seq]\n",
    "    \n",
    "    posEncoder = LabelEncoder()\n",
    "    posEncoder.fit(allPosTags)\n",
    "    \n",
    "    encodedSequences = [posEncoder.transform(seq) for seq in data['posTag']]\n",
    "    posPadded = pad_sequences(encodedSequences, maxlen=maxlen, padding='post', truncating='post')\n",
    "    \n",
    "    data['posPadded'] = list(posPadded)\n",
    "    return data, posEncoder"
   ]
  },
  {
   "cell_type": "markdown",
   "id": "96cc2cb5",
   "metadata": {},
   "source": [
    "<h1 style=\"text-align:center; font-family:Georgia; font-weight:bold; \">Saving Preprocessed Data</h1>"
   ]
  },
  {
   "cell_type": "code",
   "execution_count": 14,
   "id": "411bc8d5",
   "metadata": {},
   "outputs": [],
   "source": [
    "# text = filterByTextLength(text)\n",
    "# text = expandContractions(text)\n",
    "# text = lexiconScore(text)\n",
    "# text = positionalTaggingAndTokenization(text)\n",
    "# text = stopWordRemoval(text)"
   ]
  },
  {
   "cell_type": "code",
   "execution_count": 55,
   "id": "7feebddb",
   "metadata": {},
   "outputs": [],
   "source": [
    "def buildModel(maxlen, embeddingDim, posVocabSize, lexiconScoreDim, modelType):\n",
    "    print(f\"\\nBuilding model with {modelType.__name__}\")\n",
    "    \n",
    "    embeddingsInput = Input(shape=(maxlen, embeddingDim), name=\"embeddingsInput\")\n",
    "    posInput = Input(shape=(maxlen,), name=\"posInput\")\n",
    "    lexiconInput = Input(shape=(lexiconScoreDim,), name=\"lexiconInput\")\n",
    "\n",
    "    posEmbedding = Embedding(\n",
    "        input_dim=posVocabSize, \n",
    "        output_dim=POS_EMBED_DIM,\n",
    "        name=\"posEmbedding\"\n",
    "    )(posInput)\n",
    "\n",
    "    embeddingsSeq = Bidirectional(\n",
    "        modelType(LSTM_UNITS, return_sequences=True),\n",
    "        name=\"rnnEmbedding\"\n",
    "    )(embeddingsInput)\n",
    "    embeddingsSeq = GlobalMaxPooling1D()(embeddingsSeq)\n",
    "\n",
    "    posSeq = Bidirectional(\n",
    "        modelType(LSTM_UNITS, return_sequences=True),\n",
    "        name=\"rnnPos\"\n",
    "    )(posEmbedding)\n",
    "    posSeq = GlobalMaxPooling1D()(posSeq)\n",
    "\n",
    "    print(f\"embeddingsSeq shape: {embeddingsSeq.shape}\")  \n",
    "    print(f\"posSeq shape: {posSeq.shape}\")               \n",
    "    print(f\"lexiconInput shape: {lexiconInput.shape}\") \n",
    "\n",
    "    features = Concatenate(name=\"features\")([embeddingsSeq, posSeq, lexiconInput])\n",
    "    \n",
    "    totalFeatureDim = 2 * LSTM_UNITS + 2 * LSTM_UNITS + lexiconScoreDim  \n",
    "    print(f\"Concatenated feature shape: (None, {totalFeatureDim})\")\n",
    "\n",
    "    features = Dense(DENSE_UNITS, activation=\"relu\")(features)\n",
    "    features = Dropout(DROPOUT_RATE)(features)\n",
    "    output = Dense(5, activation=\"softmax\", name=\"output\")(features)\n",
    "\n",
    "    model = Model(inputs=[embeddingsInput, posInput, lexiconInput], outputs=output)\n",
    "    model.compile(optimizer=\"adam\", loss=\"categorical_crossentropy\", metrics=[\"accuracy\"])\n",
    "    model.summary()\n",
    "    return model, modelType.__name__\n"
   ]
  },
  {
   "cell_type": "code",
   "execution_count": 16,
   "id": "649aeac5",
   "metadata": {},
   "outputs": [],
   "source": [
    "def evaluateModel(yTrue, yPred):\n",
    "    print(classification_report(yTrue, yPred, target_names=EMOTIONS))\n",
    "\n",
    "    accuracy = accuracy_score(yTrue, yPred)\n",
    "    print(f\"Accuracy: {accuracy:.4f}\")\n",
    "\n",
    "    precision = precision_score(yTrue, yPred, average=\"weighted\")\n",
    "    print(f\"Precision: {precision:.4f}\")\n",
    "\n",
    "    recall = recall_score(yTrue, yPred, average=\"weighted\")\n",
    "    print(f\"Recall: {recall:.4f}\")\n",
    "\n",
    "    f1 = f1_score(yTrue, yPred, average=\"weighted\")\n",
    "    print(f\"F1 Score: {f1:.4f}\")\n",
    "\n",
    "    cm = confusion_matrix(yTrue, yPred)\n",
    "    print(f\"Confusion Matrix:\\n{cm}\")\n",
    "\n",
    "    plt.figure(figsize=(6, 4))\n",
    "    sns.heatmap(cm, annot=True, fmt=\"d\", cmap=\"Blues\", cbar=False)\n",
    "    plt.title(\"Confusion Matrix\")\n",
    "    plt.xlabel(\"Predicted\")\n",
    "    plt.ylabel(\"Actual\")\n",
    "    plt.show()"
   ]
  },
  {
   "cell_type": "code",
   "execution_count": null,
   "id": "edd78135",
   "metadata": {},
   "outputs": [],
   "source": [
    "def train(model, xTrain, yTrain, xVal, yVal, name):\n",
    "    print(f\"\\nTraining {name} model...\")\n",
    "    model.fit(\n",
    "        [\n",
    "           xTrain[0],\n",
    "           xTrain[1],\n",
    "           xTrain[2],\n",
    "        ],\n",
    "        yTrain,\n",
    "        validation_data=(\n",
    "            [\n",
    "                xVal[0],\n",
    "                xVal[1],\n",
    "                xVal[2],\n",
    "            ],\n",
    "            yVal\n",
    "        ),\n",
    "        epochs=EPOCHS,\n",
    "        batch_size=BATCH_SIZE,\n",
    "        verbose=True,\n",
    "    )\n",
    "    return model\n"
   ]
  },
  {
   "cell_type": "code",
   "execution_count": null,
   "id": "d10c1123",
   "metadata": {},
   "outputs": [],
   "source": [
    "def compare(embeddingDim, posVocabSize, lexiconCols, xTrain, yTrain, xVal, yVal):\n",
    "    for modelType in MODELS:\n",
    "        model, name = buildModel(MAXLEN, embeddingDim, posVocabSize, len(lexiconCols), modelType)\n",
    "        model = train(model, xTrain, yTrain, xVal , yVal, name)\n",
    "        savePath = f\"Models/{name}.h5\"\n",
    "        model.save(savePath)\n",
    "        print(f\"Model saved to {savePath}\")"
   ]
  },
  {
   "cell_type": "code",
   "execution_count": 51,
   "id": "54cc4641",
   "metadata": {},
   "outputs": [
    {
     "name": "stdout",
     "output_type": "stream",
     "text": [
      "<class 'pandas.core.frame.DataFrame'>\n",
      "RangeIndex: 620227 entries, 0 to 620226\n",
      "Data columns (total 8 columns):\n",
      " #   Column          Non-Null Count   Dtype  \n",
      "---  ------          --------------   -----  \n",
      " 0   Text            620227 non-null  object \n",
      " 1   Emotion         620227 non-null  object \n",
      " 2   happinessScore  620227 non-null  float64\n",
      " 3   neutralScore    620227 non-null  float64\n",
      " 4   sadnessScore    620227 non-null  float64\n",
      " 5   angerScore      620227 non-null  float64\n",
      " 6   fearScore       620227 non-null  float64\n",
      " 7   posTag          620227 non-null  object \n",
      "dtypes: float64(5), object(3)\n",
      "memory usage: 37.9+ MB\n"
     ]
    }
   ],
   "source": [
    "data = pd.read_csv(\"Preprocessed Data/processedText.csv\")\n",
    "data.info()"
   ]
  },
  {
   "cell_type": "code",
   "execution_count": 52,
   "id": "e1e1e66c",
   "metadata": {},
   "outputs": [],
   "source": [
    "def stratifiedSample(data, labelColumn, samplesPerClass):\n",
    "    return (\n",
    "        data.groupby(labelColumn, group_keys=False)\n",
    "        .apply(lambda x: x.sample(min(len(x), samplesPerClass), random_state=42))\n",
    "        .reset_index(drop=True)\n",
    "    )\n",
    "\n",
    "data = stratifiedSample(data, labelColumn='Emotion', samplesPerClass=20000)\n",
    "embedder, data = word2vecEmbedding(data, word2vec)\n"
   ]
  },
  {
   "cell_type": "code",
   "execution_count": 48,
   "id": "f32d4396",
   "metadata": {},
   "outputs": [
    {
     "name": "stdout",
     "output_type": "stream",
     "text": [
      "<class 'pandas.core.frame.DataFrame'>\n",
      "RangeIndex: 100000 entries, 0 to 99999\n",
      "Data columns (total 9 columns):\n",
      " #   Column          Non-Null Count   Dtype  \n",
      "---  ------          --------------   -----  \n",
      " 0   Text            100000 non-null  object \n",
      " 1   Emotion         100000 non-null  object \n",
      " 2   happinessScore  100000 non-null  float64\n",
      " 3   neutralScore    100000 non-null  float64\n",
      " 4   sadnessScore    100000 non-null  float64\n",
      " 5   angerScore      100000 non-null  float64\n",
      " 6   fearScore       100000 non-null  float64\n",
      " 7   posTag          100000 non-null  object \n",
      " 8   embeddings      100000 non-null  object \n",
      "dtypes: float64(5), object(4)\n",
      "memory usage: 6.9+ MB\n",
      "<class 'pandas.core.frame.DataFrame'>\n",
      "RangeIndex: 100000 entries, 0 to 99999\n",
      "Data columns (total 9 columns):\n",
      " #   Column          Non-Null Count   Dtype  \n",
      "---  ------          --------------   -----  \n",
      " 0   Text            100000 non-null  object \n",
      " 1   Emotion         100000 non-null  object \n",
      " 2   happinessScore  100000 non-null  float64\n",
      " 3   neutralScore    100000 non-null  float64\n",
      " 4   sadnessScore    100000 non-null  float64\n",
      " 5   angerScore      100000 non-null  float64\n",
      " 6   fearScore       100000 non-null  float64\n",
      " 7   posTag          100000 non-null  object \n",
      " 8   embeddings      100000 non-null  object \n",
      "dtypes: float64(5), object(4)\n",
      "memory usage: 6.9+ MB\n"
     ]
    }
   ],
   "source": [
    "data.info()\n",
    "csv = data.copy()\n",
    "csv.to_csv(\"Preprocessed Data/processedTextMedium.csv\", index=False)\n",
    "csv.info()"
   ]
  },
  {
   "cell_type": "code",
   "execution_count": 53,
   "id": "4563c277",
   "metadata": {},
   "outputs": [],
   "source": [
    "def prepareData(data):\n",
    "    data['posTag'] = data['posTag'].apply(ast.literal_eval)\n",
    "    data, posEncoder = encodeAndPadPosTags(data)\n",
    "\n",
    "    posVocabSize = len(posEncoder.classes_)\n",
    "    embeddingDim = data['embeddings'][0].shape[1]\n",
    "    lexiconCols = [f\"{emotion}Score\" for emotion in EMOTIONS]\n",
    "    \n",
    "    data[lexiconCols] = scale(data[lexiconCols], f=\"train\")\n",
    "\n",
    "    xEmbeddings = np.stack(data['embeddings'].to_numpy()).astype(np.float32)\n",
    "    xPos = np.array(data['posPadded'].tolist())\n",
    "    xLex = data[lexiconCols].values\n",
    "\n",
    "    labelEncoder = LabelEncoder()\n",
    "    yEncoded = labelEncoder.fit_transform(data['Emotion'])\n",
    "    yCategorical = to_categorical(yEncoded)\n",
    "\n",
    "    xTrainEmbed, xValEmbed, xTrainPos, xValPos, xTrainLex, xValLex, yTrain, yVal = train_test_split(\n",
    "        xEmbeddings, xPos, xLex, yCategorical, test_size=0.2, random_state=42\n",
    "    )\n",
    "    \n",
    "    xTrain = [xTrainEmbed, xTrainPos, xTrainLex]\n",
    "    xVal = [xValEmbed, xValPos, xValLex]\n",
    "    return xTrain, yTrain, xVal, yVal, embeddingDim, posVocabSize, lexiconCols\n",
    "\n",
    "\n",
    "xTrain, yTrain, xVal, yVal, embeddingDim, posVocabSize, lexiconCols = prepareData(data)"
   ]
  },
  {
   "cell_type": "code",
   "execution_count": 58,
   "id": "e6cac7b0",
   "metadata": {},
   "outputs": [
    {
     "name": "stdout",
     "output_type": "stream",
     "text": [
      "\n",
      "Building model with LSTM\n",
      "embeddingsSeq shape: (None, 256)\n",
      "posSeq shape: (None, 256)\n",
      "lexiconInput shape: (None, 5)\n",
      "Concatenated feature shape: (None, 517)\n"
     ]
    },
    {
     "data": {
      "text/html": [
       "<pre style=\"white-space:pre;overflow-x:auto;line-height:normal;font-family:Menlo,'DejaVu Sans Mono',consolas,'Courier New',monospace\"><span style=\"font-weight: bold\">Model: \"functional_3\"</span>\n",
       "</pre>\n"
      ],
      "text/plain": [
       "\u001b[1mModel: \"functional_3\"\u001b[0m\n"
      ]
     },
     "metadata": {},
     "output_type": "display_data"
    },
    {
     "data": {
      "text/html": [
       "<pre style=\"white-space:pre;overflow-x:auto;line-height:normal;font-family:Menlo,'DejaVu Sans Mono',consolas,'Courier New',monospace\">┏━━━━━━━━━━━━━━━━━━━━━┳━━━━━━━━━━━━━━━━━━━┳━━━━━━━━━━━━┳━━━━━━━━━━━━━━━━━━━┓\n",
       "┃<span style=\"font-weight: bold\"> Layer (type)        </span>┃<span style=\"font-weight: bold\"> Output Shape      </span>┃<span style=\"font-weight: bold\">    Param # </span>┃<span style=\"font-weight: bold\"> Connected to      </span>┃\n",
       "┡━━━━━━━━━━━━━━━━━━━━━╇━━━━━━━━━━━━━━━━━━━╇━━━━━━━━━━━━╇━━━━━━━━━━━━━━━━━━━┩\n",
       "│ posInput            │ (<span style=\"color: #00d7ff; text-decoration-color: #00d7ff\">None</span>, <span style=\"color: #00af00; text-decoration-color: #00af00\">35</span>)        │          <span style=\"color: #00af00; text-decoration-color: #00af00\">0</span> │ -                 │\n",
       "│ (<span style=\"color: #0087ff; text-decoration-color: #0087ff\">InputLayer</span>)        │                   │            │                   │\n",
       "├─────────────────────┼───────────────────┼────────────┼───────────────────┤\n",
       "│ embeddingsInput     │ (<span style=\"color: #00d7ff; text-decoration-color: #00d7ff\">None</span>, <span style=\"color: #00af00; text-decoration-color: #00af00\">35</span>, <span style=\"color: #00af00; text-decoration-color: #00af00\">300</span>)   │          <span style=\"color: #00af00; text-decoration-color: #00af00\">0</span> │ -                 │\n",
       "│ (<span style=\"color: #0087ff; text-decoration-color: #0087ff\">InputLayer</span>)        │                   │            │                   │\n",
       "├─────────────────────┼───────────────────┼────────────┼───────────────────┤\n",
       "│ posEmbedding        │ (<span style=\"color: #00d7ff; text-decoration-color: #00d7ff\">None</span>, <span style=\"color: #00af00; text-decoration-color: #00af00\">35</span>, <span style=\"color: #00af00; text-decoration-color: #00af00\">10</span>)    │        <span style=\"color: #00af00; text-decoration-color: #00af00\">170</span> │ posInput[<span style=\"color: #00af00; text-decoration-color: #00af00\">0</span>][<span style=\"color: #00af00; text-decoration-color: #00af00\">0</span>]    │\n",
       "│ (<span style=\"color: #0087ff; text-decoration-color: #0087ff\">Embedding</span>)         │                   │            │                   │\n",
       "├─────────────────────┼───────────────────┼────────────┼───────────────────┤\n",
       "│ rnnEmbedding        │ (<span style=\"color: #00d7ff; text-decoration-color: #00d7ff\">None</span>, <span style=\"color: #00af00; text-decoration-color: #00af00\">35</span>, <span style=\"color: #00af00; text-decoration-color: #00af00\">256</span>)   │    <span style=\"color: #00af00; text-decoration-color: #00af00\">439,296</span> │ embeddingsInput[<span style=\"color: #00af00; text-decoration-color: #00af00\">…</span> │\n",
       "│ (<span style=\"color: #0087ff; text-decoration-color: #0087ff\">Bidirectional</span>)     │                   │            │                   │\n",
       "├─────────────────────┼───────────────────┼────────────┼───────────────────┤\n",
       "│ rnnPos              │ (<span style=\"color: #00d7ff; text-decoration-color: #00d7ff\">None</span>, <span style=\"color: #00af00; text-decoration-color: #00af00\">35</span>, <span style=\"color: #00af00; text-decoration-color: #00af00\">256</span>)   │    <span style=\"color: #00af00; text-decoration-color: #00af00\">142,336</span> │ posEmbedding[<span style=\"color: #00af00; text-decoration-color: #00af00\">0</span>][<span style=\"color: #00af00; text-decoration-color: #00af00\">…</span> │\n",
       "│ (<span style=\"color: #0087ff; text-decoration-color: #0087ff\">Bidirectional</span>)     │                   │            │                   │\n",
       "├─────────────────────┼───────────────────┼────────────┼───────────────────┤\n",
       "│ global_max_pooling… │ (<span style=\"color: #00d7ff; text-decoration-color: #00d7ff\">None</span>, <span style=\"color: #00af00; text-decoration-color: #00af00\">256</span>)       │          <span style=\"color: #00af00; text-decoration-color: #00af00\">0</span> │ rnnEmbedding[<span style=\"color: #00af00; text-decoration-color: #00af00\">0</span>][<span style=\"color: #00af00; text-decoration-color: #00af00\">…</span> │\n",
       "│ (<span style=\"color: #0087ff; text-decoration-color: #0087ff\">GlobalMaxPooling1…</span> │                   │            │                   │\n",
       "├─────────────────────┼───────────────────┼────────────┼───────────────────┤\n",
       "│ global_max_pooling… │ (<span style=\"color: #00d7ff; text-decoration-color: #00d7ff\">None</span>, <span style=\"color: #00af00; text-decoration-color: #00af00\">256</span>)       │          <span style=\"color: #00af00; text-decoration-color: #00af00\">0</span> │ rnnPos[<span style=\"color: #00af00; text-decoration-color: #00af00\">0</span>][<span style=\"color: #00af00; text-decoration-color: #00af00\">0</span>]      │\n",
       "│ (<span style=\"color: #0087ff; text-decoration-color: #0087ff\">GlobalMaxPooling1…</span> │                   │            │                   │\n",
       "├─────────────────────┼───────────────────┼────────────┼───────────────────┤\n",
       "│ lexiconInput        │ (<span style=\"color: #00d7ff; text-decoration-color: #00d7ff\">None</span>, <span style=\"color: #00af00; text-decoration-color: #00af00\">5</span>)         │          <span style=\"color: #00af00; text-decoration-color: #00af00\">0</span> │ -                 │\n",
       "│ (<span style=\"color: #0087ff; text-decoration-color: #0087ff\">InputLayer</span>)        │                   │            │                   │\n",
       "├─────────────────────┼───────────────────┼────────────┼───────────────────┤\n",
       "│ features            │ (<span style=\"color: #00d7ff; text-decoration-color: #00d7ff\">None</span>, <span style=\"color: #00af00; text-decoration-color: #00af00\">517</span>)       │          <span style=\"color: #00af00; text-decoration-color: #00af00\">0</span> │ global_max_pooli… │\n",
       "│ (<span style=\"color: #0087ff; text-decoration-color: #0087ff\">Concatenate</span>)       │                   │            │ global_max_pooli… │\n",
       "│                     │                   │            │ lexiconInput[<span style=\"color: #00af00; text-decoration-color: #00af00\">0</span>][<span style=\"color: #00af00; text-decoration-color: #00af00\">…</span> │\n",
       "├─────────────────────┼───────────────────┼────────────┼───────────────────┤\n",
       "│ dense_3 (<span style=\"color: #0087ff; text-decoration-color: #0087ff\">Dense</span>)     │ (<span style=\"color: #00d7ff; text-decoration-color: #00d7ff\">None</span>, <span style=\"color: #00af00; text-decoration-color: #00af00\">64</span>)        │     <span style=\"color: #00af00; text-decoration-color: #00af00\">33,152</span> │ features[<span style=\"color: #00af00; text-decoration-color: #00af00\">0</span>][<span style=\"color: #00af00; text-decoration-color: #00af00\">0</span>]    │\n",
       "├─────────────────────┼───────────────────┼────────────┼───────────────────┤\n",
       "│ dropout_3 (<span style=\"color: #0087ff; text-decoration-color: #0087ff\">Dropout</span>) │ (<span style=\"color: #00d7ff; text-decoration-color: #00d7ff\">None</span>, <span style=\"color: #00af00; text-decoration-color: #00af00\">64</span>)        │          <span style=\"color: #00af00; text-decoration-color: #00af00\">0</span> │ dense_3[<span style=\"color: #00af00; text-decoration-color: #00af00\">0</span>][<span style=\"color: #00af00; text-decoration-color: #00af00\">0</span>]     │\n",
       "├─────────────────────┼───────────────────┼────────────┼───────────────────┤\n",
       "│ output (<span style=\"color: #0087ff; text-decoration-color: #0087ff\">Dense</span>)      │ (<span style=\"color: #00d7ff; text-decoration-color: #00d7ff\">None</span>, <span style=\"color: #00af00; text-decoration-color: #00af00\">5</span>)         │        <span style=\"color: #00af00; text-decoration-color: #00af00\">325</span> │ dropout_3[<span style=\"color: #00af00; text-decoration-color: #00af00\">0</span>][<span style=\"color: #00af00; text-decoration-color: #00af00\">0</span>]   │\n",
       "└─────────────────────┴───────────────────┴────────────┴───────────────────┘\n",
       "</pre>\n"
      ],
      "text/plain": [
       "┏━━━━━━━━━━━━━━━━━━━━━┳━━━━━━━━━━━━━━━━━━━┳━━━━━━━━━━━━┳━━━━━━━━━━━━━━━━━━━┓\n",
       "┃\u001b[1m \u001b[0m\u001b[1mLayer (type)       \u001b[0m\u001b[1m \u001b[0m┃\u001b[1m \u001b[0m\u001b[1mOutput Shape     \u001b[0m\u001b[1m \u001b[0m┃\u001b[1m \u001b[0m\u001b[1m   Param #\u001b[0m\u001b[1m \u001b[0m┃\u001b[1m \u001b[0m\u001b[1mConnected to     \u001b[0m\u001b[1m \u001b[0m┃\n",
       "┡━━━━━━━━━━━━━━━━━━━━━╇━━━━━━━━━━━━━━━━━━━╇━━━━━━━━━━━━╇━━━━━━━━━━━━━━━━━━━┩\n",
       "│ posInput            │ (\u001b[38;5;45mNone\u001b[0m, \u001b[38;5;34m35\u001b[0m)        │          \u001b[38;5;34m0\u001b[0m │ -                 │\n",
       "│ (\u001b[38;5;33mInputLayer\u001b[0m)        │                   │            │                   │\n",
       "├─────────────────────┼───────────────────┼────────────┼───────────────────┤\n",
       "│ embeddingsInput     │ (\u001b[38;5;45mNone\u001b[0m, \u001b[38;5;34m35\u001b[0m, \u001b[38;5;34m300\u001b[0m)   │          \u001b[38;5;34m0\u001b[0m │ -                 │\n",
       "│ (\u001b[38;5;33mInputLayer\u001b[0m)        │                   │            │                   │\n",
       "├─────────────────────┼───────────────────┼────────────┼───────────────────┤\n",
       "│ posEmbedding        │ (\u001b[38;5;45mNone\u001b[0m, \u001b[38;5;34m35\u001b[0m, \u001b[38;5;34m10\u001b[0m)    │        \u001b[38;5;34m170\u001b[0m │ posInput[\u001b[38;5;34m0\u001b[0m][\u001b[38;5;34m0\u001b[0m]    │\n",
       "│ (\u001b[38;5;33mEmbedding\u001b[0m)         │                   │            │                   │\n",
       "├─────────────────────┼───────────────────┼────────────┼───────────────────┤\n",
       "│ rnnEmbedding        │ (\u001b[38;5;45mNone\u001b[0m, \u001b[38;5;34m35\u001b[0m, \u001b[38;5;34m256\u001b[0m)   │    \u001b[38;5;34m439,296\u001b[0m │ embeddingsInput[\u001b[38;5;34m…\u001b[0m │\n",
       "│ (\u001b[38;5;33mBidirectional\u001b[0m)     │                   │            │                   │\n",
       "├─────────────────────┼───────────────────┼────────────┼───────────────────┤\n",
       "│ rnnPos              │ (\u001b[38;5;45mNone\u001b[0m, \u001b[38;5;34m35\u001b[0m, \u001b[38;5;34m256\u001b[0m)   │    \u001b[38;5;34m142,336\u001b[0m │ posEmbedding[\u001b[38;5;34m0\u001b[0m][\u001b[38;5;34m…\u001b[0m │\n",
       "│ (\u001b[38;5;33mBidirectional\u001b[0m)     │                   │            │                   │\n",
       "├─────────────────────┼───────────────────┼────────────┼───────────────────┤\n",
       "│ global_max_pooling… │ (\u001b[38;5;45mNone\u001b[0m, \u001b[38;5;34m256\u001b[0m)       │          \u001b[38;5;34m0\u001b[0m │ rnnEmbedding[\u001b[38;5;34m0\u001b[0m][\u001b[38;5;34m…\u001b[0m │\n",
       "│ (\u001b[38;5;33mGlobalMaxPooling1…\u001b[0m │                   │            │                   │\n",
       "├─────────────────────┼───────────────────┼────────────┼───────────────────┤\n",
       "│ global_max_pooling… │ (\u001b[38;5;45mNone\u001b[0m, \u001b[38;5;34m256\u001b[0m)       │          \u001b[38;5;34m0\u001b[0m │ rnnPos[\u001b[38;5;34m0\u001b[0m][\u001b[38;5;34m0\u001b[0m]      │\n",
       "│ (\u001b[38;5;33mGlobalMaxPooling1…\u001b[0m │                   │            │                   │\n",
       "├─────────────────────┼───────────────────┼────────────┼───────────────────┤\n",
       "│ lexiconInput        │ (\u001b[38;5;45mNone\u001b[0m, \u001b[38;5;34m5\u001b[0m)         │          \u001b[38;5;34m0\u001b[0m │ -                 │\n",
       "│ (\u001b[38;5;33mInputLayer\u001b[0m)        │                   │            │                   │\n",
       "├─────────────────────┼───────────────────┼────────────┼───────────────────┤\n",
       "│ features            │ (\u001b[38;5;45mNone\u001b[0m, \u001b[38;5;34m517\u001b[0m)       │          \u001b[38;5;34m0\u001b[0m │ global_max_pooli… │\n",
       "│ (\u001b[38;5;33mConcatenate\u001b[0m)       │                   │            │ global_max_pooli… │\n",
       "│                     │                   │            │ lexiconInput[\u001b[38;5;34m0\u001b[0m][\u001b[38;5;34m…\u001b[0m │\n",
       "├─────────────────────┼───────────────────┼────────────┼───────────────────┤\n",
       "│ dense_3 (\u001b[38;5;33mDense\u001b[0m)     │ (\u001b[38;5;45mNone\u001b[0m, \u001b[38;5;34m64\u001b[0m)        │     \u001b[38;5;34m33,152\u001b[0m │ features[\u001b[38;5;34m0\u001b[0m][\u001b[38;5;34m0\u001b[0m]    │\n",
       "├─────────────────────┼───────────────────┼────────────┼───────────────────┤\n",
       "│ dropout_3 (\u001b[38;5;33mDropout\u001b[0m) │ (\u001b[38;5;45mNone\u001b[0m, \u001b[38;5;34m64\u001b[0m)        │          \u001b[38;5;34m0\u001b[0m │ dense_3[\u001b[38;5;34m0\u001b[0m][\u001b[38;5;34m0\u001b[0m]     │\n",
       "├─────────────────────┼───────────────────┼────────────┼───────────────────┤\n",
       "│ output (\u001b[38;5;33mDense\u001b[0m)      │ (\u001b[38;5;45mNone\u001b[0m, \u001b[38;5;34m5\u001b[0m)         │        \u001b[38;5;34m325\u001b[0m │ dropout_3[\u001b[38;5;34m0\u001b[0m][\u001b[38;5;34m0\u001b[0m]   │\n",
       "└─────────────────────┴───────────────────┴────────────┴───────────────────┘\n"
      ]
     },
     "metadata": {},
     "output_type": "display_data"
    },
    {
     "data": {
      "text/html": [
       "<pre style=\"white-space:pre;overflow-x:auto;line-height:normal;font-family:Menlo,'DejaVu Sans Mono',consolas,'Courier New',monospace\"><span style=\"font-weight: bold\"> Total params: </span><span style=\"color: #00af00; text-decoration-color: #00af00\">615,279</span> (2.35 MB)\n",
       "</pre>\n"
      ],
      "text/plain": [
       "\u001b[1m Total params: \u001b[0m\u001b[38;5;34m615,279\u001b[0m (2.35 MB)\n"
      ]
     },
     "metadata": {},
     "output_type": "display_data"
    },
    {
     "data": {
      "text/html": [
       "<pre style=\"white-space:pre;overflow-x:auto;line-height:normal;font-family:Menlo,'DejaVu Sans Mono',consolas,'Courier New',monospace\"><span style=\"font-weight: bold\"> Trainable params: </span><span style=\"color: #00af00; text-decoration-color: #00af00\">615,279</span> (2.35 MB)\n",
       "</pre>\n"
      ],
      "text/plain": [
       "\u001b[1m Trainable params: \u001b[0m\u001b[38;5;34m615,279\u001b[0m (2.35 MB)\n"
      ]
     },
     "metadata": {},
     "output_type": "display_data"
    },
    {
     "data": {
      "text/html": [
       "<pre style=\"white-space:pre;overflow-x:auto;line-height:normal;font-family:Menlo,'DejaVu Sans Mono',consolas,'Courier New',monospace\"><span style=\"font-weight: bold\"> Non-trainable params: </span><span style=\"color: #00af00; text-decoration-color: #00af00\">0</span> (0.00 B)\n",
       "</pre>\n"
      ],
      "text/plain": [
       "\u001b[1m Non-trainable params: \u001b[0m\u001b[38;5;34m0\u001b[0m (0.00 B)\n"
      ]
     },
     "metadata": {},
     "output_type": "display_data"
    },
    {
     "name": "stdout",
     "output_type": "stream",
     "text": [
      "\n",
      "Training LSTM model...\n",
      "Epoch 1/12\n"
     ]
    },
    {
     "name": "stderr",
     "output_type": "stream",
     "text": [
      "c:\\Users\\dell\\AppData\\Local\\Programs\\Python\\Python312\\Lib\\site-packages\\keras\\src\\models\\functional.py:225: UserWarning: The structure of `inputs` doesn't match the expected structure: ['embeddingsInput', 'posInput', 'lexiconInput']. Received: the structure of inputs=('*', '*', '*')\n",
      "  warnings.warn(\n"
     ]
    },
    {
     "name": "stdout",
     "output_type": "stream",
     "text": [
      "\u001b[1m2500/2500\u001b[0m \u001b[32m━━━━━━━━━━━━━━━━━━━━\u001b[0m\u001b[37m\u001b[0m \u001b[1m507s\u001b[0m 201ms/step - accuracy: 0.4451 - loss: 1.3521 - val_accuracy: 0.5906 - val_loss: 1.0337\n",
      "Epoch 2/12\n",
      "\u001b[1m2500/2500\u001b[0m \u001b[32m━━━━━━━━━━━━━━━━━━━━\u001b[0m\u001b[37m\u001b[0m \u001b[1m560s\u001b[0m 224ms/step - accuracy: 0.6050 - loss: 1.0027 - val_accuracy: 0.6453 - val_loss: 0.8796\n",
      "Epoch 3/12\n",
      "\u001b[1m2500/2500\u001b[0m \u001b[32m━━━━━━━━━━━━━━━━━━━━\u001b[0m\u001b[37m\u001b[0m \u001b[1m488s\u001b[0m 195ms/step - accuracy: 0.6590 - loss: 0.8664 - val_accuracy: 0.6626 - val_loss: 0.8246\n",
      "Epoch 4/12\n",
      "\u001b[1m2500/2500\u001b[0m \u001b[32m━━━━━━━━━━━━━━━━━━━━\u001b[0m\u001b[37m\u001b[0m \u001b[1m532s\u001b[0m 213ms/step - accuracy: 0.6767 - loss: 0.8061 - val_accuracy: 0.6781 - val_loss: 0.7908\n",
      "Epoch 5/12\n",
      "\u001b[1m2500/2500\u001b[0m \u001b[32m━━━━━━━━━━━━━━━━━━━━\u001b[0m\u001b[37m\u001b[0m \u001b[1m474s\u001b[0m 190ms/step - accuracy: 0.6869 - loss: 0.7789 - val_accuracy: 0.6844 - val_loss: 0.7821\n",
      "Epoch 6/12\n",
      "\u001b[1m2500/2500\u001b[0m \u001b[32m━━━━━━━━━━━━━━━━━━━━\u001b[0m\u001b[37m\u001b[0m \u001b[1m528s\u001b[0m 211ms/step - accuracy: 0.6919 - loss: 0.7586 - val_accuracy: 0.6851 - val_loss: 0.7679\n",
      "Epoch 7/12\n",
      "\u001b[1m2500/2500\u001b[0m \u001b[32m━━━━━━━━━━━━━━━━━━━━\u001b[0m\u001b[37m\u001b[0m \u001b[1m481s\u001b[0m 192ms/step - accuracy: 0.7006 - loss: 0.7391 - val_accuracy: 0.6890 - val_loss: 0.7572\n",
      "Epoch 8/12\n",
      "\u001b[1m2500/2500\u001b[0m \u001b[32m━━━━━━━━━━━━━━━━━━━━\u001b[0m\u001b[37m\u001b[0m \u001b[1m533s\u001b[0m 213ms/step - accuracy: 0.7015 - loss: 0.7270 - val_accuracy: 0.6915 - val_loss: 0.7587\n",
      "Epoch 9/12\n",
      "\u001b[1m2500/2500\u001b[0m \u001b[32m━━━━━━━━━━━━━━━━━━━━\u001b[0m\u001b[37m\u001b[0m \u001b[1m489s\u001b[0m 196ms/step - accuracy: 0.7081 - loss: 0.7095 - val_accuracy: 0.6900 - val_loss: 0.7584\n",
      "Epoch 10/12\n",
      "\u001b[1m2500/2500\u001b[0m \u001b[32m━━━━━━━━━━━━━━━━━━━━\u001b[0m\u001b[37m\u001b[0m \u001b[1m522s\u001b[0m 209ms/step - accuracy: 0.7075 - loss: 0.7022 - val_accuracy: 0.6895 - val_loss: 0.7651\n",
      "Epoch 11/12\n",
      "\u001b[1m2500/2500\u001b[0m \u001b[32m━━━━━━━━━━━━━━━━━━━━\u001b[0m\u001b[37m\u001b[0m \u001b[1m492s\u001b[0m 197ms/step - accuracy: 0.7127 - loss: 0.6920 - val_accuracy: 0.6876 - val_loss: 0.7679\n",
      "Epoch 12/12\n",
      "\u001b[1m2500/2500\u001b[0m \u001b[32m━━━━━━━━━━━━━━━━━━━━\u001b[0m\u001b[37m\u001b[0m \u001b[1m524s\u001b[0m 209ms/step - accuracy: 0.7187 - loss: 0.6785 - val_accuracy: 0.6876 - val_loss: 0.7673\n",
      "\n",
      "Building model with GRU\n",
      "embeddingsSeq shape: (None, 256)\n",
      "posSeq shape: (None, 256)\n",
      "lexiconInput shape: (None, 5)\n",
      "Concatenated feature shape: (None, 517)\n"
     ]
    },
    {
     "data": {
      "text/html": [
       "<pre style=\"white-space:pre;overflow-x:auto;line-height:normal;font-family:Menlo,'DejaVu Sans Mono',consolas,'Courier New',monospace\"><span style=\"font-weight: bold\">Model: \"functional_4\"</span>\n",
       "</pre>\n"
      ],
      "text/plain": [
       "\u001b[1mModel: \"functional_4\"\u001b[0m\n"
      ]
     },
     "metadata": {},
     "output_type": "display_data"
    },
    {
     "data": {
      "text/html": [
       "<pre style=\"white-space:pre;overflow-x:auto;line-height:normal;font-family:Menlo,'DejaVu Sans Mono',consolas,'Courier New',monospace\">┏━━━━━━━━━━━━━━━━━━━━━┳━━━━━━━━━━━━━━━━━━━┳━━━━━━━━━━━━┳━━━━━━━━━━━━━━━━━━━┓\n",
       "┃<span style=\"font-weight: bold\"> Layer (type)        </span>┃<span style=\"font-weight: bold\"> Output Shape      </span>┃<span style=\"font-weight: bold\">    Param # </span>┃<span style=\"font-weight: bold\"> Connected to      </span>┃\n",
       "┡━━━━━━━━━━━━━━━━━━━━━╇━━━━━━━━━━━━━━━━━━━╇━━━━━━━━━━━━╇━━━━━━━━━━━━━━━━━━━┩\n",
       "│ posInput            │ (<span style=\"color: #00d7ff; text-decoration-color: #00d7ff\">None</span>, <span style=\"color: #00af00; text-decoration-color: #00af00\">35</span>)        │          <span style=\"color: #00af00; text-decoration-color: #00af00\">0</span> │ -                 │\n",
       "│ (<span style=\"color: #0087ff; text-decoration-color: #0087ff\">InputLayer</span>)        │                   │            │                   │\n",
       "├─────────────────────┼───────────────────┼────────────┼───────────────────┤\n",
       "│ embeddingsInput     │ (<span style=\"color: #00d7ff; text-decoration-color: #00d7ff\">None</span>, <span style=\"color: #00af00; text-decoration-color: #00af00\">35</span>, <span style=\"color: #00af00; text-decoration-color: #00af00\">300</span>)   │          <span style=\"color: #00af00; text-decoration-color: #00af00\">0</span> │ -                 │\n",
       "│ (<span style=\"color: #0087ff; text-decoration-color: #0087ff\">InputLayer</span>)        │                   │            │                   │\n",
       "├─────────────────────┼───────────────────┼────────────┼───────────────────┤\n",
       "│ posEmbedding        │ (<span style=\"color: #00d7ff; text-decoration-color: #00d7ff\">None</span>, <span style=\"color: #00af00; text-decoration-color: #00af00\">35</span>, <span style=\"color: #00af00; text-decoration-color: #00af00\">10</span>)    │        <span style=\"color: #00af00; text-decoration-color: #00af00\">170</span> │ posInput[<span style=\"color: #00af00; text-decoration-color: #00af00\">0</span>][<span style=\"color: #00af00; text-decoration-color: #00af00\">0</span>]    │\n",
       "│ (<span style=\"color: #0087ff; text-decoration-color: #0087ff\">Embedding</span>)         │                   │            │                   │\n",
       "├─────────────────────┼───────────────────┼────────────┼───────────────────┤\n",
       "│ rnnEmbedding        │ (<span style=\"color: #00d7ff; text-decoration-color: #00d7ff\">None</span>, <span style=\"color: #00af00; text-decoration-color: #00af00\">35</span>, <span style=\"color: #00af00; text-decoration-color: #00af00\">256</span>)   │    <span style=\"color: #00af00; text-decoration-color: #00af00\">330,240</span> │ embeddingsInput[<span style=\"color: #00af00; text-decoration-color: #00af00\">…</span> │\n",
       "│ (<span style=\"color: #0087ff; text-decoration-color: #0087ff\">Bidirectional</span>)     │                   │            │                   │\n",
       "├─────────────────────┼───────────────────┼────────────┼───────────────────┤\n",
       "│ rnnPos              │ (<span style=\"color: #00d7ff; text-decoration-color: #00d7ff\">None</span>, <span style=\"color: #00af00; text-decoration-color: #00af00\">35</span>, <span style=\"color: #00af00; text-decoration-color: #00af00\">256</span>)   │    <span style=\"color: #00af00; text-decoration-color: #00af00\">107,520</span> │ posEmbedding[<span style=\"color: #00af00; text-decoration-color: #00af00\">0</span>][<span style=\"color: #00af00; text-decoration-color: #00af00\">…</span> │\n",
       "│ (<span style=\"color: #0087ff; text-decoration-color: #0087ff\">Bidirectional</span>)     │                   │            │                   │\n",
       "├─────────────────────┼───────────────────┼────────────┼───────────────────┤\n",
       "│ global_max_pooling… │ (<span style=\"color: #00d7ff; text-decoration-color: #00d7ff\">None</span>, <span style=\"color: #00af00; text-decoration-color: #00af00\">256</span>)       │          <span style=\"color: #00af00; text-decoration-color: #00af00\">0</span> │ rnnEmbedding[<span style=\"color: #00af00; text-decoration-color: #00af00\">0</span>][<span style=\"color: #00af00; text-decoration-color: #00af00\">…</span> │\n",
       "│ (<span style=\"color: #0087ff; text-decoration-color: #0087ff\">GlobalMaxPooling1…</span> │                   │            │                   │\n",
       "├─────────────────────┼───────────────────┼────────────┼───────────────────┤\n",
       "│ global_max_pooling… │ (<span style=\"color: #00d7ff; text-decoration-color: #00d7ff\">None</span>, <span style=\"color: #00af00; text-decoration-color: #00af00\">256</span>)       │          <span style=\"color: #00af00; text-decoration-color: #00af00\">0</span> │ rnnPos[<span style=\"color: #00af00; text-decoration-color: #00af00\">0</span>][<span style=\"color: #00af00; text-decoration-color: #00af00\">0</span>]      │\n",
       "│ (<span style=\"color: #0087ff; text-decoration-color: #0087ff\">GlobalMaxPooling1…</span> │                   │            │                   │\n",
       "├─────────────────────┼───────────────────┼────────────┼───────────────────┤\n",
       "│ lexiconInput        │ (<span style=\"color: #00d7ff; text-decoration-color: #00d7ff\">None</span>, <span style=\"color: #00af00; text-decoration-color: #00af00\">5</span>)         │          <span style=\"color: #00af00; text-decoration-color: #00af00\">0</span> │ -                 │\n",
       "│ (<span style=\"color: #0087ff; text-decoration-color: #0087ff\">InputLayer</span>)        │                   │            │                   │\n",
       "├─────────────────────┼───────────────────┼────────────┼───────────────────┤\n",
       "│ features            │ (<span style=\"color: #00d7ff; text-decoration-color: #00d7ff\">None</span>, <span style=\"color: #00af00; text-decoration-color: #00af00\">517</span>)       │          <span style=\"color: #00af00; text-decoration-color: #00af00\">0</span> │ global_max_pooli… │\n",
       "│ (<span style=\"color: #0087ff; text-decoration-color: #0087ff\">Concatenate</span>)       │                   │            │ global_max_pooli… │\n",
       "│                     │                   │            │ lexiconInput[<span style=\"color: #00af00; text-decoration-color: #00af00\">0</span>][<span style=\"color: #00af00; text-decoration-color: #00af00\">…</span> │\n",
       "├─────────────────────┼───────────────────┼────────────┼───────────────────┤\n",
       "│ dense_4 (<span style=\"color: #0087ff; text-decoration-color: #0087ff\">Dense</span>)     │ (<span style=\"color: #00d7ff; text-decoration-color: #00d7ff\">None</span>, <span style=\"color: #00af00; text-decoration-color: #00af00\">64</span>)        │     <span style=\"color: #00af00; text-decoration-color: #00af00\">33,152</span> │ features[<span style=\"color: #00af00; text-decoration-color: #00af00\">0</span>][<span style=\"color: #00af00; text-decoration-color: #00af00\">0</span>]    │\n",
       "├─────────────────────┼───────────────────┼────────────┼───────────────────┤\n",
       "│ dropout_4 (<span style=\"color: #0087ff; text-decoration-color: #0087ff\">Dropout</span>) │ (<span style=\"color: #00d7ff; text-decoration-color: #00d7ff\">None</span>, <span style=\"color: #00af00; text-decoration-color: #00af00\">64</span>)        │          <span style=\"color: #00af00; text-decoration-color: #00af00\">0</span> │ dense_4[<span style=\"color: #00af00; text-decoration-color: #00af00\">0</span>][<span style=\"color: #00af00; text-decoration-color: #00af00\">0</span>]     │\n",
       "├─────────────────────┼───────────────────┼────────────┼───────────────────┤\n",
       "│ output (<span style=\"color: #0087ff; text-decoration-color: #0087ff\">Dense</span>)      │ (<span style=\"color: #00d7ff; text-decoration-color: #00d7ff\">None</span>, <span style=\"color: #00af00; text-decoration-color: #00af00\">5</span>)         │        <span style=\"color: #00af00; text-decoration-color: #00af00\">325</span> │ dropout_4[<span style=\"color: #00af00; text-decoration-color: #00af00\">0</span>][<span style=\"color: #00af00; text-decoration-color: #00af00\">0</span>]   │\n",
       "└─────────────────────┴───────────────────┴────────────┴───────────────────┘\n",
       "</pre>\n"
      ],
      "text/plain": [
       "┏━━━━━━━━━━━━━━━━━━━━━┳━━━━━━━━━━━━━━━━━━━┳━━━━━━━━━━━━┳━━━━━━━━━━━━━━━━━━━┓\n",
       "┃\u001b[1m \u001b[0m\u001b[1mLayer (type)       \u001b[0m\u001b[1m \u001b[0m┃\u001b[1m \u001b[0m\u001b[1mOutput Shape     \u001b[0m\u001b[1m \u001b[0m┃\u001b[1m \u001b[0m\u001b[1m   Param #\u001b[0m\u001b[1m \u001b[0m┃\u001b[1m \u001b[0m\u001b[1mConnected to     \u001b[0m\u001b[1m \u001b[0m┃\n",
       "┡━━━━━━━━━━━━━━━━━━━━━╇━━━━━━━━━━━━━━━━━━━╇━━━━━━━━━━━━╇━━━━━━━━━━━━━━━━━━━┩\n",
       "│ posInput            │ (\u001b[38;5;45mNone\u001b[0m, \u001b[38;5;34m35\u001b[0m)        │          \u001b[38;5;34m0\u001b[0m │ -                 │\n",
       "│ (\u001b[38;5;33mInputLayer\u001b[0m)        │                   │            │                   │\n",
       "├─────────────────────┼───────────────────┼────────────┼───────────────────┤\n",
       "│ embeddingsInput     │ (\u001b[38;5;45mNone\u001b[0m, \u001b[38;5;34m35\u001b[0m, \u001b[38;5;34m300\u001b[0m)   │          \u001b[38;5;34m0\u001b[0m │ -                 │\n",
       "│ (\u001b[38;5;33mInputLayer\u001b[0m)        │                   │            │                   │\n",
       "├─────────────────────┼───────────────────┼────────────┼───────────────────┤\n",
       "│ posEmbedding        │ (\u001b[38;5;45mNone\u001b[0m, \u001b[38;5;34m35\u001b[0m, \u001b[38;5;34m10\u001b[0m)    │        \u001b[38;5;34m170\u001b[0m │ posInput[\u001b[38;5;34m0\u001b[0m][\u001b[38;5;34m0\u001b[0m]    │\n",
       "│ (\u001b[38;5;33mEmbedding\u001b[0m)         │                   │            │                   │\n",
       "├─────────────────────┼───────────────────┼────────────┼───────────────────┤\n",
       "│ rnnEmbedding        │ (\u001b[38;5;45mNone\u001b[0m, \u001b[38;5;34m35\u001b[0m, \u001b[38;5;34m256\u001b[0m)   │    \u001b[38;5;34m330,240\u001b[0m │ embeddingsInput[\u001b[38;5;34m…\u001b[0m │\n",
       "│ (\u001b[38;5;33mBidirectional\u001b[0m)     │                   │            │                   │\n",
       "├─────────────────────┼───────────────────┼────────────┼───────────────────┤\n",
       "│ rnnPos              │ (\u001b[38;5;45mNone\u001b[0m, \u001b[38;5;34m35\u001b[0m, \u001b[38;5;34m256\u001b[0m)   │    \u001b[38;5;34m107,520\u001b[0m │ posEmbedding[\u001b[38;5;34m0\u001b[0m][\u001b[38;5;34m…\u001b[0m │\n",
       "│ (\u001b[38;5;33mBidirectional\u001b[0m)     │                   │            │                   │\n",
       "├─────────────────────┼───────────────────┼────────────┼───────────────────┤\n",
       "│ global_max_pooling… │ (\u001b[38;5;45mNone\u001b[0m, \u001b[38;5;34m256\u001b[0m)       │          \u001b[38;5;34m0\u001b[0m │ rnnEmbedding[\u001b[38;5;34m0\u001b[0m][\u001b[38;5;34m…\u001b[0m │\n",
       "│ (\u001b[38;5;33mGlobalMaxPooling1…\u001b[0m │                   │            │                   │\n",
       "├─────────────────────┼───────────────────┼────────────┼───────────────────┤\n",
       "│ global_max_pooling… │ (\u001b[38;5;45mNone\u001b[0m, \u001b[38;5;34m256\u001b[0m)       │          \u001b[38;5;34m0\u001b[0m │ rnnPos[\u001b[38;5;34m0\u001b[0m][\u001b[38;5;34m0\u001b[0m]      │\n",
       "│ (\u001b[38;5;33mGlobalMaxPooling1…\u001b[0m │                   │            │                   │\n",
       "├─────────────────────┼───────────────────┼────────────┼───────────────────┤\n",
       "│ lexiconInput        │ (\u001b[38;5;45mNone\u001b[0m, \u001b[38;5;34m5\u001b[0m)         │          \u001b[38;5;34m0\u001b[0m │ -                 │\n",
       "│ (\u001b[38;5;33mInputLayer\u001b[0m)        │                   │            │                   │\n",
       "├─────────────────────┼───────────────────┼────────────┼───────────────────┤\n",
       "│ features            │ (\u001b[38;5;45mNone\u001b[0m, \u001b[38;5;34m517\u001b[0m)       │          \u001b[38;5;34m0\u001b[0m │ global_max_pooli… │\n",
       "│ (\u001b[38;5;33mConcatenate\u001b[0m)       │                   │            │ global_max_pooli… │\n",
       "│                     │                   │            │ lexiconInput[\u001b[38;5;34m0\u001b[0m][\u001b[38;5;34m…\u001b[0m │\n",
       "├─────────────────────┼───────────────────┼────────────┼───────────────────┤\n",
       "│ dense_4 (\u001b[38;5;33mDense\u001b[0m)     │ (\u001b[38;5;45mNone\u001b[0m, \u001b[38;5;34m64\u001b[0m)        │     \u001b[38;5;34m33,152\u001b[0m │ features[\u001b[38;5;34m0\u001b[0m][\u001b[38;5;34m0\u001b[0m]    │\n",
       "├─────────────────────┼───────────────────┼────────────┼───────────────────┤\n",
       "│ dropout_4 (\u001b[38;5;33mDropout\u001b[0m) │ (\u001b[38;5;45mNone\u001b[0m, \u001b[38;5;34m64\u001b[0m)        │          \u001b[38;5;34m0\u001b[0m │ dense_4[\u001b[38;5;34m0\u001b[0m][\u001b[38;5;34m0\u001b[0m]     │\n",
       "├─────────────────────┼───────────────────┼────────────┼───────────────────┤\n",
       "│ output (\u001b[38;5;33mDense\u001b[0m)      │ (\u001b[38;5;45mNone\u001b[0m, \u001b[38;5;34m5\u001b[0m)         │        \u001b[38;5;34m325\u001b[0m │ dropout_4[\u001b[38;5;34m0\u001b[0m][\u001b[38;5;34m0\u001b[0m]   │\n",
       "└─────────────────────┴───────────────────┴────────────┴───────────────────┘\n"
      ]
     },
     "metadata": {},
     "output_type": "display_data"
    },
    {
     "data": {
      "text/html": [
       "<pre style=\"white-space:pre;overflow-x:auto;line-height:normal;font-family:Menlo,'DejaVu Sans Mono',consolas,'Courier New',monospace\"><span style=\"font-weight: bold\"> Total params: </span><span style=\"color: #00af00; text-decoration-color: #00af00\">471,407</span> (1.80 MB)\n",
       "</pre>\n"
      ],
      "text/plain": [
       "\u001b[1m Total params: \u001b[0m\u001b[38;5;34m471,407\u001b[0m (1.80 MB)\n"
      ]
     },
     "metadata": {},
     "output_type": "display_data"
    },
    {
     "data": {
      "text/html": [
       "<pre style=\"white-space:pre;overflow-x:auto;line-height:normal;font-family:Menlo,'DejaVu Sans Mono',consolas,'Courier New',monospace\"><span style=\"font-weight: bold\"> Trainable params: </span><span style=\"color: #00af00; text-decoration-color: #00af00\">471,407</span> (1.80 MB)\n",
       "</pre>\n"
      ],
      "text/plain": [
       "\u001b[1m Trainable params: \u001b[0m\u001b[38;5;34m471,407\u001b[0m (1.80 MB)\n"
      ]
     },
     "metadata": {},
     "output_type": "display_data"
    },
    {
     "data": {
      "text/html": [
       "<pre style=\"white-space:pre;overflow-x:auto;line-height:normal;font-family:Menlo,'DejaVu Sans Mono',consolas,'Courier New',monospace\"><span style=\"font-weight: bold\"> Non-trainable params: </span><span style=\"color: #00af00; text-decoration-color: #00af00\">0</span> (0.00 B)\n",
       "</pre>\n"
      ],
      "text/plain": [
       "\u001b[1m Non-trainable params: \u001b[0m\u001b[38;5;34m0\u001b[0m (0.00 B)\n"
      ]
     },
     "metadata": {},
     "output_type": "display_data"
    },
    {
     "name": "stdout",
     "output_type": "stream",
     "text": [
      "\n",
      "Training GRU model...\n",
      "Epoch 1/12\n",
      "\u001b[1m2500/2500\u001b[0m \u001b[32m━━━━━━━━━━━━━━━━━━━━\u001b[0m\u001b[37m\u001b[0m \u001b[1m523s\u001b[0m 208ms/step - accuracy: 0.4234 - loss: 1.3801 - val_accuracy: 0.5595 - val_loss: 1.0997\n",
      "Epoch 2/12\n",
      "\u001b[1m2500/2500\u001b[0m \u001b[32m━━━━━━━━━━━━━━━━━━━━\u001b[0m\u001b[37m\u001b[0m \u001b[1m544s\u001b[0m 218ms/step - accuracy: 0.5823 - loss: 1.0628 - val_accuracy: 0.6378 - val_loss: 0.9373\n",
      "Epoch 3/12\n",
      "\u001b[1m2500/2500\u001b[0m \u001b[32m━━━━━━━━━━━━━━━━━━━━\u001b[0m\u001b[37m\u001b[0m \u001b[1m482s\u001b[0m 193ms/step - accuracy: 0.6358 - loss: 0.9188 - val_accuracy: 0.6558 - val_loss: 0.8551\n",
      "Epoch 4/12\n",
      "\u001b[1m2500/2500\u001b[0m \u001b[32m━━━━━━━━━━━━━━━━━━━━\u001b[0m\u001b[37m\u001b[0m \u001b[1m547s\u001b[0m 219ms/step - accuracy: 0.6578 - loss: 0.8634 - val_accuracy: 0.6584 - val_loss: 0.8535\n",
      "Epoch 5/12\n",
      "\u001b[1m2500/2500\u001b[0m \u001b[32m━━━━━━━━━━━━━━━━━━━━\u001b[0m\u001b[37m\u001b[0m \u001b[1m483s\u001b[0m 193ms/step - accuracy: 0.6709 - loss: 0.8253 - val_accuracy: 0.6597 - val_loss: 0.8301\n",
      "Epoch 6/12\n",
      "\u001b[1m2500/2500\u001b[0m \u001b[32m━━━━━━━━━━━━━━━━━━━━\u001b[0m\u001b[37m\u001b[0m \u001b[1m544s\u001b[0m 218ms/step - accuracy: 0.6730 - loss: 0.8071 - val_accuracy: 0.6671 - val_loss: 0.8217\n",
      "Epoch 7/12\n",
      "\u001b[1m2500/2500\u001b[0m \u001b[32m━━━━━━━━━━━━━━━━━━━━\u001b[0m\u001b[37m\u001b[0m \u001b[1m478s\u001b[0m 191ms/step - accuracy: 0.6791 - loss: 0.7837 - val_accuracy: 0.6747 - val_loss: 0.8011\n",
      "Epoch 8/12\n",
      "\u001b[1m2500/2500\u001b[0m \u001b[32m━━━━━━━━━━━━━━━━━━━━\u001b[0m\u001b[37m\u001b[0m \u001b[1m544s\u001b[0m 217ms/step - accuracy: 0.6857 - loss: 0.7725 - val_accuracy: 0.6814 - val_loss: 0.7946\n",
      "Epoch 9/12\n",
      "\u001b[1m2500/2500\u001b[0m \u001b[32m━━━━━━━━━━━━━━━━━━━━\u001b[0m\u001b[37m\u001b[0m \u001b[1m489s\u001b[0m 196ms/step - accuracy: 0.6907 - loss: 0.7560 - val_accuracy: 0.6812 - val_loss: 0.7954\n",
      "Epoch 10/12\n",
      "\u001b[1m2500/2500\u001b[0m \u001b[32m━━━━━━━━━━━━━━━━━━━━\u001b[0m\u001b[37m\u001b[0m \u001b[1m555s\u001b[0m 222ms/step - accuracy: 0.6908 - loss: 0.7533 - val_accuracy: 0.6842 - val_loss: 0.7786\n",
      "Epoch 11/12\n",
      "\u001b[1m2500/2500\u001b[0m \u001b[32m━━━━━━━━━━━━━━━━━━━━\u001b[0m\u001b[37m\u001b[0m \u001b[1m491s\u001b[0m 196ms/step - accuracy: 0.6961 - loss: 0.7384 - val_accuracy: 0.6830 - val_loss: 0.7809\n",
      "Epoch 12/12\n",
      "\u001b[1m2500/2500\u001b[0m \u001b[32m━━━━━━━━━━━━━━━━━━━━\u001b[0m\u001b[37m\u001b[0m \u001b[1m559s\u001b[0m 224ms/step - accuracy: 0.6965 - loss: 0.7325 - val_accuracy: 0.6830 - val_loss: 0.7866\n",
      "\n",
      "Building model with SimpleRNN\n",
      "embeddingsSeq shape: (None, 256)\n",
      "posSeq shape: (None, 256)\n",
      "lexiconInput shape: (None, 5)\n",
      "Concatenated feature shape: (None, 517)\n"
     ]
    },
    {
     "data": {
      "text/html": [
       "<pre style=\"white-space:pre;overflow-x:auto;line-height:normal;font-family:Menlo,'DejaVu Sans Mono',consolas,'Courier New',monospace\"><span style=\"font-weight: bold\">Model: \"functional_5\"</span>\n",
       "</pre>\n"
      ],
      "text/plain": [
       "\u001b[1mModel: \"functional_5\"\u001b[0m\n"
      ]
     },
     "metadata": {},
     "output_type": "display_data"
    },
    {
     "data": {
      "text/html": [
       "<pre style=\"white-space:pre;overflow-x:auto;line-height:normal;font-family:Menlo,'DejaVu Sans Mono',consolas,'Courier New',monospace\">┏━━━━━━━━━━━━━━━━━━━━━┳━━━━━━━━━━━━━━━━━━━┳━━━━━━━━━━━━┳━━━━━━━━━━━━━━━━━━━┓\n",
       "┃<span style=\"font-weight: bold\"> Layer (type)        </span>┃<span style=\"font-weight: bold\"> Output Shape      </span>┃<span style=\"font-weight: bold\">    Param # </span>┃<span style=\"font-weight: bold\"> Connected to      </span>┃\n",
       "┡━━━━━━━━━━━━━━━━━━━━━╇━━━━━━━━━━━━━━━━━━━╇━━━━━━━━━━━━╇━━━━━━━━━━━━━━━━━━━┩\n",
       "│ posInput            │ (<span style=\"color: #00d7ff; text-decoration-color: #00d7ff\">None</span>, <span style=\"color: #00af00; text-decoration-color: #00af00\">35</span>)        │          <span style=\"color: #00af00; text-decoration-color: #00af00\">0</span> │ -                 │\n",
       "│ (<span style=\"color: #0087ff; text-decoration-color: #0087ff\">InputLayer</span>)        │                   │            │                   │\n",
       "├─────────────────────┼───────────────────┼────────────┼───────────────────┤\n",
       "│ embeddingsInput     │ (<span style=\"color: #00d7ff; text-decoration-color: #00d7ff\">None</span>, <span style=\"color: #00af00; text-decoration-color: #00af00\">35</span>, <span style=\"color: #00af00; text-decoration-color: #00af00\">300</span>)   │          <span style=\"color: #00af00; text-decoration-color: #00af00\">0</span> │ -                 │\n",
       "│ (<span style=\"color: #0087ff; text-decoration-color: #0087ff\">InputLayer</span>)        │                   │            │                   │\n",
       "├─────────────────────┼───────────────────┼────────────┼───────────────────┤\n",
       "│ posEmbedding        │ (<span style=\"color: #00d7ff; text-decoration-color: #00d7ff\">None</span>, <span style=\"color: #00af00; text-decoration-color: #00af00\">35</span>, <span style=\"color: #00af00; text-decoration-color: #00af00\">10</span>)    │        <span style=\"color: #00af00; text-decoration-color: #00af00\">170</span> │ posInput[<span style=\"color: #00af00; text-decoration-color: #00af00\">0</span>][<span style=\"color: #00af00; text-decoration-color: #00af00\">0</span>]    │\n",
       "│ (<span style=\"color: #0087ff; text-decoration-color: #0087ff\">Embedding</span>)         │                   │            │                   │\n",
       "├─────────────────────┼───────────────────┼────────────┼───────────────────┤\n",
       "│ rnnEmbedding        │ (<span style=\"color: #00d7ff; text-decoration-color: #00d7ff\">None</span>, <span style=\"color: #00af00; text-decoration-color: #00af00\">35</span>, <span style=\"color: #00af00; text-decoration-color: #00af00\">256</span>)   │    <span style=\"color: #00af00; text-decoration-color: #00af00\">109,824</span> │ embeddingsInput[<span style=\"color: #00af00; text-decoration-color: #00af00\">…</span> │\n",
       "│ (<span style=\"color: #0087ff; text-decoration-color: #0087ff\">Bidirectional</span>)     │                   │            │                   │\n",
       "├─────────────────────┼───────────────────┼────────────┼───────────────────┤\n",
       "│ rnnPos              │ (<span style=\"color: #00d7ff; text-decoration-color: #00d7ff\">None</span>, <span style=\"color: #00af00; text-decoration-color: #00af00\">35</span>, <span style=\"color: #00af00; text-decoration-color: #00af00\">256</span>)   │     <span style=\"color: #00af00; text-decoration-color: #00af00\">35,584</span> │ posEmbedding[<span style=\"color: #00af00; text-decoration-color: #00af00\">0</span>][<span style=\"color: #00af00; text-decoration-color: #00af00\">…</span> │\n",
       "│ (<span style=\"color: #0087ff; text-decoration-color: #0087ff\">Bidirectional</span>)     │                   │            │                   │\n",
       "├─────────────────────┼───────────────────┼────────────┼───────────────────┤\n",
       "│ global_max_pooling… │ (<span style=\"color: #00d7ff; text-decoration-color: #00d7ff\">None</span>, <span style=\"color: #00af00; text-decoration-color: #00af00\">256</span>)       │          <span style=\"color: #00af00; text-decoration-color: #00af00\">0</span> │ rnnEmbedding[<span style=\"color: #00af00; text-decoration-color: #00af00\">0</span>][<span style=\"color: #00af00; text-decoration-color: #00af00\">…</span> │\n",
       "│ (<span style=\"color: #0087ff; text-decoration-color: #0087ff\">GlobalMaxPooling1…</span> │                   │            │                   │\n",
       "├─────────────────────┼───────────────────┼────────────┼───────────────────┤\n",
       "│ global_max_pooling… │ (<span style=\"color: #00d7ff; text-decoration-color: #00d7ff\">None</span>, <span style=\"color: #00af00; text-decoration-color: #00af00\">256</span>)       │          <span style=\"color: #00af00; text-decoration-color: #00af00\">0</span> │ rnnPos[<span style=\"color: #00af00; text-decoration-color: #00af00\">0</span>][<span style=\"color: #00af00; text-decoration-color: #00af00\">0</span>]      │\n",
       "│ (<span style=\"color: #0087ff; text-decoration-color: #0087ff\">GlobalMaxPooling1…</span> │                   │            │                   │\n",
       "├─────────────────────┼───────────────────┼────────────┼───────────────────┤\n",
       "│ lexiconInput        │ (<span style=\"color: #00d7ff; text-decoration-color: #00d7ff\">None</span>, <span style=\"color: #00af00; text-decoration-color: #00af00\">5</span>)         │          <span style=\"color: #00af00; text-decoration-color: #00af00\">0</span> │ -                 │\n",
       "│ (<span style=\"color: #0087ff; text-decoration-color: #0087ff\">InputLayer</span>)        │                   │            │                   │\n",
       "├─────────────────────┼───────────────────┼────────────┼───────────────────┤\n",
       "│ features            │ (<span style=\"color: #00d7ff; text-decoration-color: #00d7ff\">None</span>, <span style=\"color: #00af00; text-decoration-color: #00af00\">517</span>)       │          <span style=\"color: #00af00; text-decoration-color: #00af00\">0</span> │ global_max_pooli… │\n",
       "│ (<span style=\"color: #0087ff; text-decoration-color: #0087ff\">Concatenate</span>)       │                   │            │ global_max_pooli… │\n",
       "│                     │                   │            │ lexiconInput[<span style=\"color: #00af00; text-decoration-color: #00af00\">0</span>][<span style=\"color: #00af00; text-decoration-color: #00af00\">…</span> │\n",
       "├─────────────────────┼───────────────────┼────────────┼───────────────────┤\n",
       "│ dense_5 (<span style=\"color: #0087ff; text-decoration-color: #0087ff\">Dense</span>)     │ (<span style=\"color: #00d7ff; text-decoration-color: #00d7ff\">None</span>, <span style=\"color: #00af00; text-decoration-color: #00af00\">64</span>)        │     <span style=\"color: #00af00; text-decoration-color: #00af00\">33,152</span> │ features[<span style=\"color: #00af00; text-decoration-color: #00af00\">0</span>][<span style=\"color: #00af00; text-decoration-color: #00af00\">0</span>]    │\n",
       "├─────────────────────┼───────────────────┼────────────┼───────────────────┤\n",
       "│ dropout_5 (<span style=\"color: #0087ff; text-decoration-color: #0087ff\">Dropout</span>) │ (<span style=\"color: #00d7ff; text-decoration-color: #00d7ff\">None</span>, <span style=\"color: #00af00; text-decoration-color: #00af00\">64</span>)        │          <span style=\"color: #00af00; text-decoration-color: #00af00\">0</span> │ dense_5[<span style=\"color: #00af00; text-decoration-color: #00af00\">0</span>][<span style=\"color: #00af00; text-decoration-color: #00af00\">0</span>]     │\n",
       "├─────────────────────┼───────────────────┼────────────┼───────────────────┤\n",
       "│ output (<span style=\"color: #0087ff; text-decoration-color: #0087ff\">Dense</span>)      │ (<span style=\"color: #00d7ff; text-decoration-color: #00d7ff\">None</span>, <span style=\"color: #00af00; text-decoration-color: #00af00\">5</span>)         │        <span style=\"color: #00af00; text-decoration-color: #00af00\">325</span> │ dropout_5[<span style=\"color: #00af00; text-decoration-color: #00af00\">0</span>][<span style=\"color: #00af00; text-decoration-color: #00af00\">0</span>]   │\n",
       "└─────────────────────┴───────────────────┴────────────┴───────────────────┘\n",
       "</pre>\n"
      ],
      "text/plain": [
       "┏━━━━━━━━━━━━━━━━━━━━━┳━━━━━━━━━━━━━━━━━━━┳━━━━━━━━━━━━┳━━━━━━━━━━━━━━━━━━━┓\n",
       "┃\u001b[1m \u001b[0m\u001b[1mLayer (type)       \u001b[0m\u001b[1m \u001b[0m┃\u001b[1m \u001b[0m\u001b[1mOutput Shape     \u001b[0m\u001b[1m \u001b[0m┃\u001b[1m \u001b[0m\u001b[1m   Param #\u001b[0m\u001b[1m \u001b[0m┃\u001b[1m \u001b[0m\u001b[1mConnected to     \u001b[0m\u001b[1m \u001b[0m┃\n",
       "┡━━━━━━━━━━━━━━━━━━━━━╇━━━━━━━━━━━━━━━━━━━╇━━━━━━━━━━━━╇━━━━━━━━━━━━━━━━━━━┩\n",
       "│ posInput            │ (\u001b[38;5;45mNone\u001b[0m, \u001b[38;5;34m35\u001b[0m)        │          \u001b[38;5;34m0\u001b[0m │ -                 │\n",
       "│ (\u001b[38;5;33mInputLayer\u001b[0m)        │                   │            │                   │\n",
       "├─────────────────────┼───────────────────┼────────────┼───────────────────┤\n",
       "│ embeddingsInput     │ (\u001b[38;5;45mNone\u001b[0m, \u001b[38;5;34m35\u001b[0m, \u001b[38;5;34m300\u001b[0m)   │          \u001b[38;5;34m0\u001b[0m │ -                 │\n",
       "│ (\u001b[38;5;33mInputLayer\u001b[0m)        │                   │            │                   │\n",
       "├─────────────────────┼───────────────────┼────────────┼───────────────────┤\n",
       "│ posEmbedding        │ (\u001b[38;5;45mNone\u001b[0m, \u001b[38;5;34m35\u001b[0m, \u001b[38;5;34m10\u001b[0m)    │        \u001b[38;5;34m170\u001b[0m │ posInput[\u001b[38;5;34m0\u001b[0m][\u001b[38;5;34m0\u001b[0m]    │\n",
       "│ (\u001b[38;5;33mEmbedding\u001b[0m)         │                   │            │                   │\n",
       "├─────────────────────┼───────────────────┼────────────┼───────────────────┤\n",
       "│ rnnEmbedding        │ (\u001b[38;5;45mNone\u001b[0m, \u001b[38;5;34m35\u001b[0m, \u001b[38;5;34m256\u001b[0m)   │    \u001b[38;5;34m109,824\u001b[0m │ embeddingsInput[\u001b[38;5;34m…\u001b[0m │\n",
       "│ (\u001b[38;5;33mBidirectional\u001b[0m)     │                   │            │                   │\n",
       "├─────────────────────┼───────────────────┼────────────┼───────────────────┤\n",
       "│ rnnPos              │ (\u001b[38;5;45mNone\u001b[0m, \u001b[38;5;34m35\u001b[0m, \u001b[38;5;34m256\u001b[0m)   │     \u001b[38;5;34m35,584\u001b[0m │ posEmbedding[\u001b[38;5;34m0\u001b[0m][\u001b[38;5;34m…\u001b[0m │\n",
       "│ (\u001b[38;5;33mBidirectional\u001b[0m)     │                   │            │                   │\n",
       "├─────────────────────┼───────────────────┼────────────┼───────────────────┤\n",
       "│ global_max_pooling… │ (\u001b[38;5;45mNone\u001b[0m, \u001b[38;5;34m256\u001b[0m)       │          \u001b[38;5;34m0\u001b[0m │ rnnEmbedding[\u001b[38;5;34m0\u001b[0m][\u001b[38;5;34m…\u001b[0m │\n",
       "│ (\u001b[38;5;33mGlobalMaxPooling1…\u001b[0m │                   │            │                   │\n",
       "├─────────────────────┼───────────────────┼────────────┼───────────────────┤\n",
       "│ global_max_pooling… │ (\u001b[38;5;45mNone\u001b[0m, \u001b[38;5;34m256\u001b[0m)       │          \u001b[38;5;34m0\u001b[0m │ rnnPos[\u001b[38;5;34m0\u001b[0m][\u001b[38;5;34m0\u001b[0m]      │\n",
       "│ (\u001b[38;5;33mGlobalMaxPooling1…\u001b[0m │                   │            │                   │\n",
       "├─────────────────────┼───────────────────┼────────────┼───────────────────┤\n",
       "│ lexiconInput        │ (\u001b[38;5;45mNone\u001b[0m, \u001b[38;5;34m5\u001b[0m)         │          \u001b[38;5;34m0\u001b[0m │ -                 │\n",
       "│ (\u001b[38;5;33mInputLayer\u001b[0m)        │                   │            │                   │\n",
       "├─────────────────────┼───────────────────┼────────────┼───────────────────┤\n",
       "│ features            │ (\u001b[38;5;45mNone\u001b[0m, \u001b[38;5;34m517\u001b[0m)       │          \u001b[38;5;34m0\u001b[0m │ global_max_pooli… │\n",
       "│ (\u001b[38;5;33mConcatenate\u001b[0m)       │                   │            │ global_max_pooli… │\n",
       "│                     │                   │            │ lexiconInput[\u001b[38;5;34m0\u001b[0m][\u001b[38;5;34m…\u001b[0m │\n",
       "├─────────────────────┼───────────────────┼────────────┼───────────────────┤\n",
       "│ dense_5 (\u001b[38;5;33mDense\u001b[0m)     │ (\u001b[38;5;45mNone\u001b[0m, \u001b[38;5;34m64\u001b[0m)        │     \u001b[38;5;34m33,152\u001b[0m │ features[\u001b[38;5;34m0\u001b[0m][\u001b[38;5;34m0\u001b[0m]    │\n",
       "├─────────────────────┼───────────────────┼────────────┼───────────────────┤\n",
       "│ dropout_5 (\u001b[38;5;33mDropout\u001b[0m) │ (\u001b[38;5;45mNone\u001b[0m, \u001b[38;5;34m64\u001b[0m)        │          \u001b[38;5;34m0\u001b[0m │ dense_5[\u001b[38;5;34m0\u001b[0m][\u001b[38;5;34m0\u001b[0m]     │\n",
       "├─────────────────────┼───────────────────┼────────────┼───────────────────┤\n",
       "│ output (\u001b[38;5;33mDense\u001b[0m)      │ (\u001b[38;5;45mNone\u001b[0m, \u001b[38;5;34m5\u001b[0m)         │        \u001b[38;5;34m325\u001b[0m │ dropout_5[\u001b[38;5;34m0\u001b[0m][\u001b[38;5;34m0\u001b[0m]   │\n",
       "└─────────────────────┴───────────────────┴────────────┴───────────────────┘\n"
      ]
     },
     "metadata": {},
     "output_type": "display_data"
    },
    {
     "data": {
      "text/html": [
       "<pre style=\"white-space:pre;overflow-x:auto;line-height:normal;font-family:Menlo,'DejaVu Sans Mono',consolas,'Courier New',monospace\"><span style=\"font-weight: bold\"> Total params: </span><span style=\"color: #00af00; text-decoration-color: #00af00\">179,055</span> (699.43 KB)\n",
       "</pre>\n"
      ],
      "text/plain": [
       "\u001b[1m Total params: \u001b[0m\u001b[38;5;34m179,055\u001b[0m (699.43 KB)\n"
      ]
     },
     "metadata": {},
     "output_type": "display_data"
    },
    {
     "data": {
      "text/html": [
       "<pre style=\"white-space:pre;overflow-x:auto;line-height:normal;font-family:Menlo,'DejaVu Sans Mono',consolas,'Courier New',monospace\"><span style=\"font-weight: bold\"> Trainable params: </span><span style=\"color: #00af00; text-decoration-color: #00af00\">179,055</span> (699.43 KB)\n",
       "</pre>\n"
      ],
      "text/plain": [
       "\u001b[1m Trainable params: \u001b[0m\u001b[38;5;34m179,055\u001b[0m (699.43 KB)\n"
      ]
     },
     "metadata": {},
     "output_type": "display_data"
    },
    {
     "data": {
      "text/html": [
       "<pre style=\"white-space:pre;overflow-x:auto;line-height:normal;font-family:Menlo,'DejaVu Sans Mono',consolas,'Courier New',monospace\"><span style=\"font-weight: bold\"> Non-trainable params: </span><span style=\"color: #00af00; text-decoration-color: #00af00\">0</span> (0.00 B)\n",
       "</pre>\n"
      ],
      "text/plain": [
       "\u001b[1m Non-trainable params: \u001b[0m\u001b[38;5;34m0\u001b[0m (0.00 B)\n"
      ]
     },
     "metadata": {},
     "output_type": "display_data"
    },
    {
     "name": "stdout",
     "output_type": "stream",
     "text": [
      "\n",
      "Training SimpleRNN model...\n",
      "Epoch 1/12\n",
      "\u001b[1m2500/2500\u001b[0m \u001b[32m━━━━━━━━━━━━━━━━━━━━\u001b[0m\u001b[37m\u001b[0m \u001b[1m188s\u001b[0m 74ms/step - accuracy: 0.3862 - loss: 1.4374 - val_accuracy: 0.5508 - val_loss: 1.1430\n",
      "Epoch 2/12\n",
      "\u001b[1m2500/2500\u001b[0m \u001b[32m━━━━━━━━━━━━━━━━━━━━\u001b[0m\u001b[37m\u001b[0m \u001b[1m181s\u001b[0m 72ms/step - accuracy: 0.5365 - loss: 1.1700 - val_accuracy: 0.5875 - val_loss: 1.0611\n",
      "Epoch 3/12\n",
      "\u001b[1m2500/2500\u001b[0m \u001b[32m━━━━━━━━━━━━━━━━━━━━\u001b[0m\u001b[37m\u001b[0m \u001b[1m171s\u001b[0m 68ms/step - accuracy: 0.5841 - loss: 1.0598 - val_accuracy: 0.6148 - val_loss: 0.9813\n",
      "Epoch 4/12\n",
      "\u001b[1m2500/2500\u001b[0m \u001b[32m━━━━━━━━━━━━━━━━━━━━\u001b[0m\u001b[37m\u001b[0m \u001b[1m183s\u001b[0m 73ms/step - accuracy: 0.6058 - loss: 1.0091 - val_accuracy: 0.6328 - val_loss: 0.9121\n",
      "Epoch 5/12\n",
      "\u001b[1m2500/2500\u001b[0m \u001b[32m━━━━━━━━━━━━━━━━━━━━\u001b[0m\u001b[37m\u001b[0m \u001b[1m173s\u001b[0m 69ms/step - accuracy: 0.6169 - loss: 0.9760 - val_accuracy: 0.6423 - val_loss: 0.8879\n",
      "Epoch 6/12\n",
      "\u001b[1m2500/2500\u001b[0m \u001b[32m━━━━━━━━━━━━━━━━━━━━\u001b[0m\u001b[37m\u001b[0m \u001b[1m185s\u001b[0m 74ms/step - accuracy: 0.6268 - loss: 0.9469 - val_accuracy: 0.6563 - val_loss: 0.8591\n",
      "Epoch 7/12\n",
      "\u001b[1m2500/2500\u001b[0m \u001b[32m━━━━━━━━━━━━━━━━━━━━\u001b[0m\u001b[37m\u001b[0m \u001b[1m175s\u001b[0m 70ms/step - accuracy: 0.6335 - loss: 0.9322 - val_accuracy: 0.6497 - val_loss: 0.8825\n",
      "Epoch 8/12\n",
      "\u001b[1m2500/2500\u001b[0m \u001b[32m━━━━━━━━━━━━━━━━━━━━\u001b[0m\u001b[37m\u001b[0m \u001b[1m185s\u001b[0m 74ms/step - accuracy: 0.6353 - loss: 0.9215 - val_accuracy: 0.6557 - val_loss: 0.8642\n",
      "Epoch 9/12\n",
      "\u001b[1m2500/2500\u001b[0m \u001b[32m━━━━━━━━━━━━━━━━━━━━\u001b[0m\u001b[37m\u001b[0m \u001b[1m176s\u001b[0m 71ms/step - accuracy: 0.6409 - loss: 0.9072 - val_accuracy: 0.6540 - val_loss: 0.8817\n",
      "Epoch 10/12\n",
      "\u001b[1m2500/2500\u001b[0m \u001b[32m━━━━━━━━━━━━━━━━━━━━\u001b[0m\u001b[37m\u001b[0m \u001b[1m187s\u001b[0m 75ms/step - accuracy: 0.6429 - loss: 0.8987 - val_accuracy: 0.6522 - val_loss: 0.8686\n",
      "Epoch 11/12\n",
      "\u001b[1m2500/2500\u001b[0m \u001b[32m━━━━━━━━━━━━━━━━━━━━\u001b[0m\u001b[37m\u001b[0m \u001b[1m180s\u001b[0m 72ms/step - accuracy: 0.6444 - loss: 0.8987 - val_accuracy: 0.6580 - val_loss: 0.8562\n",
      "Epoch 12/12\n",
      "\u001b[1m2500/2500\u001b[0m \u001b[32m━━━━━━━━━━━━━━━━━━━━\u001b[0m\u001b[37m\u001b[0m \u001b[1m189s\u001b[0m 76ms/step - accuracy: 0.6481 - loss: 0.8879 - val_accuracy: 0.6628 - val_loss: 0.8545\n"
     ]
    }
   ],
   "source": [
    "compare(embeddingDim, posVocabSize, lexiconCols, xTrain, yTrain, xVal, yVal)\n"
   ]
  }
 ],
 "metadata": {
  "kernelspec": {
   "display_name": "Python 3",
   "language": "python",
   "name": "python3"
  },
  "language_info": {
   "codemirror_mode": {
    "name": "ipython",
    "version": 3
   },
   "file_extension": ".py",
   "mimetype": "text/x-python",
   "name": "python",
   "nbconvert_exporter": "python",
   "pygments_lexer": "ipython3",
   "version": "3.12.7"
  }
 },
 "nbformat": 4,
 "nbformat_minor": 5
}
