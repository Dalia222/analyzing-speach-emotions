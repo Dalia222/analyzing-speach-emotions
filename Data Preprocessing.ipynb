{
 "cells": [
  {
   "cell_type": "markdown",
   "id": "b5720713",
   "metadata": {},
   "source": [
    "<h1 style=\"text-align:center; font-family:Georgia; font-weight:bold; \">Imports</h1>"
   ]
  },
  {
   "cell_type": "code",
   "execution_count": null,
   "id": "636d64d3",
   "metadata": {},
   "outputs": [],
   "source": [
    "import re\n",
    "import nltk\n",
    "import json\n",
    "import spacy\n",
    "import numpy as np\n",
    "import pandas as pd\n",
    "from collections import Counter\n",
    "import gensim.downloader as api\n",
    "from gensim.models import FastText\n",
    "from nltk.corpus import stopwords\n",
    "from tensorflow.keras import layers, Input \n",
    "from tensorflow.keras.models import Sequential, Model\n",
    "from sklearn.preprocessing import LabelEncoder, StandardScaler\n",
    "from tensorflow.keras.preprocessing.sequence import pad_sequences\n",
    "from tensorflow.keras.layers import Embedding, Bidirectional, LSTM, Dense, Dropout, Attention, Concatenate, Flatten"
   ]
  },
  {
   "cell_type": "code",
   "execution_count": 32,
   "id": "85b938b9",
   "metadata": {},
   "outputs": [
    {
     "name": "stderr",
     "output_type": "stream",
     "text": [
      "[nltk_data] Downloading package punkt_tab to\n",
      "[nltk_data]     C:\\Users\\dell\\AppData\\Roaming\\nltk_data...\n",
      "[nltk_data]   Package punkt_tab is already up-to-date!\n",
      "[nltk_data] Downloading package stopwords to\n",
      "[nltk_data]     C:\\Users\\dell\\AppData\\Roaming\\nltk_data...\n",
      "[nltk_data]   Package stopwords is already up-to-date!\n",
      "[nltk_data] Downloading package wordnet to\n",
      "[nltk_data]     C:\\Users\\dell\\AppData\\Roaming\\nltk_data...\n",
      "[nltk_data]   Package wordnet is already up-to-date!\n"
     ]
    },
    {
     "name": "stdout",
     "output_type": "stream",
     "text": [
      "\u001b[38;5;2m✔ Download and installation successful\u001b[0m\n",
      "You can now load the package via spacy.load('en_core_web_sm')\n",
      "\u001b[38;5;3m⚠ Restart to reload dependencies\u001b[0m\n",
      "If you are in a Jupyter or Colab notebook, you may need to restart Python in\n",
      "order to load all the package's dependencies. You can do this by selecting the\n",
      "'Restart kernel' or 'Restart runtime' option.\n"
     ]
    },
    {
     "name": "stderr",
     "output_type": "stream",
     "text": [
      "[nltk_data] Downloading package averaged_perceptron_tagger_eng to\n",
      "[nltk_data]     C:\\Users\\dell\\AppData\\Roaming\\nltk_data...\n",
      "[nltk_data]   Package averaged_perceptron_tagger_eng is already up-to-\n",
      "[nltk_data]       date!\n"
     ]
    }
   ],
   "source": [
    "word2vec = api.load(\"word2vec-google-news-300\")  \n",
    "nltk.download(\"punkt_tab\")\n",
    "nltk.download(\"stopwords\")\n",
    "nltk.download(\"wordnet\")\n",
    "spacy.cli.download(\"en_core_web_sm\")\n",
    "nltk.download('averaged_perceptron_tagger_eng')\n",
    "nlp = spacy.load(\"en_core_web_sm\")"
   ]
  },
  {
   "cell_type": "markdown",
   "id": "99e485d5",
   "metadata": {},
   "source": [
    "<h1 style=\"text-align:center; font-family:Georgia; font-weight:bold; \">Constants and Global Variables</h1>"
   ]
  },
  {
   "cell_type": "code",
   "execution_count": 33,
   "id": "af40173f",
   "metadata": {},
   "outputs": [],
   "source": [
    "text = pd.read_csv('Collected Datasets/text.csv')\n",
    "\n",
    "EMOTIONS = ['happiness', 'neutral', 'sadness', 'anger', 'fear', ]\n",
    "MAPPER = {emotion: [] for emotion in EMOTIONS}\n",
    "\n",
    "scaler = StandardScaler()\n",
    "encoder = LabelEncoder()\n",
    "encoder.classes_ = np.array(EMOTIONS)\n",
    "\n",
    "nlp = spacy.load(\"en_core_web_sm\")\n",
    "lemmatizer = nltk.WordNetLemmatizer()\n",
    "STOP_WORDS = set(stopwords.words(\"english\"))\n",
    "STOP_WORDS = STOP_WORDS.difference({'no', 'not', 'nor', 'never', \"n't\"})"
   ]
  },
  {
   "cell_type": "code",
   "execution_count": 34,
   "id": "9889ce49",
   "metadata": {},
   "outputs": [
    {
     "name": "stdout",
     "output_type": "stream",
     "text": [
      "{'happiness': ['joyful', 'ecstatic', 'content', 'cheerful', 'elated', 'delighted', 'pleased', 'radiant', 'euphoric', 'jovial', 'happy', 'merry', 'exuberant', 'overjoyed', 'satisfied', 'grateful', 'sunny', 'bubbly', 'lively', 'gleeful', 'glad', 'in high spirits', 'laughing', 'thrilled', 'blissful', 'carefree', 'exhilarated', 'optimistic', 'chipper', 'buoyant', 'uplifted', 'beaming', 'jubilant', 'proud', 'alive', 'zestful', 'lighthearted', 'upbeat', 'charmed', 'tickled pink', 'rapturous', 'in a good mood', 'on cloud nine', 'pumped', 'excited', 'grinning', 'eager', 'silly', 'pleased as punch', 'mirthful', 'vibrant', 'giddy', 'serene', 'festive', 'playful', 'contented', 'radiant', 'laughing fit', 'high-spirited', 'in a good place', 'carefree', 'light', 'breezy', 'sociable', 'enthusiastic', 'pleased with oneself', 'joyous', 'sweet', 'sanguine', 'delighted beyond words', 'up and about', 'full of life', 'tickled', 'exultant', 'bouncy', 'happy-go-lucky', 'energetic', 'on top of the world', 'hilarious', 'bright-eyed', 'loving', 'grateful for', 'full of joy', 'blithe', 'cheery', 'in a daze of happiness', 'chipper', 'playful spirit', 'bright', 'smiling', 'charmed', 'vivid', 'sparkling', 'full of smiles', 'luminous', 'affectionate', 'grinning from ear to ear', 'gleaming', 'funky', 'funky happy', 'over the moon', 'dancing with joy', 'radiant smile', 'energetic', 'charming', 'beaming with happiness', 'bouncy spirit', 'grateful attitude', 'feeling good', 'happy heart', 'exulting', 'pure happiness', 'in a blissful state', 'happy as can be', 'zippy', 'gleaming face', 'spirited', 'cheerful outlook', 'confident', 'arrogant', 'self-assured', 'egoistic', 'proud', 'self-satisfied', 'boastful', 'conceited', 'vainglorious', 'self-important', 'overconfident', 'haughty', 'vain', 'narcissistic', 'immodest', 'elated', 'gratified', 'honored', 'accomplished', 'pompous', 'dignified', 'venerated', 'satisfied', 'high-minded', 'distinguished', 'superior', 'egocentric', 'chauvinistic', 'complacent', 'exalted', 'ambitious', 'magnificent', 'prestigious', 'flattered', 'self-regarding', 'boasting', 'victorious', 'dominant', 'triumphant', 'admired', 'self-satisfied', 'lauded', 'haughty attitude', 'self-respecting', 'worthy', 'proud of', 'conspicuous', 'famous', 'grateful', 'dignified stance', 'self-assertive', 'noble', 'honorable', 'glorious', 'self-reliant', 'joyful', 'radiant', 'regal', 'elated', 'acknowledged', 'appreciated', 'overachieving', 'impressive', 'esteemed', 'valiant', 'glorious victory', 'admiring', 'full of pride', 'lauded victory', 'unyielding', 'indomitable', 'influential', 'fulfilled', 'self-confident', 'recognized', 'high-achieving', 'exceptional', 'endowed', 'basking in glory', 'on top of the world', 'victorious', 'in command', 'prestigious', 'acclaimed', 'fortune', 'inspired'], 'neutral': ['calm', 'relaxed', 'indifferent', 'unmoved', 'nonchalant', 'detached', 'composed', 'serene', 'unperturbed', 'stable', 'content', 'peaceful', 'unfazed', 'balanced', 'even-tempered', 'at ease', 'tranquil', 'bland', 'unexcited', 'uninterested', 'unaffected', 'mild', 'moderate', 'unconcerned', 'steady', 'emotionless', 'stable-minded', 'level-headed', 'unemotional', 'dispassionate', 'composed', 'neutralized', 'unflustered', 'unmoved', 'distant', 'cool-headed', 'meh', 'unenthusiastic', 'unbiased', 'flat', 'undisturbed', 'equilibrium', 'non-reactive', 'stoic', 'unstirred', 'inexpressive', 'balanced', 'disengaged', 'unresponsive', 'uneffected', 'even-tempered', 'disinterested', 'tranquilized', 'non-responsive', 'at peace', 'undisturbed', 'underwhelmed', 'faint', 'low-key', 'subdued', 'equanimous', 'nonchalant mood', 'unobtrusive', 'steady-handed', 'monotone', 'lack of feeling', 'unwavering', 'unperturbed', 'calmness', 'even-keeled', 'unruffled', 'emotion-free', 'cool', 'understated', 'unmoved by', 'clear-headed', 'stable state', 'unshaken', 'normal', 'rational', 'indifferent tone', 'unaltered', 'inoffensive', 'passive', 'smooth', 'cool-headed', 'detachment', 'harmonious', 'without reaction', 'undistracted', 'calmed', 'still', 'unbothered', 'unaffected reaction', 'neutral stance', 'subtle', 'calm demeanor'], 'sadness': ['melancholy', 'heartbroken', 'mournful', 'sorrowful', 'grief-stricken', 'downhearted', 'despondent', 'depressed', 'blue', 'dismal', 'forlorn', 'gloomy', 'disheartened', 'desolate', 'crestfallen', 'woeful', 'unhappy', 'lugubrious', 'dismayed', 'tearful', 'doleful', 'dispirited', 'heavy-hearted', 'wretched', 'low-spirited', 'sorrowing', 'glum', 'downcast', 'depressed', 'inconsolable', 'bitter', 'hopeless', 'sad', 'pained', 'grief', 'in sorrow', 'weeping', 'distressed', 'shattered', 'unfulfilled', 'lonely', 'morose', 'blue mood', 'lifeless', 'down', 'mournful', 'grieving', 'tear-stained', 'languishing', 'hopelessness', 'saddened', 'tired', 'defeated', 'crushed', 'dreadful', 'heavy soul', 'weary', 'despair', 'disappointed', 'broken-hearted', 'aching', 'out of sorts', 'gloom', 'exhausted', 'crying', 'despondency', 'empty', 'heartache', 'tearful eyes', 'woebegone', 'hurt', 'pain', 'sulk', 'downhearted', 'pessimistic', 'frustrated', 'sighing', 'unmotivated', 'defeated', 'isolated', 'unhappy', 'mourn', 'discontented', 'hopeless', 'anguish', 'dread', 'crushed spirit', 'grief-stricken', 'sullen', 'withdrawn', 'overwhelmed', 'stricken', 'despairing', 'unwell', 'sick at heart', 'struggling', 'gloominess', 'bitter tears', 'longing', 'broken', 'sad-faced', 'down in the dumps', 'overcome with grief', 'woe', 'dejected', 'saddened by', 'feeling low', 'tearful', 'lost', 'empty-hearted', 'dull', 'stale', 'losing hope', 'discontent', 'regretful', 'doubting', 'tired soul', 'miserable', 'numb', 'dejected heart', 'grieving soul', 'suffering', 'heartache', 'choked up', 'falling apart', 'empty feeling'], 'anger': ['furious', 'livid', 'enraged', 'mad', 'irritated', 'outraged', 'infuriated', 'annoyed', 'fuming', 'wrathful', 'agitated', 'exasperated', 'vexed', 'infuriated', 'incensed', 'hostile', 'mad as a hornet', 'irate', 'raging', 'seething', 'boiling', 'ticked off', 'cross', 'aggrieved', 'angry', 'fretful', 'upset', 'hot under the collar', 'on edge', 'frenzied', 'resentful', 'violent', 'riled', 'wrath', 'vehement', 'indignant', 'spiteful', 'bitter', 'scornful', 'indignant', 'mad as hell', 'offended', 'fuming mad', 'red-faced', 'displeased', 'riled up', 'disgruntled', 'agitated', 'boiling over', 'miffed', 'heated', \"at the end of one's rope\", 'livid', 'fired up', 'irritable', 'apoplectic', 'blazing', 'wrathful', 'explosive', 'choleric', 'in a rage', 'overheated', 'short-tempered', 'smoldering', 'testy', 'worked up', 'off the rails', 'mad dog', 'fiery', 'stoked', 'madcap', 'blistering', 'sour', 'indignant', 'out of sorts', 'in a fury', 'madcap', 'displeased', 'out of control', 'twisted', 'beside oneself', 'troubled', 'upset', 'in a tizz', 'pissed off', 'steaming', 'enraged', 'incensed', 'bitter', 'impassioned', 'discomposed', 'agog', 'fuming', 'on the warpath', 'riled', 'enflamed', 'exasperated', 'boiling with rage', 'infuriated', 'furious as a bull', 'scornful', 'disdainful', 'disrespectful', 'mocking', 'sneering', 'contemptuous', 'derisive', 'condescending', 'arrogant', 'superior', 'patronizing', 'sarcastic', 'disparaging', 'haughty', 'insulting', 'belittling', 'critical', 'despising', 'snide', 'judgmental', 'nasty', 'dismissive', 'scathing', 'offensive', 'snobbish', 'contempt', 'indifferent', 'supercilious', 'unconcerned', 'cynical', 'pompous', 'snooty', 'scorn', 'derision', 'rude', 'irritable', 'disparage', 'detracting', 'disrespect', 'sarcasm', 'condescending tone', 'haughty attitude', 'scornful laughter', 'sneer', 'unapproachable', 'intolerant', 'patronizing attitude', 'disdain', 'mock', 'demeaning', 'uncaring', 'exasperating', 'dismissive attitude', 'snide remarks', 'contemptuous glance', 'inferior', 'belittle', 'indifference', 'degrading', 'displeasure', 'arrogance', 'aloof', 'uninterested', 'condemn', 'devaluing', 'ridicule', 'scornful behavior', 'patronizing behavior', 'abrasive', 'unfriendly', 'hostile', 'abusive', 'disrespectful remarks', 'condescending expression', 'low regard', 'disdainful look', 'snobbish attitude', 'loathsome', 'dismissing', 'scorned', 'unimpressed', 'disapproving', 'derogatory', 'contemptuous tone', 'disdainful smile', 'insult', 'reproach', 'arrogant demeanor', 'dismiss', 'mockery', 'pity', 'undermining', 'cold', 'self-important', 'nauseated', 'repulsed', 'grossed out', 'revolted', 'sickened', 'displeased', 'contaminated', 'distasteful', 'abhorrent', 'loathing', 'disgusted', 'offended', 'horrified', 'abhorrence', 'repelled', 'revulsion', 'unpleasant', 'shocking', 'unappealing', 'foul', 'vile', 'sick', 'displeasing', 'repelling', 'appalling', 'ghastly', 'detestable', 'revolting', 'unbearable', 'horrid', 'putrid', 'nasty', 'vile', 'disgusting', 'unclean', 'obnoxious', 'grotesque', 'detestable', 'noxious', 'offensive', 'filthy', 'disgraceful', 'foul-smelling', 'rank', 'repugnant', 'off-putting', 'stinky', 'detested', 'unpleasant', 'abominable', 'offensive', 'repelling', 'degrading', 'putrid', 'pestilent', 'inhumane', 'disgraceful', 'unhygienic', 'unclean', 'filthy', 'stinky', 'distasteful', 'rebarbative', 'toxic', 'polluted', 'offensive', 'depraved', 'revolting', 'disdainful', 'offending', 'noxious', 'heinous', 'discomfiting', 'contaminated', 'haunting', 'noxious', 'unsightly', 'nauseous', 'degraded', 'sorrowful', 'sorrowful', 'unpleasant', 'grotty', 'loathsome', 'repugnant', 'appalling', 'dismal', 'perverse', 'nasty', 'odious', 'unwanted', 'unsettling', 'wretched', 'gag-worthy', 'disfavor', 'bad-tasting', 'abominable', 'unenjoyable', 'smelly', 'awful', 'offensive', 'spiteful', 'annoyed', 'irritated', 'exasperated', 'agitated', 'angered', 'vexed', 'displeased', 'disappointed', 'impatient', 'furious', 'infuriated', 'upset', 'anguish', 'fuming', 'tense', 'frustrated', 'disturbed', 'bitter', 'worn-out', 'exhausted', 'irritable', 'frantic', 'testy', 'enraged', 'dismayed', 'outraged', 'livid', 'frenzied', 'fretful', 'distressed', 'resentful', 'peeved', 'vexing', 'troubled', 'ruffled', 'mad', 'discontent', 'aggravated', 'impetuous', 'disgruntled', 'frayed', 'stressed', 'dissatisfied', 'tense mood', 'grumpy', 'bothered', 'riled up', 'annoyance', 'exasperating', 'hostile', 'annoyance', 'cranky', 'disillusioned', 'disheartened', 'upsetting', 'provoked', 'perplexed', 'tired', 'strained', 'constrained', 'chafed', 'worried', 'embittered', 'fed up', 'vexed state', 'jaded', 'frayed nerves', 'irritate', 'imprisoned', 'maddened', 'perturbed', 'despondent', 'agonized', 'discomforted', 'soured', 'disturbed', 'unsettled', 'chronic frustration', 'overloaded', 'under pressure', 'exasperated mood', 'frustrated', 'restless', 'soured mood', 'indignant', 'pressured', 'seething', 'agony', 'fuming', 'nervy', 'overwhelmed', 'revolted', 'beaten down', 'dissatisfied with', 'cranky mood', 'displeasure', 'irritable mood', 'harried', 'impatiently', 'restive', 'worn-out nerves', 'peevish', 'angry disposition', 'discontented', 'bitter frustration', 'nervous energy', 'stressed out', 'tired of', 'jumpy', 'nervous breakdown'], 'fear': ['terrified', 'scared', 'afraid', 'frightened', 'horrified', 'panic', 'alarmed', 'anxious', 'nervous', 'apprehensive', 'horrified', 'startled', 'terrorized', 'shocked', 'apprehensive', 'fearful', 'dreadful', 'spooked', 'uneasy', 'worried', 'jittery', 'disturbed', 'tense', 'shaking', 'sweating', 'paranoid', 'hesitant', 'timid', 'jumpy', 'trembling', 'overwhelmed', 'fear-stricken', 'fearful', 'creeped out', 'dismayed', 'petrified', 'nervy', 'unsettled', 'chilled', 'shuddering', 'skeptical', 'hasty', 'wary', 'terrifying', 'dread', 'panicked', 'insecure', 'scary', 'hesitant', 'anxious', 'choked up', 'horrified', 'alarmed', 'spooked', 'afraid of', 'terrified of', 'freaked out', 'frantic', 'fright', 'trepidation', 'shivering', 'fearful of', 'intimidated', 'jumpy', 'distressed', 'uneasy', 'nervousness', 'chilly', 'apprehensive', 'nervously', 'dismayed', 'spooked out', 'frozen', 'on edge', 'panicked', 'horrified', 'terrifying', 'dreadful', 'uneasy feeling', 'vulnerable', 'spine-chilling', 'in fear', 'quaking', 'choked', 'panicked', 'creeped', 'worried', 'terrifying', 'aghast', 'shaky', 'overcome with fear', 'frightening', 'stunned', 'agitated', 'suspicious', 'insecure feeling', 'terror', 'panic-stricken', 'gasping', 'horrified look', 'overcome by fear', 'terrible', 'dreaded', 'fearful look', 'terrified stare', 'scary', 'frightening appearance']}\n"
     ]
    }
   ],
   "source": [
    "'''Emotional Lexicons'''\n",
    "wordMap = pd.read_csv('wordMap.csv')\n",
    "for emotion in wordMap.columns.to_list():\n",
    "    words = [str(word).lower() for word in wordMap[emotion].dropna()]\n",
    "    if emotion.lower() in EMOTIONS: MAPPER[emotion.lower()] = words\n",
    "    if emotion in ['Calm', 'Boredom']: MAPPER['neutral'] += words   \n",
    "    if emotion in ['Excitement', 'Pride']: MAPPER['happiness'] += words\n",
    "    if emotion in ['Disgust', 'Frustration', 'Contempt']: MAPPER['anger'] += words\n",
    "\n",
    "print(MAPPER)\n"
   ]
  },
  {
   "cell_type": "code",
   "execution_count": 35,
   "id": "b268c4af",
   "metadata": {},
   "outputs": [
    {
     "name": "stdout",
     "output_type": "stream",
     "text": [
      "<class 'pandas.core.frame.DataFrame'>\n",
      "Index: 195 entries, 0 to 262\n",
      "Data columns (total 2 columns):\n",
      " #   Column       Non-Null Count  Dtype \n",
      "---  ------       --------------  ----- \n",
      " 0   Contraction  195 non-null    object\n",
      " 1   Meaning      195 non-null    object\n",
      "dtypes: object(2)\n",
      "memory usage: 4.6+ KB\n"
     ]
    }
   ],
   "source": [
    "'''Contractions'''\n",
    "with open(\"Common English Contractions/contractions.json\" , 'r') as file:\n",
    "    contractions = json.load(file)\n",
    "    \n",
    "contractions = pd.DataFrame(list(contractions.items()), columns=[\"Contraction\", \"Meaning\"])\n",
    "contractions = pd.concat([contractions, pd.read_csv(\"Common English Contractions/contractions.csv\")], ignore_index=True)\n",
    "contractions.drop_duplicates(inplace=True)\n",
    "contractions[\"Contraction\"] = contractions[\"Contraction\"].str.lower()\n",
    "contractions[\"Meaning\"] = contractions[\"Meaning\"].str.lower()\n",
    "contractions.info()\n",
    "contractions = contractions.set_index(\"Contraction\").to_dict()[\"Meaning\"]"
   ]
  },
  {
   "cell_type": "markdown",
   "id": "9d1660d7",
   "metadata": {},
   "source": [
    "<h1 style=\"text-align:center; font-family:Georgia; font-weight:bold; \">Cleaning and Preprocessing</h1>"
   ]
  },
  {
   "cell_type": "markdown",
   "id": "54f53154",
   "metadata": {},
   "source": [
    "<pre>\n",
    "- All characters are lowercase\n",
    "- No non alphabetic characters or numbers\n",
    "</pre>"
   ]
  },
  {
   "cell_type": "code",
   "execution_count": 36,
   "id": "f56be3f4",
   "metadata": {},
   "outputs": [],
   "source": [
    "def scale(data, f=\"train\"):\n",
    "    if f == \"train\":\n",
    "        data = scaler.fit_transform(data)\n",
    "    else:\n",
    "        data = scaler.transform(data)\n",
    "    return data"
   ]
  },
  {
   "cell_type": "code",
   "execution_count": 37,
   "id": "c09fe048",
   "metadata": {},
   "outputs": [],
   "source": [
    "def encode(data, f=\"train\"):\n",
    "    if f == \"train\":\n",
    "        data = encoder.fit_transform(data)\n",
    "    else:\n",
    "        data = encoder.transform(data)\n",
    "    return data"
   ]
  },
  {
   "cell_type": "code",
   "execution_count": 38,
   "id": "a7568f97",
   "metadata": {},
   "outputs": [],
   "source": [
    "def filterByTextLength(data, minLen=5, maxLen=35):\n",
    "    def _lengthFilter(text):\n",
    "        if isinstance(text, str):\n",
    "            length = len(text.split())\n",
    "            return minLen <= length <= maxLen\n",
    "        return False \n",
    "    \n",
    "    filteredData = data[data[\"Text\"].apply(_lengthFilter)].reset_index(drop=True)\n",
    "    return filteredData"
   ]
  },
  {
   "cell_type": "code",
   "execution_count": 39,
   "id": "8fd03783",
   "metadata": {},
   "outputs": [],
   "source": [
    "def expandContractions(data):\n",
    "    count = 0\n",
    "    for contraction, meaning in contractions.items():\n",
    "        count += data['Text'].apply(lambda line: len(re.findall(rf'\\b{contraction}\\b', line))).sum()\n",
    "        data['Text'] = data['Text'].apply(\n",
    "            lambda line: re.sub(rf'\\b{contraction}\\b', meaning, line)\n",
    "            )\n",
    "        \n",
    "    print(\"Number of contractions removed:\", count)\n",
    "    \n",
    "    return data"
   ]
  },
  {
   "cell_type": "code",
   "execution_count": 40,
   "id": "ffdf593b",
   "metadata": {},
   "outputs": [],
   "source": [
    "def lexiconScore(data):\n",
    "    for emotion, keywords in MAPPER.items():\n",
    "        scores = []\n",
    "        totalMatches = 0 \n",
    "        for text in data['Text']:\n",
    "            words = text.lower().split()\n",
    "            counter = Counter(words)\n",
    "            totalWords = len(words)\n",
    "            score = sum(counter[word] for word in keywords)\n",
    "            normalizedScore = score / totalWords if totalWords > 0 else 0.0\n",
    "            scores.append(normalizedScore)\n",
    "            totalMatches += score\n",
    "            \n",
    "        data[f\"{emotion}Score\"] = scores\n",
    "        print(f\"Total matched words for emotion '{emotion}': {totalMatches}\")\n",
    "\n",
    "        \n",
    "    return data"
   ]
  },
  {
   "cell_type": "code",
   "execution_count": 41,
   "id": "8178d789",
   "metadata": {},
   "outputs": [],
   "source": [
    "def positionalTaggingAndTokenization(data):\n",
    "    tokenizedTexts = []\n",
    "    posTagsList = []\n",
    "    \n",
    "    for text in data[\"Text\"]:\n",
    "        doc = nlp(str(text))\n",
    "        tokens = [token.text for token in doc]\n",
    "        posTags = [token.pos_ for token in doc]\n",
    "        \n",
    "        tokenizedTexts.append(tokens)\n",
    "        posTagsList.append(posTags)\n",
    "\n",
    "    data[\"Text\"] = tokenizedTexts\n",
    "    data[\"posTag\"] = posTagsList\n",
    "    \n",
    "    return data"
   ]
  },
  {
   "cell_type": "code",
   "execution_count": 42,
   "id": "bf979e7c",
   "metadata": {},
   "outputs": [],
   "source": [
    "def stopWordRemoval(data):\n",
    "    filteredTexts = []\n",
    "    filteredPOS = []\n",
    "    \n",
    "    for tokens, tags in zip(data[\"Text\"], data[\"posTag\"]):\n",
    "        filteredTokens = []\n",
    "        filteredTags = []\n",
    "        \n",
    "        for word, tag in zip(tokens, tags):\n",
    "            if word.lower() not in STOP_WORDS:\n",
    "                filteredTokens.append(word)\n",
    "                filteredTags.append(tag)\n",
    "        \n",
    "        filteredTexts.append(filteredTokens)\n",
    "        filteredPOS.append(filteredTags)\n",
    "    \n",
    "    data[\"Text\"] = filteredTexts\n",
    "    data[\"posTag\"] = filteredPOS\n",
    "    \n",
    "    return data\n"
   ]
  },
  {
   "cell_type": "code",
   "execution_count": 43,
   "id": "017aec40",
   "metadata": {},
   "outputs": [],
   "source": [
    "def fastTextEmbedding(data, vectorSize=100, window=5, minCount=1, epochs=10, maxLen=35):\n",
    "    tokenizedTexts = data['Text'].tolist()\n",
    "    embedder = FastText(sentences=tokenizedTexts, vector_size=vectorSize, window=window, min_count=minCount, epochs=epochs)\n",
    "    \n",
    "    sequences = []\n",
    "    for tokens in tokenizedTexts:\n",
    "        wordVectors = [embedder.wv[word] for word in tokens if word in embedder.wv]\n",
    "        sequences.append(wordVectors)\n",
    "    \n",
    "    zeroVector = np.zeros(vectorSize)\n",
    "    paddedSequences = []\n",
    "    for seq in sequences:\n",
    "        if len(seq) > maxLen:\n",
    "            seq = seq[:maxLen]\n",
    "        else:\n",
    "            seq = seq + [zeroVector] * (maxLen - len(seq))\n",
    "        paddedSequences.append(seq)\n",
    "    \n",
    "    embeddings = np.array(paddedSequences)\n",
    "    data['embeddings'] = list(embeddings)\n",
    "\n",
    "    return embedder, data\n"
   ]
  },
  {
   "cell_type": "code",
   "execution_count": null,
   "id": "ef795259",
   "metadata": {},
   "outputs": [],
   "source": [
    "def encodeAndPadPosTags(data, maxlen=35):\n",
    "    allPosTags = [tag for seq in data['posTag'] for tag in seq]\n",
    "    \n",
    "    posEncoder = LabelEncoder()\n",
    "    posEncoder.fit(allPosTags)\n",
    "    \n",
    "    encodedSequences = [posEncoder.transform(seq) for seq in data['posTag']]\n",
    "    posPadded = pad_sequences(encodedSequences, maxlen=maxlen, padding='post', truncating='post')\n",
    "    \n",
    "    data['posPadded'] = list(posPadded)\n",
    "    return data, posEncoder"
   ]
  },
  {
   "cell_type": "markdown",
   "id": "96cc2cb5",
   "metadata": {},
   "source": [
    "<h1 style=\"text-align:center; font-family:Georgia; font-weight:bold; \">Saving Preprocessed Data</h1>"
   ]
  },
  {
   "cell_type": "code",
   "execution_count": 44,
   "id": "411bc8d5",
   "metadata": {},
   "outputs": [
    {
     "name": "stdout",
     "output_type": "stream",
     "text": [
      "Number of contractions removed: 2394\n",
      "Total matched words for emotion 'happiness': 90858\n",
      "Total matched words for emotion 'neutral': 39163\n",
      "Total matched words for emotion 'sadness': 113783\n",
      "Total matched words for emotion 'anger': 174671\n",
      "Total matched words for emotion 'fear': 81027\n"
     ]
    }
   ],
   "source": [
    "text = filterByTextLength(text)\n",
    "text = expandContractions(text)\n",
    "text = lexiconScore(text)\n",
    "text = positionalTaggingAndTokenization(text)\n",
    "text = stopWordRemoval(text)\n",
    "text = fastTextEmbedding(text)"
   ]
  },
  {
   "cell_type": "code",
   "execution_count": 46,
   "id": "746ff5e5",
   "metadata": {},
   "outputs": [],
   "source": [
    "text[1].to_csv(\"Preprocessed Data/processedText.csv\",  index=False)"
   ]
  },
  {
   "cell_type": "code",
   "execution_count": null,
   "id": "7feebddb",
   "metadata": {},
   "outputs": [],
   "source": [
    "def buildModel(inputShape, modelType):\n",
    "    print(f\"\\nBuilding model with {modelType.__name__}\")\n",
    "\n",
    "    model = Sequential()\n",
    "    model.add(layers.Input(shape=inputShape))\n",
    "\n",
    "    model.add(Bidirectional(modelType(120, return_sequences=True)))\n",
    "\n",
    "    model.add(layers.GlobalAveragePooling1D())\n",
    "\n",
    "    model.add(Dense(64, activation=\"relu\"))\n",
    "    model.add(Dropout(0.3))\n",
    "    model.add(Dense(len(EMOTIONS), activation=\"softmax\"))\n",
    "\n",
    "    model.compile(optimizer=\"adam\", loss=\"categorical_crossentropy\", metrics=[\"accuracy\"])\n",
    "\n",
    "    return model\n"
   ]
  }
 ],
 "metadata": {
  "kernelspec": {
   "display_name": "Python 3",
   "language": "python",
   "name": "python3"
  },
  "language_info": {
   "codemirror_mode": {
    "name": "ipython",
    "version": 3
   },
   "file_extension": ".py",
   "mimetype": "text/x-python",
   "name": "python",
   "nbconvert_exporter": "python",
   "pygments_lexer": "ipython3",
   "version": "3.12.7"
  }
 },
 "nbformat": 4,
 "nbformat_minor": 5
}
