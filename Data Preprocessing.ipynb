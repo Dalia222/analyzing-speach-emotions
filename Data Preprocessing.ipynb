{
 "cells": [
  {
   "cell_type": "markdown",
   "id": "b5720713",
   "metadata": {},
   "source": [
    "<h1 style=\"text-align:center; font-family:Georgia; font-weight:bold; \">Imports</h1>"
   ]
  },
  {
   "cell_type": "code",
   "execution_count": null,
   "id": "636d64d3",
   "metadata": {},
   "outputs": [],
   "source": [
    "import numpy as np\n",
    "import pandas as pd\n",
    "from sklearn.preprocessing import LabelEncoder, StandardScaler\n"
   ]
  },
  {
   "cell_type": "markdown",
   "id": "99e485d5",
   "metadata": {},
   "source": [
    "<h1 style=\"text-align:center; font-family:Georgia; font-weight:bold; \">Constants and Global Variables</h1>"
   ]
  },
  {
   "cell_type": "code",
   "execution_count": null,
   "id": "af40173f",
   "metadata": {},
   "outputs": [],
   "source": [
    "audioAndText = pd.read_csv('Collected Datasets/audioAndText.csv')\n",
    "text = pd.read_csv('Collected Datasets/text.csv')"
   ]
  },
  {
   "cell_type": "markdown",
   "id": "9d1660d7",
   "metadata": {},
   "source": [
    "<h1 style=\"text-align:center; font-family:Georgia; font-weight:bold; \">Cleaning and Preprocessing</h1>"
   ]
  }
 ],
 "metadata": {
  "kernelspec": {
   "display_name": "Python 3",
   "language": "python",
   "name": "python3"
  },
  "language_info": {
   "codemirror_mode": {
    "name": "ipython",
    "version": 3
   },
   "file_extension": ".py",
   "mimetype": "text/x-python",
   "name": "python",
   "nbconvert_exporter": "python",
   "pygments_lexer": "ipython3",
   "version": "3.12.7"
  }
 },
 "nbformat": 4,
 "nbformat_minor": 5
}
