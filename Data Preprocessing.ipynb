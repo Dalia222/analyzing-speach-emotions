{
 "cells": [
  {
   "cell_type": "markdown",
   "id": "b5720713",
   "metadata": {},
   "source": [
    "<h1 style=\"text-align:center; font-family:Georgia; font-weight:bold; \">Imports</h1>"
   ]
  },
  {
   "cell_type": "code",
   "execution_count": 2,
   "id": "636d64d3",
   "metadata": {},
   "outputs": [],
   "source": [
    "import numpy as np\n",
    "import pandas as pd\n",
    "from sklearn.preprocessing import LabelEncoder, StandardScaler\n"
   ]
  },
  {
   "cell_type": "markdown",
   "id": "99e485d5",
   "metadata": {},
   "source": [
    "<h1 style=\"text-align:center; font-family:Georgia; font-weight:bold; \">Constants and Global Variables</h1>"
   ]
  },
  {
   "cell_type": "code",
   "execution_count": 13,
   "id": "af40173f",
   "metadata": {},
   "outputs": [],
   "source": [
    "audio = pd.read_csv('Collected Datasets/audio.csv')\n",
    "text = pd.read_csv('Collected Datasets/text.csv')\n",
    "\n",
    "EMOTIONS = ['happiness', 'neutral', 'sadness', 'anger', 'fear', ]\n",
    "MAPPER = {emotion: [] for emotion in EMOTIONS}\n",
    "\n",
    "scaler = StandardScaler()\n",
    "encoder = LabelEncoder()\n"
   ]
  },
  {
   "cell_type": "code",
   "execution_count": 4,
   "id": "9889ce49",
   "metadata": {},
   "outputs": [],
   "source": [
    "wordMap = pd.read_csv('wordMap.csv')\n",
    "for emotion in wordMap.columns.to_list():    \n",
    "    if emotion.lower() in EMOTIONS: MAPPER[emotion.lower()] = wordMap[emotion].to_list()\n",
    "    if emotion in ['Calm', 'Boredom']: MAPPER['neutral'] += wordMap[emotion].to_list()\n",
    "    if emotion in ['Excitement', 'Pride']: MAPPER['happiness'] += wordMap[emotion].to_list()\n",
    "    if emotion in ['Disgust', 'Frustration', 'Contempt']: MAPPER['anger'] += wordMap[emotion].to_list()"
   ]
  },
  {
   "cell_type": "markdown",
   "id": "9d1660d7",
   "metadata": {},
   "source": [
    "<h1 style=\"text-align:center; font-family:Georgia; font-weight:bold; \">Cleaning and Preprocessing</h1>"
   ]
  },
  {
   "cell_type": "code",
   "execution_count": 5,
   "id": "7cf2ee7d",
   "metadata": {},
   "outputs": [],
   "source": [
    "def _mfccStrToArray(mfccStr):\n",
    "        vals = np.array(list(map(float, mfccStr.split(','))))\n",
    "        return vals.reshape(13, vals.size // 13)\n",
    "    \n",
    "def _mfccArrayToStr(mfccArr):\n",
    "        return ','.join(map(str, mfccArr.flatten()))"
   ]
  },
  {
   "cell_type": "code",
   "execution_count": 6,
   "id": "f56be3f4",
   "metadata": {},
   "outputs": [],
   "source": [
    "def scale(data, f=\"train\"):\n",
    "    if f == \"train\":\n",
    "        data = scaler.fit_transform(data)\n",
    "    else:\n",
    "        data = scaler.transform(data)\n",
    "    return data"
   ]
  },
  {
   "cell_type": "code",
   "execution_count": 7,
   "id": "c09fe048",
   "metadata": {},
   "outputs": [],
   "source": [
    "def encode(data, f=\"train\"):\n",
    "    if f == \"train\":\n",
    "        data = encoder.fit_transform(data)\n",
    "    else:\n",
    "        data = encoder.transform(data)\n",
    "    return data"
   ]
  },
  {
   "cell_type": "code",
   "execution_count": null,
   "id": "f0498ca2",
   "metadata": {},
   "outputs": [],
   "source": [
    "def zeroPadding(data, maxLen=120):\n",
    "    data['mfcc'] = data['mfcc'].apply(_mfccStrToArray)\n",
    "    def padToMaxLen(mfccArr):\n",
    "        if mfccArr.shape[1] < maxLen:\n",
    "            pad_width = maxLen - mfccArr.shape[1]\n",
    "            mfccArr = np.pad(mfccArr, ((0,0), (0, pad_width)), mode='constant')\n",
    "        return mfccArr\n",
    "\n",
    "    data['mfcc'] = data['mfcc'].apply(padToMaxLen)\n",
    "    data['mfcc'] = data['mfcc'].apply(_mfccArrayToStr)\n",
    "    return data\n",
    "\n",
    "audio = zeroPadding(audio)"
   ]
  },
  {
   "cell_type": "code",
   "execution_count": null,
   "id": "b9ea7348",
   "metadata": {},
   "outputs": [
    {
     "name": "stdout",
     "output_type": "stream",
     "text": [
      "0\n"
     ]
    }
   ],
   "source": []
  }
 ],
 "metadata": {
  "kernelspec": {
   "display_name": "Python 3",
   "language": "python",
   "name": "python3"
  },
  "language_info": {
   "codemirror_mode": {
    "name": "ipython",
    "version": 3
   },
   "file_extension": ".py",
   "mimetype": "text/x-python",
   "name": "python",
   "nbconvert_exporter": "python",
   "pygments_lexer": "ipython3",
   "version": "3.12.7"
  }
 },
 "nbformat": 4,
 "nbformat_minor": 5
}
