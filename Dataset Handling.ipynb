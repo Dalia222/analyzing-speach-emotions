{
 "cells": [
  {
   "cell_type": "markdown",
   "id": "b5720713",
   "metadata": {},
   "source": [
    "<h1 style=\"text-align:center; font-family:Georgia; font-weight:bold; \">Imports</h1>"
   ]
  },
  {
   "cell_type": "code",
   "execution_count": 2,
   "id": "636d64d3",
   "metadata": {},
   "outputs": [],
   "source": [
    "import os\n",
    "import random\n",
    "import librosa\n",
    "import whisper\n",
    "import numpy as np\n",
    "import pandas as pd\n",
    "import tensorflow as tf\n",
    "import matplotlib.pyplot as plt\n",
    "\n",
    "from hmmlearn import hmm\n",
    "from tensorflow.keras.models import Sequential\n",
    "from sklearn.model_selection import train_test_split\n",
    "from sklearn.metrics import accuracy_score, f1_score, classification_report\n",
    "from tensorflow.keras.layers import Input, Embedding, Bidirectional, LSTM, Dense, Dropout"
   ]
  },
  {
   "cell_type": "markdown",
   "id": "99e485d5",
   "metadata": {},
   "source": [
    "<h1 style=\"text-align:center; font-family:Georgia; font-weight:bold; \">Constants and Global Variables</h1>"
   ]
  },
  {
   "cell_type": "code",
   "execution_count": null,
   "id": "af40173f",
   "metadata": {},
   "outputs": [],
   "source": [
    "EMOTIONS = ['happiness', 'neutral', 'sadness', 'anger', 'fear', ]\n",
    "MAPPER = {emotion: [] for emotion in EMOTIONS}\n",
    "DATA = {emotion: [] for emotion in EMOTIONS}\n",
    "RECORDS = []\n",
    "\n",
    "\n",
    "TO_TEXT = whisper.load_model(\"base\")"
   ]
  },
  {
   "cell_type": "code",
   "execution_count": 4,
   "id": "74c70727",
   "metadata": {},
   "outputs": [],
   "source": [
    "wordMap = pd.read_csv('wordMap.csv')\n",
    "for emotion in wordMap.columns.to_list():    \n",
    "    if emotion.lower() in EMOTIONS: MAPPER[emotion.lower()] = wordMap[emotion].to_list()\n",
    "    if emotion in ['Calm', 'Boredom']: MAPPER['neutral'] += wordMap[emotion].to_list()\n",
    "    if emotion in ['Excitement', 'Pride']: MAPPER['happiness'] += wordMap[emotion].to_list()\n",
    "    if emotion in ['Disgust', 'Frustration', 'Contempt']: MAPPER['anger'] += wordMap[emotion].to_list()"
   ]
  },
  {
   "cell_type": "markdown",
   "id": "9d1660d7",
   "metadata": {},
   "source": [
    "<h1 style=\"text-align:center; font-family:Georgia; font-weight:bold; \">Cleaning and Preprocessing</h1>"
   ]
  },
  {
   "cell_type": "code",
   "execution_count": 5,
   "id": "bd8937ba",
   "metadata": {},
   "outputs": [],
   "source": [
    "many = pd.read_csv('Raw Datasets/emotion_sentimen_dataset.csv')\n",
    "for emotion, group in many.groupby('Emotion'):\n",
    "    if emotion.lower() in EMOTIONS: \n",
    "        if emotion.lower() == 'neutral': \n",
    "            if len(DATA['neutral']) > 30000: \n",
    "                continue\n",
    "                \n",
    "        DATA[emotion.lower()].extend(group['text'].tolist())"
   ]
  },
  {
   "cell_type": "code",
   "execution_count": 6,
   "id": "18d97e6c",
   "metadata": {},
   "outputs": [],
   "source": [
    "encoded = pd.read_csv('Raw Datasets/text.csv')\n",
    "for emotion, group in encoded.groupby('label'):\n",
    "    if emotion == 0: DATA['sadness'].extend(group['text'].tolist()) \n",
    "    if emotion == 1: DATA['happiness'].extend(group['text'].tolist())\n",
    "    if emotion == 3: DATA['anger'].extend(group['text'].tolist())\n",
    "    if emotion == 4: DATA['fear'].extend(group['text'].tolist())"
   ]
  },
  {
   "cell_type": "code",
   "execution_count": 7,
   "id": "e39fba0d",
   "metadata": {},
   "outputs": [
    {
     "name": "stdout",
     "output_type": "stream",
     "text": [
      "<class 'pandas.core.frame.DataFrame'>\n",
      "RangeIndex: 695131 entries, 0 to 695130\n",
      "Data columns (total 2 columns):\n",
      " #   Column   Non-Null Count   Dtype \n",
      "---  ------   --------------   ----- \n",
      " 0   Text     695131 non-null  object\n",
      " 1   Emotion  695131 non-null  object\n",
      "dtypes: object(2)\n",
      "memory usage: 10.6+ MB\n"
     ]
    }
   ],
   "source": [
    "df = pd.DataFrame([\n",
    "    {'Text': text, 'Emotion': emotion}\n",
    "    for emotion, texts in DATA.items()\n",
    "    for text in texts\n",
    "])\n",
    "df.drop_duplicates(inplace=True)\n",
    "df.reset_index(drop=True, inplace=True)\n",
    "df.info()\n",
    "df.to_csv('Collected Datasets/text.csv', index=False)"
   ]
  },
  {
   "cell_type": "code",
   "execution_count": null,
   "id": "dbace6a2",
   "metadata": {},
   "outputs": [],
   "source": [
    "validEmotions = {\n",
    "    'a': 'anger',\n",
    "    'f': 'fear',\n",
    "    'h': 'happiness',\n",
    "    'sa': 'sadness',\n",
    "    'n': 'neutral',\n",
    "}\n",
    "\n",
    "for file in os.listdir(\"Raw Datasets/ALL\"):\n",
    "    if file.endswith('.wav'):\n",
    "        parts = file.split('_')\n",
    "        if len(parts) < 2:\n",
    "            continue\n",
    "\n",
    "        code = parts[1].lower()\n",
    "\n",
    "        emotion = None\n",
    "        for prefix, label in validEmotions.items():\n",
    "            if code.startswith(prefix):\n",
    "                emotion = label\n",
    "                break\n",
    "        if not emotion:\n",
    "            continue  \n",
    "\n",
    "        filePath = os.path.join(\"Raw Datasets/ALL\", file)\n",
    "\n",
    "        result = TO_TEXT.transcribe(filePath)\n",
    "        text = result.get('text', '').strip()\n",
    "\n",
    "        y, sr = librosa.load(filePath, sr=None)\n",
    "        mfcc = librosa.feature.mfcc(y=y, sr=sr, n_mfcc=13)\n",
    "        mfccFlat = mfcc.flatten()\n",
    "\n",
    "        RECORDS.append({\n",
    "            'text': text,\n",
    "            'mfcc': ','.join(map(str, mfccFlat)),\n",
    "            'emotion': emotion\n",
    "        })\n"
   ]
  },
  {
   "cell_type": "code",
   "execution_count": 9,
   "id": "f01b830e",
   "metadata": {},
   "outputs": [],
   "source": [
    "validEmotions = {\n",
    "    'SAD': 'sadness',\n",
    "    'ANG': 'anger',\n",
    "    'FEA': 'fear',\n",
    "    'HAP': 'happiness',\n",
    "    'NEU': 'neutral'\n",
    "}\n",
    "\n",
    "for file in os.listdir(\"Raw Datasets/AudioWAV\"):\n",
    "    if file.endswith('.wav'):\n",
    "        parts = file.split('_')\n",
    "        if len(parts) < 3:\n",
    "            continue\n",
    "\n",
    "        code = parts[2].upper()\n",
    "        emotion = validEmotions.get(code)\n",
    "        if not emotion:\n",
    "            continue\n",
    "\n",
    "        filePath = os.path.join(\"Raw Datasets/AudioWAV\", file)\n",
    "\n",
    "        result = TO_TEXT.transcribe(filePath)\n",
    "        text = result.get('text', '').strip()\n",
    "\n",
    "        y, sr = librosa.load(filePath, sr=None)\n",
    "        mfcc = librosa.feature.mfcc(y=y, sr=sr, n_mfcc=13)\n",
    "        mfccFlat = mfcc.flatten()\n",
    "\n",
    "        RECORDS.append({\n",
    "            'text': text,\n",
    "            'mfcc': ','.join(map(str, mfccFlat)),\n",
    "            'emotion': emotion\n",
    "        })\n"
   ]
  },
  {
   "cell_type": "code",
   "execution_count": 10,
   "id": "eaccfe39",
   "metadata": {},
   "outputs": [
    {
     "name": "stdout",
     "output_type": "stream",
     "text": [
      "<class 'pandas.core.frame.DataFrame'>\n",
      "RangeIndex: 6591 entries, 0 to 6590\n",
      "Data columns (total 3 columns):\n",
      " #   Column   Non-Null Count  Dtype \n",
      "---  ------   --------------  ----- \n",
      " 0   text     6591 non-null   object\n",
      " 1   mfcc     6591 non-null   object\n",
      " 2   emotion  6591 non-null   object\n",
      "dtypes: object(3)\n",
      "memory usage: 154.6+ KB\n"
     ]
    }
   ],
   "source": [
    "df = pd.DataFrame(RECORDS)\n",
    "df.drop_duplicates(inplace=True)\n",
    "df.info()\n",
    "df.to_csv('Collected Datasets/audioAndText.csv', index=False)"
   ]
  }
 ],
 "metadata": {
  "kernelspec": {
   "display_name": "Python 3",
   "language": "python",
   "name": "python3"
  },
  "language_info": {
   "codemirror_mode": {
    "name": "ipython",
    "version": 3
   },
   "file_extension": ".py",
   "mimetype": "text/x-python",
   "name": "python",
   "nbconvert_exporter": "python",
   "pygments_lexer": "ipython3",
   "version": "3.12.7"
  }
 },
 "nbformat": 4,
 "nbformat_minor": 5
}
