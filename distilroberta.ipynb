{
 "cells": [
  {
   "cell_type": "markdown",
   "id": "f6714f4f",
   "metadata": {},
   "source": [
    "<h1 style=\"text-align:center; font-family:Georgia; font-weight:bold; \">DistilRoBERTa</h1>"
   ]
  },
  {
   "cell_type": "markdown",
   "id": "d2de74fc",
   "metadata": {},
   "source": [
    "## Imports\n"
   ]
  },
  {
   "cell_type": "code",
   "execution_count": 1,
   "id": "a1fa6334",
   "metadata": {},
   "outputs": [],
   "source": [
    "from transformers import AutoTokenizer, AutoModel\n",
    "model_name = \"distilroberta-base\"\n",
    "\n",
    "tokenizer = AutoTokenizer.from_pretrained(model_name)\n",
    "model = AutoModel.from_pretrained(model_name)"
   ]
  },
  {
   "cell_type": "code",
   "execution_count": null,
   "id": "6ef98e0a",
   "metadata": {},
   "outputs": [],
   "source": [
    "import re\n",
    "import nltk\n",
    "import spacy\n",
    "import torch\n",
    "import torch\n",
    "import numpy as np\n",
    "import pandas as pd\n",
    "import seaborn as sns\n",
    "from tqdm import tqdm\n",
    "from datasets import Dataset\n",
    "import matplotlib.pyplot as plt\n",
    "from torch.utils.data import DataLoader\n",
    "from sklearn.metrics import accuracy_score\n",
    "from sklearn.metrics import confusion_matrix\n",
    "from sklearn.preprocessing import LabelEncoder\n",
    "from sklearn.metrics import classification_report\n",
    "from sklearn.model_selection import train_test_split\n",
    "from transformers import BertForSequenceClassification, BertTokenizer\n",
    "from transformers import AutoTokenizer, AutoModelForSequenceClassification, TrainingArguments, Trainer, AdamW\n"
   ]
  },
  {
   "cell_type": "markdown",
   "id": "b8d3bf0c",
   "metadata": {},
   "source": [
    "## Set up NLP Tools\n"
   ]
  },
  {
   "cell_type": "code",
   "execution_count": 4,
   "id": "153b8d7f",
   "metadata": {},
   "outputs": [
    {
     "name": "stderr",
     "output_type": "stream",
     "text": [
      "[nltk_data] Downloading package punkt to\n",
      "[nltk_data]     C:\\Users\\dell\\AppData\\Roaming\\nltk_data...\n",
      "[nltk_data]   Package punkt is already up-to-date!\n",
      "[nltk_data] Downloading package averaged_perceptron_tagger to\n",
      "[nltk_data]     C:\\Users\\dell\\AppData\\Roaming\\nltk_data...\n",
      "[nltk_data]   Package averaged_perceptron_tagger is already up-to-\n",
      "[nltk_data]       date!\n",
      "[nltk_data] Downloading package wordnet to\n",
      "[nltk_data]     C:\\Users\\dell\\AppData\\Roaming\\nltk_data...\n",
      "[nltk_data]   Package wordnet is already up-to-date!\n"
     ]
    }
   ],
   "source": [
    "nltk.download('punkt')\n",
    "nltk.download('averaged_perceptron_tagger')\n",
    "nltk.download('wordnet')\n",
    "\n",
    "nlp = spacy.load(\"en_core_web_sm\")"
   ]
  },
  {
   "cell_type": "markdown",
   "id": "8fe966b3",
   "metadata": {},
   "source": [
    "## Load Preprocessed Data\n"
   ]
  },
  {
   "cell_type": "code",
   "execution_count": 5,
   "id": "b4466df6",
   "metadata": {},
   "outputs": [
    {
     "name": "stdout",
     "output_type": "stream",
     "text": [
      "Loaded preprocessed data with shape: (695131, 7)\n",
      "Columns: ['Text', 'Emotion', 'happinessScore', 'neutralScore', 'sadnessScore', 'angerScore', 'fearScore']\n"
     ]
    },
    {
     "data": {
      "application/vnd.microsoft.datawrangler.viewer.v0+json": {
       "columns": [
        {
         "name": "index",
         "rawType": "int64",
         "type": "integer"
        },
        {
         "name": "Text",
         "rawType": "object",
         "type": "string"
        },
        {
         "name": "Emotion",
         "rawType": "object",
         "type": "string"
        },
        {
         "name": "happinessScore",
         "rawType": "float64",
         "type": "float"
        },
        {
         "name": "neutralScore",
         "rawType": "float64",
         "type": "float"
        },
        {
         "name": "sadnessScore",
         "rawType": "float64",
         "type": "float"
        },
        {
         "name": "angerScore",
         "rawType": "float64",
         "type": "float"
        },
        {
         "name": "fearScore",
         "rawType": "float64",
         "type": "float"
        }
       ],
       "ref": "1ee1cb5c-1ea3-4d55-b165-5fed4632cc26",
       "rows": [
        [
         "0",
         "expect feel content",
         "happiness",
         "0.0",
         "0.0",
         "0.0",
         "0.0",
         "0.0"
        ],
        [
         "1",
         "couldnt help feeling little bit bitter towards great big happy grin",
         "happiness",
         "0.0",
         "0.0",
         "0.0",
         "0.0",
         "0.0"
        ],
        [
         "2",
         "know feels completely happy real world taught struggle going thru nothing close struggle",
         "happiness",
         "0.0",
         "0.0",
         "0.0",
         "0.0",
         "0.0"
        ],
        [
         "3",
         "walk door house feel happy",
         "happiness",
         "0.0",
         "0.0",
         "0.0",
         "0.0",
         "0.0"
        ],
        [
         "4",
         "feel satisfied happy choices today",
         "happiness",
         "0.0",
         "0.0",
         "0.0",
         "0.0",
         "0.0"
        ]
       ],
       "shape": {
        "columns": 7,
        "rows": 5
       }
      },
      "text/html": [
       "<div>\n",
       "<style scoped>\n",
       "    .dataframe tbody tr th:only-of-type {\n",
       "        vertical-align: middle;\n",
       "    }\n",
       "\n",
       "    .dataframe tbody tr th {\n",
       "        vertical-align: top;\n",
       "    }\n",
       "\n",
       "    .dataframe thead th {\n",
       "        text-align: right;\n",
       "    }\n",
       "</style>\n",
       "<table border=\"1\" class=\"dataframe\">\n",
       "  <thead>\n",
       "    <tr style=\"text-align: right;\">\n",
       "      <th></th>\n",
       "      <th>Text</th>\n",
       "      <th>Emotion</th>\n",
       "      <th>happinessScore</th>\n",
       "      <th>neutralScore</th>\n",
       "      <th>sadnessScore</th>\n",
       "      <th>angerScore</th>\n",
       "      <th>fearScore</th>\n",
       "    </tr>\n",
       "  </thead>\n",
       "  <tbody>\n",
       "    <tr>\n",
       "      <th>0</th>\n",
       "      <td>expect feel content</td>\n",
       "      <td>happiness</td>\n",
       "      <td>0.0</td>\n",
       "      <td>0.0</td>\n",
       "      <td>0.0</td>\n",
       "      <td>0.0</td>\n",
       "      <td>0.0</td>\n",
       "    </tr>\n",
       "    <tr>\n",
       "      <th>1</th>\n",
       "      <td>couldnt help feeling little bit bitter towards...</td>\n",
       "      <td>happiness</td>\n",
       "      <td>0.0</td>\n",
       "      <td>0.0</td>\n",
       "      <td>0.0</td>\n",
       "      <td>0.0</td>\n",
       "      <td>0.0</td>\n",
       "    </tr>\n",
       "    <tr>\n",
       "      <th>2</th>\n",
       "      <td>know feels completely happy real world taught ...</td>\n",
       "      <td>happiness</td>\n",
       "      <td>0.0</td>\n",
       "      <td>0.0</td>\n",
       "      <td>0.0</td>\n",
       "      <td>0.0</td>\n",
       "      <td>0.0</td>\n",
       "    </tr>\n",
       "    <tr>\n",
       "      <th>3</th>\n",
       "      <td>walk door house feel happy</td>\n",
       "      <td>happiness</td>\n",
       "      <td>0.0</td>\n",
       "      <td>0.0</td>\n",
       "      <td>0.0</td>\n",
       "      <td>0.0</td>\n",
       "      <td>0.0</td>\n",
       "    </tr>\n",
       "    <tr>\n",
       "      <th>4</th>\n",
       "      <td>feel satisfied happy choices today</td>\n",
       "      <td>happiness</td>\n",
       "      <td>0.0</td>\n",
       "      <td>0.0</td>\n",
       "      <td>0.0</td>\n",
       "      <td>0.0</td>\n",
       "      <td>0.0</td>\n",
       "    </tr>\n",
       "  </tbody>\n",
       "</table>\n",
       "</div>"
      ],
      "text/plain": [
       "                                                Text    Emotion  \\\n",
       "0                                expect feel content  happiness   \n",
       "1  couldnt help feeling little bit bitter towards...  happiness   \n",
       "2  know feels completely happy real world taught ...  happiness   \n",
       "3                         walk door house feel happy  happiness   \n",
       "4                 feel satisfied happy choices today  happiness   \n",
       "\n",
       "   happinessScore  neutralScore  sadnessScore  angerScore  fearScore  \n",
       "0             0.0           0.0           0.0         0.0        0.0  \n",
       "1             0.0           0.0           0.0         0.0        0.0  \n",
       "2             0.0           0.0           0.0         0.0        0.0  \n",
       "3             0.0           0.0           0.0         0.0        0.0  \n",
       "4             0.0           0.0           0.0         0.0        0.0  "
      ]
     },
     "execution_count": 5,
     "metadata": {},
     "output_type": "execute_result"
    }
   ],
   "source": [
    "preprocessed_data = pd.read_csv('./Preprocessed Data/preprocessed_text.csv')\n",
    "print(f\"Loaded preprocessed data with shape: {preprocessed_data.shape}\")\n",
    "print(f\"Columns: {preprocessed_data.columns.tolist()}\")\n",
    "preprocessed_data.head()"
   ]
  },
  {
   "cell_type": "markdown",
   "id": "7e6800fd",
   "metadata": {},
   "source": [
    "## Define Constants and Encoder\n"
   ]
  },
  {
   "cell_type": "code",
   "execution_count": 6,
   "id": "89bdf514",
   "metadata": {},
   "outputs": [],
   "source": [
    "EMOTIONS = ['happiness', 'neutral', 'sadness', 'anger', 'fear']\n",
    "MAX_LENGTH = 128\n",
    "\n",
    "encoder = LabelEncoder()\n",
    "encoder.classes_ = np.array(EMOTIONS)"
   ]
  },
  {
   "cell_type": "markdown",
   "id": "94a7e7de",
   "metadata": {},
   "source": [
    "## Check Data Structure and Features\n",
    "\n"
   ]
  },
  {
   "cell_type": "code",
   "execution_count": 7,
   "id": "aa0153b8",
   "metadata": {},
   "outputs": [
    {
     "name": "stdout",
     "output_type": "stream",
     "text": [
      "Found score columns: ['happinessScore', 'neutralScore', 'sadnessScore', 'angerScore', 'fearScore']\n",
      "Using lexicon scores as additional features\n"
     ]
    }
   ],
   "source": [
    "assert 'Text' in preprocessed_data.columns, \"Text column not found in preprocessed data\"\n",
    "assert 'Emotion' in preprocessed_data.columns, \"Emotion column not found in preprocessed data\"\n",
    "\n",
    "score_columns = [col for col in preprocessed_data.columns if col.endswith('Score')]\n",
    "print(f\"Found score columns: {score_columns}\")\n",
    "\n",
    "if len(score_columns) > 0:\n",
    "    print(\"Using lexicon scores as additional features\")"
   ]
  },
  {
   "cell_type": "markdown",
   "id": "1098aab7",
   "metadata": {},
   "source": [
    "## Encode Labels and Analyze Distribution\n",
    "\n"
   ]
  },
  {
   "cell_type": "code",
   "execution_count": 8,
   "id": "ea658e8c",
   "metadata": {},
   "outputs": [
    {
     "name": "stdout",
     "output_type": "stream",
     "text": [
      "Emotion distribution in dataset:\n",
      "neutral      316935\n",
      "happiness    146622\n",
      "sadness      123541\n",
      "anger         60369\n",
      "fear          47664\n",
      "Name: Emotion, dtype: int64\n"
     ]
    }
   ],
   "source": [
    "preprocessed_data['label'] = encoder.transform(preprocessed_data['Emotion'])\n",
    "\n",
    "emotion_counts = preprocessed_data['Emotion'].value_counts()\n",
    "print(\"Emotion distribution in dataset:\")\n",
    "print(emotion_counts)"
   ]
  },
  {
   "cell_type": "markdown",
   "id": "0a02a0d4",
   "metadata": {},
   "source": [
    "## Visualize Emotion Distribution\n"
   ]
  },
  {
   "cell_type": "code",
   "execution_count": 9,
   "id": "43634527",
   "metadata": {},
   "outputs": [
    {
     "data": {
      "image/png": "[encoded data removed]",
      "text/plain": [
       "<Figure size 1000x600 with 1 Axes>"
      ]
     },
     "metadata": {},
     "output_type": "display_data"
    }
   ],
   "source": [
    "plt.figure(figsize=(10, 6))\n",
    "sns.barplot(x=emotion_counts.index, y=emotion_counts.values)\n",
    "plt.title('Emotion Distribution in Dataset')\n",
    "plt.xlabel('Emotion')\n",
    "plt.ylabel('Count')\n",
    "plt.xticks(rotation=45)\n",
    "plt.tight_layout()\n",
    "plt.show()"
   ]
  },
  {
   "cell_type": "markdown",
   "id": "fad25a42",
   "metadata": {},
   "source": [
    "## Split Data into Train, Validation, and Test Sets\n",
    "\n"
   ]
  },
  {
   "cell_type": "code",
   "execution_count": 10,
   "id": "1a3caee5",
   "metadata": {},
   "outputs": [
    {
     "name": "stdout",
     "output_type": "stream",
     "text": [
      "Train data: 486591 samples\n",
      "Validation data: 104270 samples\n",
      "Test data: 104270 samples\n"
     ]
    }
   ],
   "source": [
    "train_data, temp_data = train_test_split(\n",
    "    preprocessed_data, test_size=0.3, stratify=preprocessed_data['label'], random_state=42\n",
    ")\n",
    "val_data, test_data = train_test_split(\n",
    "    temp_data, test_size=0.5, stratify=temp_data['label'], random_state=42\n",
    ")\n",
    "\n",
    "print(f\"Train data: {train_data.shape[0]} samples\")\n",
    "print(f\"Validation data: {val_data.shape[0]} samples\")\n",
    "print(f\"Test data: {test_data.shape[0]} samples\")"
   ]
  },
  {
   "cell_type": "markdown",
   "id": "0fcc5129",
   "metadata": {},
   "source": [
    "## Check Class Distribution in Splits\n"
   ]
  },
  {
   "cell_type": "code",
   "execution_count": 11,
   "id": "8a198809",
   "metadata": {},
   "outputs": [
    {
     "name": "stdout",
     "output_type": "stream",
     "text": [
      "\n",
      "Train distribution:\n",
      "neutral      221854\n",
      "happiness    102635\n",
      "sadness       86479\n",
      "anger         42258\n",
      "fear          33365\n",
      "Name: Emotion, dtype: int64\n",
      "Total: 486591\n",
      "\n",
      "Validation distribution:\n",
      "neutral      47541\n",
      "happiness    21993\n",
      "sadness      18531\n",
      "anger         9055\n",
      "fear          7150\n",
      "Name: Emotion, dtype: int64\n",
      "Total: 104270\n",
      "\n",
      "Test distribution:\n",
      "neutral      47540\n",
      "happiness    21994\n",
      "sadness      18531\n",
      "anger         9056\n",
      "fear          7149\n",
      "Name: Emotion, dtype: int64\n",
      "Total: 104270\n"
     ]
    }
   ],
   "source": [
    "def show_class_distribution(data, title):\n",
    "    class_counts = data['Emotion'].value_counts()\n",
    "    print(f\"\\n{title} distribution:\")\n",
    "    print(class_counts)\n",
    "    print(f\"Total: {sum(class_counts)}\")\n",
    "\n",
    "show_class_distribution(train_data, \"Train\")\n",
    "show_class_distribution(val_data, \"Validation\")\n",
    "show_class_distribution(test_data, \"Test\")"
   ]
  },
  {
   "cell_type": "markdown",
   "id": "667da8e7",
   "metadata": {},
   "source": [
    "## Prepare Datasets for Hugging Face\n",
    "\n"
   ]
  },
  {
   "cell_type": "code",
   "execution_count": 18,
   "id": "0df09d1d",
   "metadata": {},
   "outputs": [
    {
     "data": {
      "text/plain": [
       "{'Text': ['stop doubt leave feeling dissatisfied',\n",
       "  'im feeling little bit greedy',\n",
       "  'happy things moved part sort feels distressed purveyors may claim always'],\n",
       " 'label': [1, 3, 4],\n",
       " '__index_level_0__': [151039, 612224, 675601]}"
      ]
     },
     "execution_count": 18,
     "metadata": {},
     "output_type": "execute_result"
    }
   ],
   "source": [
    "def dataframe_to_dataset(df):\n",
    "    df_copy = df.copy()\n",
    "    df_copy['Text'] = df_copy['Text'].fillna('').astype(str)\n",
    "    return Dataset.from_pandas(df_copy[['Text', 'label']])\n",
    "\n",
    "train_dataset = dataframe_to_dataset(train_data)\n",
    "val_dataset = dataframe_to_dataset(val_data)\n",
    "test_dataset = dataframe_to_dataset(test_data)\n",
    "\n",
    "train_dataset[:3]"
   ]
  },
  {
   "cell_type": "markdown",
   "id": "618d4e5b",
   "metadata": {},
   "source": [
    "## Tokenize Text Data\n",
    "\n"
   ]
  },
  {
   "cell_type": "code",
   "execution_count": 19,
   "id": "2140793e",
   "metadata": {},
   "outputs": [
    {
     "name": "stdout",
     "output_type": "stream",
     "text": [
      "Testing tokenization on a small sample...\n"
     ]
    },
    {
     "data": {
      "application/vnd.jupyter.widget-view+json": {
       "model_id": "3d1f17aadb884b918e01a7f49e8380d4",
       "version_major": 2,
       "version_minor": 0
      },
      "text/plain": [
       "Map:   0%|          | 0/10 [00:00<?, ? examples/s]"
      ]
     },
     "metadata": {},
     "output_type": "display_data"
    },
    {
     "name": "stdout",
     "output_type": "stream",
     "text": [
      "Sample tokenization successful!\n",
      "Tokenizing train dataset...\n"
     ]
    },
    {
     "data": {
      "application/vnd.jupyter.widget-view+json": {
       "model_id": "b110092a7a954a678d3b393467cbac7a",
       "version_major": 2,
       "version_minor": 0
      },
      "text/plain": [
       "Map:   0%|          | 0/486591 [00:00<?, ? examples/s]"
      ]
     },
     "metadata": {},
     "output_type": "display_data"
    },
    {
     "name": "stdout",
     "output_type": "stream",
     "text": [
      "Tokenizing validation dataset...\n"
     ]
    },
    {
     "data": {
      "application/vnd.jupyter.widget-view+json": {
       "model_id": "059831b205be4d64878c25bc42d96cc6",
       "version_major": 2,
       "version_minor": 0
      },
      "text/plain": [
       "Map:   0%|          | 0/104270 [00:00<?, ? examples/s]"
      ]
     },
     "metadata": {},
     "output_type": "display_data"
    },
    {
     "name": "stdout",
     "output_type": "stream",
     "text": [
      "Tokenizing test dataset...\n"
     ]
    },
    {
     "data": {
      "application/vnd.jupyter.widget-view+json": {
       "model_id": "d8bc3df5b79242d0a0cb5d389ea2f776",
       "version_major": 2,
       "version_minor": 0
      },
      "text/plain": [
       "Map:   0%|          | 0/104270 [00:00<?, ? examples/s]"
      ]
     },
     "metadata": {},
     "output_type": "display_data"
    }
   ],
   "source": [
    "model_name = \"distilroberta-base\"\n",
    "tokenizer = AutoTokenizer.from_pretrained(model_name)\n",
    "\n",
    "def tokenize_function(examples):\n",
    "    texts = [str(text) for text in examples[\"Text\"]]\n",
    "    return tokenizer(texts, padding=\"max_length\", truncation=True, max_length=MAX_LENGTH)\n",
    "\n",
    "try:\n",
    "    print(\"Testing tokenization on a small sample...\")\n",
    "    small_sample = train_dataset.select(range(10))\n",
    "    tokenized_sample = small_sample.map(tokenize_function, batched=True)\n",
    "    print(\"Sample tokenization successful!\")\n",
    "    \n",
    "    print(\"Tokenizing train dataset...\")\n",
    "    tokenized_train = train_dataset.map(tokenize_function, batched=True)\n",
    "    print(\"Tokenizing validation dataset...\")\n",
    "    tokenized_val = val_dataset.map(tokenize_function, batched=True)\n",
    "    print(\"Tokenizing test dataset...\")\n",
    "    tokenized_test = test_dataset.map(tokenize_function, batched=True)\n",
    "except Exception as e:\n",
    "    print(f\"Error during tokenization: {e}\")\n",
    "    print(\"\\nInspecting text data quality...\")\n",
    "    \n",
    "    print(f\"NaN values in train_data['Text']: {train_data['Text'].isna().sum()}\")\n",
    "    print(f\"NaN values in val_data['Text']: {val_data['Text'].isna().sum()}\")\n",
    "    print(f\"NaN values in test_data['Text']: {test_data['Text'].isna().sum()}\")\n",
    "    \n",
    "    print(\"\\nSample of texts:\")\n",
    "    problematic = pd.concat([\n",
    "        train_data[train_data['Text'].isna()].head(2),\n",
    "        train_data[~train_data['Text'].astype(str).str.isalpha()].head(2)\n",
    "    ])\n",
    "    if len(problematic) > 0:\n",
    "        print(problematic[['Text', 'Emotion']])\n",
    "    \n",
    "    def robust_tokenize_function(examples):\n",
    "        # Clean texts: replace NaN with empty string and convert to string\n",
    "        texts = [str(text) if pd.notna(text) else \"\" for text in examples[\"Text\"]]\n",
    "        return tokenizer(texts, padding=\"max_length\", truncation=True, max_length=MAX_LENGTH)\n",
    "    \n",
    "    print(\"\\nRetrying with robust tokenization function...\")\n",
    "    tokenized_train = train_dataset.map(robust_tokenize_function, batched=True)\n",
    "    tokenized_val = val_dataset.map(robust_tokenize_function, batched=True)\n",
    "    tokenized_test = test_dataset.map(robust_tokenize_function, batched=True)\n",
    "    print(\"Tokenization completed successfully!\")"
   ]
  },
  {
   "cell_type": "markdown",
   "id": "5799f994",
   "metadata": {},
   "source": [
    "## Initialize Optimizer\n"
   ]
  },
  {
   "cell_type": "code",
   "execution_count": 38,
   "id": "f8f100bf",
   "metadata": {},
   "outputs": [
    {
     "name": "stderr",
     "output_type": "stream",
     "text": [
      "C:\\Users\\dell\\AppData\\Roaming\\Python\\Python310\\site-packages\\transformers\\optimization.py:457: FutureWarning: This implementation of AdamW is deprecated and will be removed in a future version. Use the PyTorch implementation torch.optim.AdamW instead, or set `no_deprecation_warning=True` to disable this warning\n",
      "  warnings.warn(\n"
     ]
    }
   ],
   "source": [
    "optimizer = AdamW(model.parameters(), lr=2e-5)"
   ]
  },
  {
   "cell_type": "markdown",
   "id": "671d3e84",
   "metadata": {},
   "source": [
    "## Create Model and Training Loop\n",
    "\n"
   ]
  },
  {
   "cell_type": "code",
   "execution_count": 39,
   "id": "1d823214",
   "metadata": {},
   "outputs": [
    {
     "name": "stderr",
     "output_type": "stream",
     "text": [
      "Epoch 1:   3%|▎         | 1028/30412 [1:39:18<47:18:27,  5.80s/it]\n",
      "\n"
     ]
    },
    {
     "name": "stdout",
     "output_type": "stream",
     "text": [
      "Unexpected exception formatting exception. Falling back to standard exception\n"
     ]
    },
    {
     "name": "stderr",
     "output_type": "stream",
     "text": [
      "Traceback (most recent call last):\n",
      "  File \"C:\\Users\\dell\\AppData\\Roaming\\Python\\Python310\\site-packages\\IPython\\core\\interactiveshell.py\", line 3550, in run_code\n",
      "    exec(code_obj, self.user_global_ns, self.user_ns)\n",
      "  File \"C:\\Users\\dell\\AppData\\Local\\Temp\\ipykernel_17744\\3534208781.py\", line 18, in <module>\n",
      "    outputs = model(input_ids=batch[\"input_ids\"], attention_mask=batch[\"attention_mask\"], labels=batch[\"label\"])\n",
      "  File \"C:\\Users\\dell\\AppData\\Roaming\\Python\\Python310\\site-packages\\torch\\nn\\modules\\module.py\", line 1511, in _wrapped_call_impl\n",
      "  File \"C:\\Users\\dell\\AppData\\Roaming\\Python\\Python310\\site-packages\\torch\\nn\\modules\\module.py\", line 1520, in _call_impl\n",
      "  File \"C:\\Users\\dell\\AppData\\Roaming\\Python\\Python310\\site-packages\\transformers\\models\\roberta\\modeling_roberta.py\", line 1198, in forward\n",
      "    outputs = self.roberta(\n",
      "  File \"C:\\Users\\dell\\AppData\\Roaming\\Python\\Python310\\site-packages\\torch\\nn\\modules\\module.py\", line 1511, in _wrapped_call_impl\n",
      "  File \"C:\\Users\\dell\\AppData\\Roaming\\Python\\Python310\\site-packages\\torch\\nn\\modules\\module.py\", line 1520, in _call_impl\n",
      "  File \"C:\\Users\\dell\\AppData\\Roaming\\Python\\Python310\\site-packages\\transformers\\models\\roberta\\modeling_roberta.py\", line 828, in forward\n",
      "    embedding_output = self.embeddings(\n",
      "  File \"C:\\Users\\dell\\AppData\\Roaming\\Python\\Python310\\site-packages\\torch\\nn\\modules\\module.py\", line 1511, in _wrapped_call_impl\n",
      "  File \"C:\\Users\\dell\\AppData\\Roaming\\Python\\Python310\\site-packages\\torch\\nn\\modules\\module.py\", line 1520, in _call_impl\n",
      "KeyboardInterrupt\n",
      "\n",
      "During handling of the above exception, another exception occurred:\n",
      "\n",
      "Traceback (most recent call last):\n",
      "  File \"C:\\Users\\dell\\AppData\\Roaming\\Python\\Python310\\site-packages\\IPython\\core\\interactiveshell.py\", line 2144, in showtraceback\n",
      "    stb = self.InteractiveTB.structured_traceback(\n",
      "  File \"C:\\Users\\dell\\AppData\\Roaming\\Python\\Python310\\site-packages\\IPython\\core\\ultratb.py\", line 1435, in structured_traceback\n",
      "    return FormattedTB.structured_traceback(\n",
      "  File \"C:\\Users\\dell\\AppData\\Roaming\\Python\\Python310\\site-packages\\IPython\\core\\ultratb.py\", line 1326, in structured_traceback\n",
      "    return VerboseTB.structured_traceback(\n",
      "  File \"C:\\Users\\dell\\AppData\\Roaming\\Python\\Python310\\site-packages\\IPython\\core\\ultratb.py\", line 1173, in structured_traceback\n",
      "    formatted_exception = self.format_exception_as_a_whole(etype, evalue, etb, number_of_lines_of_context,\n",
      "  File \"C:\\Users\\dell\\AppData\\Roaming\\Python\\Python310\\site-packages\\IPython\\core\\ultratb.py\", line 1088, in format_exception_as_a_whole\n",
      "    frames.append(self.format_record(record))\n",
      "  File \"C:\\Users\\dell\\AppData\\Roaming\\Python\\Python310\\site-packages\\IPython\\core\\ultratb.py\", line 970, in format_record\n",
      "    frame_info.lines, Colors, self.has_colors, lvals\n",
      "  File \"C:\\Users\\dell\\AppData\\Roaming\\Python\\Python310\\site-packages\\IPython\\core\\ultratb.py\", line 792, in lines\n",
      "    return self._sd.lines\n",
      "  File \"C:\\Users\\dell\\AppData\\Roaming\\Python\\Python310\\site-packages\\stack_data\\utils.py\", line 145, in cached_property_wrapper\n",
      "    value = obj.__dict__[self.func.__name__] = self.func(obj)\n",
      "  File \"C:\\Users\\dell\\AppData\\Roaming\\Python\\Python310\\site-packages\\stack_data\\core.py\", line 734, in lines\n",
      "    pieces = self.included_pieces\n",
      "  File \"C:\\Users\\dell\\AppData\\Roaming\\Python\\Python310\\site-packages\\stack_data\\utils.py\", line 145, in cached_property_wrapper\n",
      "    value = obj.__dict__[self.func.__name__] = self.func(obj)\n",
      "  File \"C:\\Users\\dell\\AppData\\Roaming\\Python\\Python310\\site-packages\\stack_data\\core.py\", line 681, in included_pieces\n",
      "    pos = scope_pieces.index(self.executing_piece)\n",
      "  File \"C:\\Users\\dell\\AppData\\Roaming\\Python\\Python310\\site-packages\\stack_data\\utils.py\", line 145, in cached_property_wrapper\n",
      "    value = obj.__dict__[self.func.__name__] = self.func(obj)\n",
      "  File \"C:\\Users\\dell\\AppData\\Roaming\\Python\\Python310\\site-packages\\stack_data\\core.py\", line 660, in executing_piece\n",
      "    return only(\n",
      "  File \"C:\\Users\\dell\\AppData\\Roaming\\Python\\Python310\\site-packages\\executing\\executing.py\", line 116, in only\n",
      "    raise NotOneValueFound('Expected one value, found 0')\n",
      "executing.executing.NotOneValueFound: Expected one value, found 0\n"
     ]
    }
   ],
   "source": [
    "device = torch.device(\"cuda\" if torch.cuda.is_available() else \"cpu\")\n",
    "model.to(device)\n",
    "tokenized_train.set_format(\"torch\", columns=[\"input_ids\", \"attention_mask\", \"label\"])\n",
    "tokenized_val.set_format(\"torch\", columns=[\"input_ids\", \"attention_mask\", \"label\"])\n",
    "\n",
    "train_loader = DataLoader(tokenized_train, batch_size=16, shuffle=True)\n",
    "val_loader = DataLoader(tokenized_val, batch_size=16)\n",
    "EPOCHS = 3\n",
    "\n",
    "for epoch in range(EPOCHS):\n",
    "    model.train()\n",
    "    total_loss = 0\n",
    "    for batch in tqdm(train_loader, desc=f\"Epoch {epoch+1}\"):\n",
    "        batch = {k: v.to(device) for k, v in batch.items()}\n",
    "        \n",
    "        outputs = model(input_ids=batch[\"input_ids\"], attention_mask=batch[\"attention_mask\"], labels=batch[\"label\"])\n",
    "        loss = outputs.loss\n",
    "        loss.backward()\n",
    "        optimizer.step()\n",
    "        optimizer.zero_grad()\n",
    "        total_loss += loss.item()\n",
    "\n",
    "    print(f\"Epoch {epoch+1} - Training loss: {total_loss:.4f}\")\n",
    "\n",
    "    model.eval()\n",
    "    preds, labels = [], []\n",
    "    with torch.no_grad():\n",
    "        for batch in val_loader:\n",
    "            batch = {k: v.to(device) for k, v in batch.items()}\n",
    "            outputs = model(**batch)\n",
    "            logits = outputs.logits\n",
    "            preds += torch.argmax(logits, axis=-1).cpu().tolist()\n",
    "            labels += batch[\"label\"].cpu().tolist()\n",
    "\n",
    "    acc = accuracy_score(labels, preds)\n",
    "    print(f\"Epoch {epoch+1} - Validation Accuracy: {acc:.4f}\")\n"
   ]
  },
  {
   "cell_type": "markdown",
   "id": "749e458b",
   "metadata": {},
   "source": [
    "## Create Confusion Matrix\n",
    "\n"
   ]
  },
  {
   "cell_type": "code",
   "execution_count": null,
   "id": "8e17c5ea",
   "metadata": {},
   "outputs": [],
   "source": [
    "cm = confusion_matrix(true_labels, pred_labels)\n",
    "plt.figure(figsize=(10, 8))\n",
    "sns.heatmap(cm, annot=True, fmt=\"d\", cmap=\"Blues\", xticklabels=EMOTIONS, yticklabels=EMOTIONS)\n",
    "plt.title('Confusion Matrix')\n",
    "plt.xlabel('Predicted')\n",
    "plt.ylabel('True')\n",
    "plt.show()"
   ]
  },
  {
   "cell_type": "markdown",
   "id": "daa92ad6",
   "metadata": {},
   "source": [
    "## Analyze Lexicon Score Impact\n"
   ]
  },
  {
   "cell_type": "code",
   "execution_count": null,
   "id": "b895b699",
   "metadata": {},
   "outputs": [],
   "source": [
    "score_columns = [col for col in preprocessed_data.columns if col.endswith('Score')]\n",
    "if score_columns:\n",
    "    test_scores = test_data[score_columns].values\n",
    "    \n",
    "    plt.figure(figsize=(12, 8))\n",
    "    \n",
    "    for i, emotion in enumerate(EMOTIONS):\n",
    "        emotion_indices = np.where(true_labels == i)[0]\n",
    "        \n",
    "        avg_scores = np.mean(test_scores[emotion_indices], axis=0)\n",
    "        \n",
    "        plt.subplot(2, 3, i+1)\n",
    "        plt.bar(range(len(score_columns)), avg_scores)\n",
    "        plt.title(f'Avg Lexicon Scores for {emotion}')\n",
    "        plt.xticks(range(len(score_columns)), [s.replace('Score', '') for s in score_columns], rotation=45)\n",
    "    \n",
    "    plt.tight_layout()\n",
    "    plt.show()"
   ]
  },
  {
   "cell_type": "markdown",
   "id": "a22588d9",
   "metadata": {},
   "source": [
    "## Save the Fine-Tuned Model\n"
   ]
  },
  {
   "cell_type": "code",
   "execution_count": null,
   "id": "2d6e064f",
   "metadata": {},
   "outputs": [],
   "source": [
    "model_save_path = \"./distilroberta_emotion_model\"\n",
    "model.save_pretrained(model_save_path)\n",
    "tokenizer.save_pretrained(model_save_path)\n",
    "print(f\"Model saved to {model_save_path}\")"
   ]
  },
  {
   "cell_type": "markdown",
   "id": "6fb59f81",
   "metadata": {},
   "source": [
    "## Create Prediction Function\n"
   ]
  },
  {
   "cell_type": "code",
   "execution_count": 21,
   "id": "1c7c3788",
   "metadata": {},
   "outputs": [
    {
     "name": "stdout",
     "output_type": "stream",
     "text": [
      "Text: 'I am so happy today, everything is wonderful!'\n",
      "Predicted emotion: happiness\n",
      "\n",
      "Text: 'I feel so sad and depressed after what happened.'\n",
      "Predicted emotion: happiness\n",
      "\n",
      "Text: 'I'm absolutely furious about the way they treated me.'\n",
      "Predicted emotion: happiness\n",
      "\n",
      "Text: 'I'm really scared about what might happen next.'\n",
      "Predicted emotion: happiness\n",
      "\n"
     ]
    }
   ],
   "source": [
    "def predict_emotion(text, tokenizer, model):\n",
    "    inputs = tokenizer(text, return_tensors=\"pt\", padding=True, truncation=True, max_length=MAX_LENGTH)\n",
    "    \n",
    "    with torch.no_grad():\n",
    "        outputs = model(**inputs)\n",
    "        logits = outputs.logits\n",
    "        predicted_class = torch.argmax(logits, dim=1).item()\n",
    "    \n",
    "    emotion = EMOTIONS[predicted_class]\n",
    "    return emotion\n",
    "\n",
    "test_examples = [\n",
    "    \"I am so happy today, everything is wonderful!\",\n",
    "    \"I feel so sad and depressed after what happened.\",\n",
    "    \"I'm absolutely furious about the way they treated me.\",\n",
    "    \"I'm really scared about what might happen next.\"\n",
    "]\n",
    "\n",
    "for text in test_examples:\n",
    "    emotion = predict_emotion(text, tokenizer, model)\n",
    "    print(f\"Text: '{text}'\\nPredicted emotion: {emotion}\\n\")"
   ]
  },
  {
   "cell_type": "markdown",
   "id": "4dbd852a",
   "metadata": {},
   "source": [
    "## Analyze Model Performance by Text Length\n"
   ]
  },
  {
   "cell_type": "code",
   "execution_count": 22,
   "id": "0bcf98b2",
   "metadata": {},
   "outputs": [
    {
     "ename": "TypeError",
     "evalue": "object of type 'float' has no len()",
     "output_type": "error",
     "traceback": [
      "\u001b[1;31m---------------------------------------------------------------------------\u001b[0m",
      "\u001b[1;31mTypeError\u001b[0m                                 Traceback (most recent call last)",
      "Cell \u001b[1;32mIn[22], line 1\u001b[0m\n\u001b[1;32m----> 1\u001b[0m test_data[\u001b[38;5;124m'\u001b[39m\u001b[38;5;124mtext_length\u001b[39m\u001b[38;5;124m'\u001b[39m] \u001b[38;5;241m=\u001b[39m \u001b[43mtest_data\u001b[49m\u001b[43m[\u001b[49m\u001b[38;5;124;43m'\u001b[39;49m\u001b[38;5;124;43mText\u001b[39;49m\u001b[38;5;124;43m'\u001b[39;49m\u001b[43m]\u001b[49m\u001b[38;5;241;43m.\u001b[39;49m\u001b[43mapply\u001b[49m\u001b[43m(\u001b[49m\u001b[38;5;28;43mlen\u001b[39;49m\u001b[43m)\u001b[49m\n\u001b[0;32m      2\u001b[0m test_data[\u001b[38;5;124m'\u001b[39m\u001b[38;5;124mcorrect_prediction\u001b[39m\u001b[38;5;124m'\u001b[39m] \u001b[38;5;241m=\u001b[39m pred_emotions \u001b[38;5;241m==\u001b[39m true_emotions\n\u001b[0;32m      4\u001b[0m bins \u001b[38;5;241m=\u001b[39m [\u001b[38;5;241m0\u001b[39m, \u001b[38;5;241m50\u001b[39m, \u001b[38;5;241m100\u001b[39m, \u001b[38;5;241m150\u001b[39m, \u001b[38;5;241m200\u001b[39m, \u001b[38;5;241m300\u001b[39m, \u001b[38;5;241m500\u001b[39m, \u001b[38;5;241m1000\u001b[39m, \u001b[38;5;241m10000\u001b[39m]\n",
      "File \u001b[1;32mc:\\Python310\\lib\\site-packages\\pandas\\core\\series.py:4771\u001b[0m, in \u001b[0;36mSeries.apply\u001b[1;34m(self, func, convert_dtype, args, **kwargs)\u001b[0m\n\u001b[0;32m   4661\u001b[0m \u001b[38;5;28;01mdef\u001b[39;00m \u001b[38;5;21mapply\u001b[39m(\n\u001b[0;32m   4662\u001b[0m     \u001b[38;5;28mself\u001b[39m,\n\u001b[0;32m   4663\u001b[0m     func: AggFuncType,\n\u001b[1;32m   (...)\u001b[0m\n\u001b[0;32m   4666\u001b[0m     \u001b[38;5;241m*\u001b[39m\u001b[38;5;241m*\u001b[39mkwargs,\n\u001b[0;32m   4667\u001b[0m ) \u001b[38;5;241m-\u001b[39m\u001b[38;5;241m>\u001b[39m DataFrame \u001b[38;5;241m|\u001b[39m Series:\n\u001b[0;32m   4668\u001b[0m \u001b[38;5;250m    \u001b[39m\u001b[38;5;124;03m\"\"\"\u001b[39;00m\n\u001b[0;32m   4669\u001b[0m \u001b[38;5;124;03m    Invoke function on values of Series.\u001b[39;00m\n\u001b[0;32m   4670\u001b[0m \n\u001b[1;32m   (...)\u001b[0m\n\u001b[0;32m   4769\u001b[0m \u001b[38;5;124;03m    dtype: float64\u001b[39;00m\n\u001b[0;32m   4770\u001b[0m \u001b[38;5;124;03m    \"\"\"\u001b[39;00m\n\u001b[1;32m-> 4771\u001b[0m     \u001b[38;5;28;01mreturn\u001b[39;00m \u001b[43mSeriesApply\u001b[49m\u001b[43m(\u001b[49m\u001b[38;5;28;43mself\u001b[39;49m\u001b[43m,\u001b[49m\u001b[43m \u001b[49m\u001b[43mfunc\u001b[49m\u001b[43m,\u001b[49m\u001b[43m \u001b[49m\u001b[43mconvert_dtype\u001b[49m\u001b[43m,\u001b[49m\u001b[43m \u001b[49m\u001b[43margs\u001b[49m\u001b[43m,\u001b[49m\u001b[43m \u001b[49m\u001b[43mkwargs\u001b[49m\u001b[43m)\u001b[49m\u001b[38;5;241;43m.\u001b[39;49m\u001b[43mapply\u001b[49m\u001b[43m(\u001b[49m\u001b[43m)\u001b[49m\n",
      "File \u001b[1;32mc:\\Python310\\lib\\site-packages\\pandas\\core\\apply.py:1123\u001b[0m, in \u001b[0;36mSeriesApply.apply\u001b[1;34m(self)\u001b[0m\n\u001b[0;32m   1120\u001b[0m     \u001b[38;5;28;01mreturn\u001b[39;00m \u001b[38;5;28mself\u001b[39m\u001b[38;5;241m.\u001b[39mapply_str()\n\u001b[0;32m   1122\u001b[0m \u001b[38;5;66;03m# self.f is Callable\u001b[39;00m\n\u001b[1;32m-> 1123\u001b[0m \u001b[38;5;28;01mreturn\u001b[39;00m \u001b[38;5;28;43mself\u001b[39;49m\u001b[38;5;241;43m.\u001b[39;49m\u001b[43mapply_standard\u001b[49m\u001b[43m(\u001b[49m\u001b[43m)\u001b[49m\n",
      "File \u001b[1;32mc:\\Python310\\lib\\site-packages\\pandas\\core\\apply.py:1174\u001b[0m, in \u001b[0;36mSeriesApply.apply_standard\u001b[1;34m(self)\u001b[0m\n\u001b[0;32m   1172\u001b[0m     \u001b[38;5;28;01melse\u001b[39;00m:\n\u001b[0;32m   1173\u001b[0m         values \u001b[38;5;241m=\u001b[39m obj\u001b[38;5;241m.\u001b[39mastype(\u001b[38;5;28mobject\u001b[39m)\u001b[38;5;241m.\u001b[39m_values\n\u001b[1;32m-> 1174\u001b[0m         mapped \u001b[38;5;241m=\u001b[39m \u001b[43mlib\u001b[49m\u001b[38;5;241;43m.\u001b[39;49m\u001b[43mmap_infer\u001b[49m\u001b[43m(\u001b[49m\n\u001b[0;32m   1175\u001b[0m \u001b[43m            \u001b[49m\u001b[43mvalues\u001b[49m\u001b[43m,\u001b[49m\n\u001b[0;32m   1176\u001b[0m \u001b[43m            \u001b[49m\u001b[43mf\u001b[49m\u001b[43m,\u001b[49m\n\u001b[0;32m   1177\u001b[0m \u001b[43m            \u001b[49m\u001b[43mconvert\u001b[49m\u001b[38;5;241;43m=\u001b[39;49m\u001b[38;5;28;43mself\u001b[39;49m\u001b[38;5;241;43m.\u001b[39;49m\u001b[43mconvert_dtype\u001b[49m\u001b[43m,\u001b[49m\n\u001b[0;32m   1178\u001b[0m \u001b[43m        \u001b[49m\u001b[43m)\u001b[49m\n\u001b[0;32m   1180\u001b[0m \u001b[38;5;28;01mif\u001b[39;00m \u001b[38;5;28mlen\u001b[39m(mapped) \u001b[38;5;129;01mand\u001b[39;00m \u001b[38;5;28misinstance\u001b[39m(mapped[\u001b[38;5;241m0\u001b[39m], ABCSeries):\n\u001b[0;32m   1181\u001b[0m     \u001b[38;5;66;03m# GH#43986 Need to do list(mapped) in order to get treated as nested\u001b[39;00m\n\u001b[0;32m   1182\u001b[0m     \u001b[38;5;66;03m#  See also GH#25959 regarding EA support\u001b[39;00m\n\u001b[0;32m   1183\u001b[0m     \u001b[38;5;28;01mreturn\u001b[39;00m obj\u001b[38;5;241m.\u001b[39m_constructor_expanddim(\u001b[38;5;28mlist\u001b[39m(mapped), index\u001b[38;5;241m=\u001b[39mobj\u001b[38;5;241m.\u001b[39mindex)\n",
      "File \u001b[1;32mc:\\Python310\\lib\\site-packages\\pandas\\_libs\\lib.pyx:2924\u001b[0m, in \u001b[0;36mpandas._libs.lib.map_infer\u001b[1;34m()\u001b[0m\n",
      "\u001b[1;31mTypeError\u001b[0m: object of type 'float' has no len()"
     ]
    }
   ],
   "source": [
    "test_data['text_length'] = test_data['Text'].apply(len)\n",
    "test_data['correct_prediction'] = pred_emotions == true_emotions\n",
    "\n",
    "bins = [0, 50, 100, 150, 200, 300, 500, 1000, 10000]\n",
    "test_data['length_bin'] = pd.cut(test_data['text_length'], bins=bins)\n",
    "accuracy_by_length = test_data.groupby('length_bin')['correct_prediction'].mean()\n",
    "\n",
    "plt.figure(figsize=(12, 6))\n",
    "accuracy_by_length.plot(kind='bar')\n",
    "plt.title('Model Accuracy by Text Length')\n",
    "plt.xlabel('Text Length')\n",
    "plt.ylabel('Accuracy')\n",
    "plt.xticks(rotation=45)\n",
    "plt.tight_layout()\n",
    "plt.show()\n",
    "\n",
    "samples_by_length = test_data.groupby('length_bin').size()\n",
    "plt.figure(figsize=(12, 6))\n",
    "samples_by_length.plot(kind='bar')\n",
    "plt.title('Number of Samples by Text Length')\n",
    "plt.xlabel('Text Length')\n",
    "plt.ylabel('Count')\n",
    "plt.xticks(rotation=45)\n",
    "plt.tight_layout()\n",
    "plt.show()"
   ]
  },
  {
   "cell_type": "markdown",
   "id": "c61e4b02",
   "metadata": {},
   "source": [
    "## Visualize Attention Weights\n",
    "\n"
   ]
  },
  {
   "cell_type": "code",
   "execution_count": null,
   "id": "68072510",
   "metadata": {},
   "outputs": [],
   "source": [
    "def visualize_attention(text, tokenizer, model):\n",
    "    inputs = tokenizer(text, return_tensors=\"pt\", padding=True, truncation=True, max_length=MAX_LENGTH)\n",
    "    \n",
    "    with torch.no_grad():\n",
    "        outputs = model(**inputs, output_attentions=True)\n",
    "        attentions = outputs.attentions\n",
    "    \n",
    "    tokens = tokenizer.convert_ids_to_tokens(inputs['input_ids'][0])\n",
    "    \n",
    "    if attentions:\n",
    "        last_layer_attention = attentions[-1][0].mean(dim=0).cpu().numpy()\n",
    "        \n",
    "        plt.figure(figsize=(12, 10))\n",
    "        sns.heatmap(last_layer_attention, xticklabels=tokens, yticklabels=tokens, cmap=\"viridis\")\n",
    "        plt.title(f\"Attention Weights for: {text[:50]}...\")\n",
    "        plt.tight_layout()\n",
    "        plt.show()\n",
    "    else:\n",
    "        print(\"Model does not provide attention weights\")\n",
    "\n",
    "try:\n",
    "    examples_for_attention = [\n",
    "        \"I am so happy today, everything is wonderful!\",\n",
    "        \"I'm absolutely furious about the way they treated me.\"\n",
    "    ]\n",
    "    \n",
    "    for example in examples_for_attention:\n",
    "        visualize_attention(example, tokenizer, model)\n",
    "except:\n",
    "    print(\"This model architecture doesn't support attention visualization directly\")"
   ]
  }
 ],
 "metadata": {
  "kernelspec": {
   "display_name": "Python 3",
   "language": "python",
   "name": "python3"
  },
  "language_info": {
   "codemirror_mode": {
    "name": "ipython",
    "version": 3
   },
   "file_extension": ".py",
   "mimetype": "text/x-python",
   "name": "python",
   "nbconvert_exporter": "python",
   "pygments_lexer": "ipython3",
   "version": "3.10.6"
  }
 },
 "nbformat": 4,
 "nbformat_minor": 5
}
